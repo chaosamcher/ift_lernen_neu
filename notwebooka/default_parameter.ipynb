{
 "cells": [
  {
   "metadata": {},
   "cell_type": "markdown",
   "source": [
    "## Default-Parameter\n",
    "\n",
    "Die folgende Funktion erzeugt einen String, in dem die Benutzerin an der Konsole gegrüßt wird."
   ]
  },
  {
   "metadata": {
    "ExecuteTime": {
     "end_time": "2025-03-09T08:29:52.098268619Z",
     "start_time": "2025-03-09T08:29:52.048273493Z"
    }
   },
   "cell_type": "code",
   "source": "fun greet(name: String) = \"Hallo \" + name",
   "outputs": [],
   "execution_count": 35
  },
  {
   "metadata": {
    "ExecuteTime": {
     "end_time": "2025-03-09T08:29:52.215734370Z",
     "start_time": "2025-03-09T08:29:52.108908521Z"
    }
   },
   "cell_type": "code",
   "source": "greet(\"Anna\")",
   "outputs": [
    {
     "data": {
      "text/plain": [
       "Hallo Anna"
      ]
     },
     "execution_count": 36,
     "metadata": {},
     "output_type": "execute_result"
    }
   ],
   "execution_count": 36
  },
  {
   "metadata": {},
   "cell_type": "markdown",
   "source": "Wenn der Name der Benutzerin nicht bekannt ist, kann die Funktion folgendermaßen aufgerufen werden."
  },
  {
   "metadata": {
    "ExecuteTime": {
     "end_time": "2025-03-09T08:29:52.339392283Z",
     "start_time": "2025-03-09T08:29:52.247017925Z"
    }
   },
   "cell_type": "code",
   "source": "greet(\"Benutzerin\")",
   "outputs": [
    {
     "data": {
      "text/plain": [
       "Hallo Benutzerin"
      ]
     },
     "execution_count": 37,
     "metadata": {},
     "output_type": "execute_result"
    }
   ],
   "execution_count": 37
  },
  {
   "metadata": {},
   "cell_type": "markdown",
   "source": "Wir können die Funktion aber auch mit einem Default-Parameter ergänzen."
  },
  {
   "metadata": {
    "ExecuteTime": {
     "end_time": "2025-03-09T08:29:52.437071032Z",
     "start_time": "2025-03-09T08:29:52.348427994Z"
    }
   },
   "cell_type": "code",
   "source": "fun greet(name: String = \"Benutzerin\") = \"Hallo \" + name",
   "outputs": [],
   "execution_count": 38
  },
  {
   "metadata": {},
   "cell_type": "markdown",
   "source": "Dieser wird verwendet, wenn für den Parameter kein Argument übergeben wurde."
  },
  {
   "metadata": {
    "ExecuteTime": {
     "end_time": "2025-03-09T08:29:52.523614346Z",
     "start_time": "2025-03-09T08:29:52.444865879Z"
    }
   },
   "cell_type": "code",
   "source": "greet()",
   "outputs": [
    {
     "data": {
      "text/plain": [
       "Hallo Benutzerin"
      ]
     },
     "execution_count": 39,
     "metadata": {},
     "output_type": "execute_result"
    }
   ],
   "execution_count": 39
  },
  {
   "metadata": {},
   "cell_type": "markdown",
   "source": [
    "## Benannte Argumente\n",
    "\n",
    "Wir können auch mehrere Parameter mit Default-Werten nutzen."
   ]
  },
  {
   "metadata": {
    "ExecuteTime": {
     "end_time": "2025-03-09T08:29:52.714297393Z",
     "start_time": "2025-03-09T08:29:52.534957751Z"
    }
   },
   "cell_type": "code",
   "source": [
    "fun greet(name: String = \"Benutzerin\", friendly: Boolean = false) = \"Hallo \" + (if (friendly) \"liebe \" else \"\") + name\n",
    "greet()"
   ],
   "outputs": [
    {
     "data": {
      "text/plain": [
       "Hallo Benutzerin"
      ]
     },
     "execution_count": 40,
     "metadata": {},
     "output_type": "execute_result"
    }
   ],
   "execution_count": 40
  },
  {
   "metadata": {},
   "cell_type": "markdown",
   "source": "Es ist jetzt möglich, nur für die ersten Parameter Werte zu übergeben."
  },
  {
   "metadata": {
    "ExecuteTime": {
     "end_time": "2025-03-09T08:29:52.899691184Z",
     "start_time": "2025-03-09T08:29:52.759352218Z"
    }
   },
   "cell_type": "code",
   "source": "greet(\"Lisa\")",
   "outputs": [
    {
     "data": {
      "text/plain": [
       "Hallo Lisa"
      ]
     },
     "execution_count": 41,
     "metadata": {},
     "output_type": "execute_result"
    }
   ],
   "execution_count": 41
  },
  {
   "metadata": {},
   "cell_type": "markdown",
   "source": "Wenn wir beim ersten Parameter den Standardwert verwenden wollen und beim zweiten Parameter einen anderen Wert nutzen wollen, müssen wir benannte Argumente verwenden."
  },
  {
   "metadata": {
    "ExecuteTime": {
     "end_time": "2025-03-09T08:29:53.101347676Z",
     "start_time": "2025-03-09T08:29:52.973433468Z"
    }
   },
   "cell_type": "code",
   "source": "greet(friendly = true)\n",
   "outputs": [
    {
     "data": {
      "text/plain": [
       "Hallo liebe Benutzerin"
      ]
     },
     "execution_count": 42,
     "metadata": {},
     "output_type": "execute_result"
    }
   ],
   "execution_count": 42
  }
 ],
 "metadata": {
  "kernelspec": {
   "display_name": "Kotlin",
   "language": "kotlin",
   "name": "kotlin"
  },
  "language_info": {
   "name": "kotlin",
   "version": "1.9.23",
   "mimetype": "text/x-kotlin",
   "file_extension": ".kt",
   "pygments_lexer": "kotlin",
   "codemirror_mode": "text/x-kotlin",
   "nbconvert_exporter": ""
  }
 },
 "nbformat": 4,
 "nbformat_minor": 0
}
