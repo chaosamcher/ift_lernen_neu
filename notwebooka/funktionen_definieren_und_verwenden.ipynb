{
 "cells": [
  {
   "metadata": {},
   "cell_type": "markdown",
   "source": [
    "# Funktionen\n",
    "\n",
    "## Motivation\n",
    "\n",
    "Die folgende Matheaufgabe können wir einfach in der Shell lösen\n",
    "\n",
    "**Mathematikaufgabe 1**. *Für die englischen Längeneinheiten Fuß und\n",
    "Yard gilt:*\n",
    "\n",
    "-   *Ein Yard sind $3$ Fuß*\n",
    "\n",
    "*Wie viel sind $\\,7$ Yard in Fuß und wie viel sind $\\,19$ Yard in Fuß?*\n",
    "\n",
    "**Lösung 1**."
   ]
  },
  {
   "cell_type": "code",
   "metadata": {
    "collapsed": true,
    "ExecuteTime": {
     "end_time": "2025-04-15T10:46:21.697372602Z",
     "start_time": "2025-04-15T10:46:21.583202469Z"
    }
   },
   "source": "3 * 7",
   "outputs": [
    {
     "data": {
      "text/plain": [
       "21"
      ]
     },
     "execution_count": 1,
     "metadata": {},
     "output_type": "execute_result"
    }
   ],
   "execution_count": 1
  },
  {
   "metadata": {
    "ExecuteTime": {
     "end_time": "2025-04-15T10:46:21.795084415Z",
     "start_time": "2025-04-15T10:46:21.711041300Z"
    }
   },
   "cell_type": "code",
   "source": "3 * 19",
   "outputs": [
    {
     "data": {
      "text/plain": [
       "57"
      ]
     },
     "execution_count": 2,
     "metadata": {},
     "output_type": "execute_result"
    }
   ],
   "execution_count": 2
  },
  {
   "metadata": {},
   "cell_type": "markdown",
   "source": [
    "\n",
    "Die Lösung funktioniert zwar. Es gibt jedoch ein paar Probleme mit dem\n",
    "Code.\n",
    "\n",
    "-   Wenn wir den Code später ohne die Aufgabe lesen, wissen wir\n",
    "    höchstwahrscheinlich nicht, was wir berechnen wollten.\n",
    "\n",
    "-   Die Multiplikation mit $3$ um eine Länge in Yard in eine Länge in\n",
    "    Fuß umzurechnen taucht zweimal auf. Wenn wir nach der Rechnung\n",
    "    feststellen würden, dass ein Yard tatsächlich $4$ Fuß sind, müssen\n",
    "    wir den Code an beiden Stellen ändern.\n",
    "\n",
    "Beide Probleme kann man mithilfe von Funktion vermeiden.\n",
    "\n",
    "## Grundlegendes zu Funktionen\n",
    "\n",
    "Eine Funktion kann man sich als eine Maschine vorstellen, die je nach\n",
    "*Input* (*Argument*) einen entsprechenden *Output* (*Funktionswert*)\n",
    "produziert. Wenn der Name der Funktion $g$ ist, bezeichnet man für einen\n",
    "*Input* $x$ den dazugehörigen *Output* als $g(x)$. Die\n",
    "Funktionsgleichung gibt an, wie sich der *Output* aus dem *Input*\n",
    "berechnen lässt.\n",
    "\n",
    "<figure id=\"fig: example\" style=\"text-align:center;\">\n",
    "<img src=\"functionmachine-colour.svg\" style=\"width:20.0%\" />\n",
    "<figcaption>Funktionsmaschine</figcaption>\n",
    "</figure>\n",
    "\n",
    "Die Funktionsmaschine der Funktion $g$ mit der Funktionsgleichung\n",
    "$g(x) = 3 \\cdot x$ nimmt eine beliebige Zahl als *Input* und gibt das\n",
    "Produkt dieser Zahl mit $3$ zurück. Wenn z.B. der *Input* die Zahl $4$\n",
    "ist, kann man den *Output* berechnen, indem man $4$ in den Funktionsterm\n",
    "an der Stelle von $x$ einsetzt. Das Ergebnis ist dann\n",
    "$g(4) = 3 \\cdot 4 = 12$.\n",
    "\n",
    "<figure style=\"text-align:center;\">\n",
    "<img src=\"funktionsaufruf_g_4.svg\" style=\"width:20.0%; background-color:white;\" />\n",
    "\n",
    "<figcaption>Berechnung von <span\n",
    "class=\"math inline\"><em>g</em>(4)</span></figcaption>\n",
    "</figure>\n",
    "\n",
    "## Funktionen definieren und aufrufen\n",
    "\n",
    "Die Funktion $g$ steht gerade für die Umrechnung von Yard in Fuß. Wir\n",
    "wollen diese also in Kotlin (mit einem besser lesbaren Namen)\n",
    "implementieren. Dies ist folgendermaßen möglich:\n"
   ]
  },
  {
   "metadata": {
    "ExecuteTime": {
     "end_time": "2025-04-15T10:46:21.968546489Z",
     "start_time": "2025-04-15T10:46:21.846087833Z"
    }
   },
   "cell_type": "code",
   "source": "fun yardToFeet(lengthInYard: Int): Int = 3 * lengthInYard",
   "outputs": [],
   "execution_count": 3
  },
  {
   "metadata": {},
   "cell_type": "markdown",
   "source": [
    "\n",
    "<figure style=\"text-align:center;\">\n",
    "<img src=\"skizze_syntax_funktionen.svg\" style=\"width:40.0%; background-color:white;\" />\n",
    "\n",
    "\n",
    "<figcaption>Definition der Funktion <code\n",
    "class=\"sourceCode kotlin\">yardToFeet</code></figcaption>\n",
    "</figure>\n",
    "\n",
    "Anschließend kann sie folgendermaßen im Code aufgerufen werden:"
   ]
  },
  {
   "metadata": {
    "ExecuteTime": {
     "end_time": "2025-04-15T10:46:22.045186466Z",
     "start_time": "2025-04-15T10:46:21.977188890Z"
    }
   },
   "cell_type": "code",
   "source": "yardToFeet(7)",
   "outputs": [
    {
     "data": {
      "text/plain": [
       "21"
      ]
     },
     "execution_count": 4,
     "metadata": {},
     "output_type": "execute_result"
    }
   ],
   "execution_count": 4
  },
  {
   "metadata": {
    "ExecuteTime": {
     "end_time": "2025-04-15T10:46:22.124483666Z",
     "start_time": "2025-04-15T10:46:22.054744098Z"
    }
   },
   "cell_type": "code",
   "source": "yardToFeet(19)",
   "outputs": [
    {
     "data": {
      "text/plain": [
       "57"
      ]
     },
     "execution_count": 5,
     "metadata": {},
     "output_type": "execute_result"
    }
   ],
   "execution_count": 5
  },
  {
   "metadata": {},
   "cell_type": "markdown",
   "source": [
    "1.  Eine Funktionsdefinition beginnt immer mit dem Schlüsselwort `fun`.\n",
    "\n",
    "2.  Dahinter steht der Name der Funktion (hier: `yardToFeet`). Für die Namen von Funktionen gelten dieselben Regeln wie für die\n",
    "Namen von Variablen.\n",
    "\n",
    "3.  Das `lengthInYard` in der runden Klammer ist ein Platzhalter\n",
    "    (*Parameter*) für einen konkreten Wert (Argument), der beim Aufruf\n",
    "    übergeben werden muss. Mit `: Int` wird angegeben, dass beim\n",
    "    Funktionsaufruf für diesen *Parameter* ein *Integer* übergeben\n",
    "    werden muss. Z.B. werden in den Funktionsaufrufen oben die *Integer*\n",
    "    `7` und `19` übergeben.\n",
    "\n",
    "4.  Auch hinter der schließenden runden Klammer steht `: Int`. Hiermit wird angegeben, dass der Rückgabewert der Funktion\n",
    "    immer ein *Integer* ist.\n",
    "\n",
    "5.  Jetzt folgt ein Gleichheitszeichen. Der Teil der Funktionsdefinition vor diesem Gleichheitszeichen wird *Funktionskopf*\n",
    "    genannt.\n",
    "\n",
    "6.  Dahinter folgt ein *Ausdruck*. Dieser kann den *Parameter* der\n",
    "    Funktion enthalten. Beim Funktionsaufruf wird dieser Parameter durch\n",
    "    den übergebenen *Wert* des *Arguments* ersetzt. Beim Aufruf von\n",
    "    `yardToFeet(7)` wird also in dem *Ausdruck* `3 * lengthInYard`\n",
    "    der *Parameter* `lengthInYard` durch den *Wert* `7` ersetzt. Der\n",
    "    *Ausdruck* `3 * 7` wird dann zu `21` ausgewertet und zurückgegeben.\n",
    "    Anders ausgedrückt, wird der *Ausdruck* `yardToFeet(7)` zu `21`\n",
    "    ausgewertet.\n",
    "\n",
    "\n",
    "## Syntaxfehler\n",
    "\n",
    "In großen Skripten kann es schnell schwer werden, Syntaxfehler zu\n",
    "finden.\n"
   ]
  },
  {
   "metadata": {
    "ExecuteTime": {
     "end_time": "2025-04-15T10:46:22.199585579Z",
     "start_time": "2025-04-15T10:46:22.136190743Z"
    }
   },
   "cell_type": "code",
   "source": [
    "fun double(x: Int): Int = 2 * x\n",
    "\n",
    "fun square(x: Int :Int = x * x"
   ],
   "outputs": [
    {
     "ename": "org.jetbrains.kotlinx.jupyter.exceptions.ReplCompilerException",
     "evalue": "at Cell In[6], line 3, column 14: Type reference expected\nat Cell In[6], line 3, column 31: Expecting comma or ')'\nat Cell In[6], line 3, column 31: Expecting ')'",
     "output_type": "error",
     "traceback": [
      "org.jetbrains.kotlinx.jupyter.exceptions.ReplCompilerException: at Cell In[6], line 3, column 14: Type reference expected",
      "at Cell In[6], line 3, column 31: Expecting comma or ')'",
      "at Cell In[6], line 3, column 31: Expecting ')'",
      "\tat org.jetbrains.kotlinx.jupyter.repl.impl.JupyterCompilerImpl.compileSync(JupyterCompilerImpl.kt:208)",
      "\tat org.jetbrains.kotlinx.jupyter.repl.impl.InternalEvaluatorImpl.eval(InternalEvaluatorImpl.kt:126)",
      "\tat org.jetbrains.kotlinx.jupyter.repl.impl.CellExecutorImpl$execute$1$result$1.invoke(CellExecutorImpl.kt:80)",
      "\tat org.jetbrains.kotlinx.jupyter.repl.impl.CellExecutorImpl$execute$1$result$1.invoke(CellExecutorImpl.kt:78)",
      "\tat org.jetbrains.kotlinx.jupyter.repl.impl.ReplForJupyterImpl.withHost(ReplForJupyterImpl.kt:774)",
      "\tat org.jetbrains.kotlinx.jupyter.repl.impl.CellExecutorImpl.execute-L4Nmkdk(CellExecutorImpl.kt:78)",
      "\tat org.jetbrains.kotlinx.jupyter.repl.execution.CellExecutor$DefaultImpls.execute-L4Nmkdk$default(CellExecutor.kt:13)",
      "\tat org.jetbrains.kotlinx.jupyter.repl.impl.ReplForJupyterImpl.evaluateUserCode-wNURfNM(ReplForJupyterImpl.kt:596)",
      "\tat org.jetbrains.kotlinx.jupyter.repl.impl.ReplForJupyterImpl.evalExImpl(ReplForJupyterImpl.kt:454)",
      "\tat org.jetbrains.kotlinx.jupyter.repl.impl.ReplForJupyterImpl.access$evalExImpl(ReplForJupyterImpl.kt:141)",
      "\tat org.jetbrains.kotlinx.jupyter.repl.impl.ReplForJupyterImpl$evalEx$1.invoke(ReplForJupyterImpl.kt:447)",
      "\tat org.jetbrains.kotlinx.jupyter.repl.impl.ReplForJupyterImpl$evalEx$1.invoke(ReplForJupyterImpl.kt:446)",
      "\tat org.jetbrains.kotlinx.jupyter.repl.impl.ReplForJupyterImpl.withEvalContext(ReplForJupyterImpl.kt:427)",
      "\tat org.jetbrains.kotlinx.jupyter.repl.impl.ReplForJupyterImpl.evalEx(ReplForJupyterImpl.kt:446)",
      "\tat org.jetbrains.kotlinx.jupyter.messaging.IdeCompatibleMessageRequestProcessor$processExecuteRequest$1$response$1$1.invoke(IdeCompatibleMessageRequestProcessor.kt:171)",
      "\tat org.jetbrains.kotlinx.jupyter.messaging.IdeCompatibleMessageRequestProcessor$processExecuteRequest$1$response$1$1.invoke(IdeCompatibleMessageRequestProcessor.kt:170)",
      "\tat org.jetbrains.kotlinx.jupyter.streams.BlockingSubstitutionEngine.withDataSubstitution(SubstitutionEngine.kt:70)",
      "\tat org.jetbrains.kotlinx.jupyter.streams.StreamSubstitutionManager.withSubstitutedStreams(StreamSubstitutionManager.kt:118)",
      "\tat org.jetbrains.kotlinx.jupyter.messaging.IdeCompatibleMessageRequestProcessor.withForkedIn(IdeCompatibleMessageRequestProcessor.kt:347)",
      "\tat org.jetbrains.kotlinx.jupyter.messaging.IdeCompatibleMessageRequestProcessor.access$withForkedIn(IdeCompatibleMessageRequestProcessor.kt:67)",
      "\tat org.jetbrains.kotlinx.jupyter.messaging.IdeCompatibleMessageRequestProcessor$evalWithIO$1$1.invoke(IdeCompatibleMessageRequestProcessor.kt:361)",
      "\tat org.jetbrains.kotlinx.jupyter.streams.BlockingSubstitutionEngine.withDataSubstitution(SubstitutionEngine.kt:70)",
      "\tat org.jetbrains.kotlinx.jupyter.streams.StreamSubstitutionManager.withSubstitutedStreams(StreamSubstitutionManager.kt:118)",
      "\tat org.jetbrains.kotlinx.jupyter.messaging.IdeCompatibleMessageRequestProcessor.withForkedErr(IdeCompatibleMessageRequestProcessor.kt:336)",
      "\tat org.jetbrains.kotlinx.jupyter.messaging.IdeCompatibleMessageRequestProcessor.access$withForkedErr(IdeCompatibleMessageRequestProcessor.kt:67)",
      "\tat org.jetbrains.kotlinx.jupyter.messaging.IdeCompatibleMessageRequestProcessor$evalWithIO$1.invoke(IdeCompatibleMessageRequestProcessor.kt:360)",
      "\tat org.jetbrains.kotlinx.jupyter.streams.BlockingSubstitutionEngine.withDataSubstitution(SubstitutionEngine.kt:70)",
      "\tat org.jetbrains.kotlinx.jupyter.streams.StreamSubstitutionManager.withSubstitutedStreams(StreamSubstitutionManager.kt:118)",
      "\tat org.jetbrains.kotlinx.jupyter.messaging.IdeCompatibleMessageRequestProcessor.withForkedOut(IdeCompatibleMessageRequestProcessor.kt:328)",
      "\tat org.jetbrains.kotlinx.jupyter.messaging.IdeCompatibleMessageRequestProcessor.evalWithIO(IdeCompatibleMessageRequestProcessor.kt:359)",
      "\tat org.jetbrains.kotlinx.jupyter.messaging.IdeCompatibleMessageRequestProcessor$processExecuteRequest$1$response$1.invoke(IdeCompatibleMessageRequestProcessor.kt:170)",
      "\tat org.jetbrains.kotlinx.jupyter.messaging.IdeCompatibleMessageRequestProcessor$processExecuteRequest$1$response$1.invoke(IdeCompatibleMessageRequestProcessor.kt:169)",
      "\tat org.jetbrains.kotlinx.jupyter.execution.JupyterExecutorImpl$Task.execute(JupyterExecutorImpl.kt:41)",
      "\tat org.jetbrains.kotlinx.jupyter.execution.JupyterExecutorImpl$executorThread$1.invoke(JupyterExecutorImpl.kt:81)",
      "\tat org.jetbrains.kotlinx.jupyter.execution.JupyterExecutorImpl$executorThread$1.invoke(JupyterExecutorImpl.kt:79)",
      "\tat kotlin.concurrent.ThreadsKt$thread$thread$1.run(Thread.kt:30)",
      ""
     ]
    }
   ],
   "execution_count": 6
  },
  {
   "metadata": {},
   "cell_type": "markdown",
   "source": [
    "\n",
    "Deshalb zeigt Kotlin beim Ausführen genau an, in welcher Zeile der Fehler aufgetreten ist. Danach wird angezeigt, an\n",
    "welcher Stelle welches Zeichen erwartet wurde.\n",
    "\n",
    "## Kommentare\n",
    "\n",
    "Hinter zwei Schrägstrichen (`//`) muss kein korrekter Kotlin-Code stehen."
   ]
  },
  {
   "metadata": {},
   "cell_type": "code",
   "outputs": [],
   "execution_count": null,
   "source": "fun feetToInch(lengthInFeet: Int): Int = 12 * lengthInFeet"
  },
  {
   "metadata": {},
   "cell_type": "markdown",
   "source": "Dies kann genutzt werden, um den Code zu erklären und zu strukturieren.\n"
  }
 ],
 "metadata": {
  "kernelspec": {
   "display_name": "Kotlin",
   "language": "kotlin",
   "name": "kotlin"
  },
  "language_info": {
   "name": "kotlin",
   "version": "1.9.23",
   "mimetype": "text/x-kotlin",
   "file_extension": ".kt",
   "pygments_lexer": "kotlin",
   "codemirror_mode": "text/x-kotlin",
   "nbconvert_exporter": ""
  }
 },
 "nbformat": 4,
 "nbformat_minor": 0
}
