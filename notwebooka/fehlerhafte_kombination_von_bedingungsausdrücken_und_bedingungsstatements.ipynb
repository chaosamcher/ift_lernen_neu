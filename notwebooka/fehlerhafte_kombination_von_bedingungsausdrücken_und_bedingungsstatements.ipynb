{
 "cells": [
  {
   "metadata": {},
   "cell_type": "markdown",
   "source": [
    "# Ungenutzte Ausdrücke in if-Statements\n",
    "\n",
    "Die Funktion `greet` soll eine zur Uhrzeit passende Begrüßung ausgeben."
   ]
  },
  {
   "cell_type": "code",
   "metadata": {
    "collapsed": true,
    "ExecuteTime": {
     "end_time": "2025-04-15T12:56:40.831372425Z",
     "start_time": "2025-04-15T12:56:40.736453862Z"
    }
   },
   "source": [
    "fun greet(early:Boolean): String {\n",
    "    var message = \"no message\"\n",
    "    if (early) message = \"good morning\" else \"hello\"\n",
    "    return message\n",
    "}"
   ],
   "outputs": [],
   "execution_count": 2
  },
  {
   "metadata": {},
   "cell_type": "markdown",
   "source": "Falls es noch früh ist, wird `y` auf `\"good morning\"\"` gesetzt und zurückgeben."
  },
  {
   "metadata": {
    "ExecuteTime": {
     "end_time": "2025-04-15T12:56:49.074032190Z",
     "start_time": "2025-04-15T12:56:48.941806823Z"
    }
   },
   "cell_type": "code",
   "source": "greet(true)",
   "outputs": [
    {
     "data": {
      "text/plain": [
       "good morning"
      ]
     },
     "execution_count": 4,
     "metadata": {},
     "output_type": "execute_result"
    }
   ],
   "execution_count": 4
  },
  {
   "metadata": {},
   "cell_type": "markdown",
   "source": "Da hinter `else` keine Zuweisung steht, wird die Variable `message` nicht verändert."
  },
  {
   "metadata": {
    "ExecuteTime": {
     "end_time": "2025-04-15T12:58:13.093032752Z",
     "start_time": "2025-04-15T12:58:13.003779133Z"
    }
   },
   "cell_type": "code",
   "source": "greet(false)",
   "outputs": [
    {
     "data": {
      "text/plain": [
       "no message"
      ]
     },
     "execution_count": 5,
     "metadata": {},
     "output_type": "execute_result"
    }
   ],
   "execution_count": 5
  },
  {
   "metadata": {},
   "cell_type": "markdown",
   "source": "Dies lässt sich korrigieren, indem auch hinter `else` der Wert von `message` angepasst wird."
  },
  {
   "metadata": {
    "ExecuteTime": {
     "end_time": "2025-04-15T13:02:09.616728494Z",
     "start_time": "2025-04-15T13:02:09.486112821Z"
    }
   },
   "cell_type": "code",
   "source": [
    "fun greet(early:Boolean): String {\n",
    "    var message = \"no message\"\n",
    "    if (early) message = \"good morning\" else message = \"hello\"\n",
    "    return message\n",
    "}\n",
    "greet(false)"
   ],
   "outputs": [
    {
     "data": {
      "text/plain": [
       "hello"
      ]
     },
     "execution_count": 8,
     "metadata": {},
     "output_type": "execute_result"
    }
   ],
   "execution_count": 8
  },
  {
   "metadata": {},
   "cell_type": "markdown",
   "source": "Alternativ kann auch eine Zuweisung mit einem `if`-Ausdruck verwendet werden."
  },
  {
   "metadata": {
    "ExecuteTime": {
     "end_time": "2025-04-15T13:03:00.764087564Z",
     "start_time": "2025-04-15T13:03:00.657012149Z"
    }
   },
   "cell_type": "code",
   "source": [
    "fun greet(early: Boolean): String {\n",
    "    var message = \"no message\"\n",
    "    message = if (early)  \"good morning\" else \"hello\"\n",
    "    return message\n",
    "}\n",
    "greet(false)"
   ],
   "outputs": [
    {
     "data": {
      "text/plain": [
       "hello"
      ]
     },
     "execution_count": 9,
     "metadata": {},
     "output_type": "execute_result"
    }
   ],
   "execution_count": 9
  },
  {
   "metadata": {},
   "cell_type": "markdown",
   "source": [
    "Hier steht vor und nach dem `else` keine Zuweisung. Das ist aber kein Problem, da der Wert des gesamten Ausdrucks `if (early) \"good morning\" else \"hello\"`\n",
    "in `message` gespeichert wird."
   ]
  }
 ],
 "metadata": {
  "kernelspec": {
   "display_name": "Kotlin",
   "language": "kotlin",
   "name": "kotlin"
  },
  "language_info": {
   "name": "kotlin",
   "version": "1.9.23",
   "mimetype": "text/x-kotlin",
   "file_extension": ".kt",
   "pygments_lexer": "kotlin",
   "codemirror_mode": "text/x-kotlin",
   "nbconvert_exporter": ""
  }
 },
 "nbformat": 4,
 "nbformat_minor": 0
}
