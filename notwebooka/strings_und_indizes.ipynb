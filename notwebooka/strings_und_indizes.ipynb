{
 "cells": [
  {
   "metadata": {},
   "cell_type": "markdown",
   "source": [
    "\n",
    "# Indizes\n",
    "\n",
    "Wenn wir die\n",
    "Zeichen eines *Strings* von $0 $ beginnend durchnummerieren, steht\n",
    "unter jedem Zeichen eine Zahl, die *Index* genannt wird.\n",
    "\n",
    "<figure style = \"text-align:center\" >\n",
    "<img src=\"grafik_array_hello.svg\" style=\"width:35.0%; ; background-color:white;\" />\n",
    "\n",
    "<figcaption>String <code\n",
    "class=\"sourceCode kotlin\"><span class=\"co\">&#39;hello&#39;</span></code>\n",
    "mit Indizes</figcaption>\n",
    "</figure>\n",
    "\n",
    "Mit einem *String* und dem *Index* eines Zeichens in diesem *String*\n",
    "können wir auf das Zeichen zugreifenden. Hierfür schreiben wir den\n",
    "*Index* in eckigen Klammern hinter den *String*. Das Resultat ist **kein** *String*, sondern ein *Character*."
   ],
   "id": "0f4af808-6297-4dc3-828b-0f02ed43b2db"
  },
  {
   "metadata": {
    "jupyter": {
     "is_executing": true
    }
   },
   "cell_type": "code",
   "outputs": [],
   "execution_count": null,
   "source": "\"hello\"[0]",
   "id": "8b408759-980b-49d8-8943-2bc7259fedd7"
  },
  {
   "metadata": {
    "ExecuteTime": {
     "end_time": "2025-03-29T06:52:39.724342298Z",
     "start_time": "2025-03-29T06:52:39.623048590Z"
    }
   },
   "cell_type": "code",
   "outputs": [
    {
     "data": {
      "text/plain": [
       "l"
      ]
     },
     "execution_count": 2,
     "metadata": {},
     "output_type": "execute_result"
    }
   ],
   "execution_count": 2,
   "source": "\"hello\"[2]",
   "id": "3c000bd7"
  },
  {
   "metadata": {},
   "cell_type": "markdown",
   "source": [
    "Das funktioniert natürlich auch, wenn einer der *Ausdrücke* vor oder in\n",
    "der Klammer zuerst ausgewertet werden muss."
   ],
   "id": "12ffda44-3f95-403a-baa5-ffa6059127ff"
  },
  {
   "metadata": {
    "ExecuteTime": {
     "end_time": "2024-12-28T16:41:27.758055516Z",
     "start_time": "2024-12-28T16:41:27.681523527Z"
    }
   },
   "cell_type": "code",
   "outputs": [
    {
     "data": {
      "text/plain": [
       "y"
      ]
     },
     "execution_count": 8,
     "metadata": {},
     "output_type": "execute_result"
    }
   ],
   "execution_count": 8,
   "source": "(\"good\" + \"bye\")[3 + 2]",
   "id": "fb164766-2be4-40ff-ada1-19be79a5c1c8"
  },
  {
   "metadata": {
    "ExecuteTime": {
     "end_time": "2024-12-28T16:41:27.846370512Z",
     "start_time": "2024-12-28T16:41:27.765487235Z"
    }
   },
   "cell_type": "code",
   "outputs": [],
   "execution_count": 9,
   "source": "val x = \"hello\"",
   "id": "70b912a2"
  },
  {
   "metadata": {
    "ExecuteTime": {
     "end_time": "2024-12-28T16:41:27.940889295Z",
     "start_time": "2024-12-28T16:41:27.855311147Z"
    }
   },
   "cell_type": "code",
   "outputs": [
    {
     "data": {
      "text/plain": [
       "l"
      ]
     },
     "execution_count": 10,
     "metadata": {},
     "output_type": "execute_result"
    }
   ],
   "execution_count": 10,
   "source": "x[3]",
   "id": "5a6f0f00"
  },
  {
   "metadata": {},
   "cell_type": "markdown",
   "source": [
    "Die *Indizes* des *Strings* `\"hello\"` gehen nur von $0$ bis $4$. Wenn\n",
    "wir einen *Index* über $4$ verwenden, erhalten wir einen `StringIndexOutOfBoundsException`."
   ],
   "id": "200726a6-d674-483a-91f6-8f00642a363c"
  },
  {
   "metadata": {
    "ExecuteTime": {
     "end_time": "2024-12-28T16:41:28.178192720Z",
     "start_time": "2024-12-28T16:41:27.952615548Z"
    }
   },
   "cell_type": "code",
   "outputs": [
    {
     "ename": "java.lang.StringIndexOutOfBoundsException",
     "evalue": "Index 5 out of bounds for length 5",
     "output_type": "error",
     "traceback": [
      "java.lang.StringIndexOutOfBoundsException: Index 5 out of bounds for length 5",
      "\tat java.base/jdk.internal.util.Preconditions$1.apply(Preconditions.java:55)",
      "\tat java.base/jdk.internal.util.Preconditions$1.apply(Preconditions.java:52)",
      "\tat java.base/jdk.internal.util.Preconditions$4.apply(Preconditions.java:213)",
      "\tat java.base/jdk.internal.util.Preconditions$4.apply(Preconditions.java:210)",
      "\tat java.base/jdk.internal.util.Preconditions.outOfBounds(Preconditions.java:98)",
      "\tat java.base/jdk.internal.util.Preconditions.outOfBoundsCheckIndex(Preconditions.java:106)",
      "\tat java.base/jdk.internal.util.Preconditions.checkIndex(Preconditions.java:302)",
      "\tat java.base/java.lang.String.checkIndex(String.java:4832)",
      "\tat java.base/java.lang.StringLatin1.charAt(StringLatin1.java:46)",
      "\tat java.base/java.lang.String.charAt(String.java:1555)",
      "\tat Line_13_jupyter.<init>(Line_13.jupyter.kts:1) at Cell In[11], line 1",
      "\tat java.base/jdk.internal.reflect.DirectConstructorHandleAccessor.newInstance(DirectConstructorHandleAccessor.java:62)",
      "\tat java.base/java.lang.reflect.Constructor.newInstanceWithCaller(Constructor.java:502)",
      "\tat java.base/java.lang.reflect.Constructor.newInstance(Constructor.java:486)",
      "\tat kotlin.script.experimental.jvm.BasicJvmScriptEvaluator.evalWithConfigAndOtherScriptsResults(BasicJvmScriptEvaluator.kt:122)",
      "\tat kotlin.script.experimental.jvm.BasicJvmScriptEvaluator.invoke$suspendImpl(BasicJvmScriptEvaluator.kt:48)",
      "\tat kotlin.script.experimental.jvm.BasicJvmScriptEvaluator.invoke(BasicJvmScriptEvaluator.kt)",
      "\tat kotlin.script.experimental.jvm.BasicJvmReplEvaluator.eval(BasicJvmReplEvaluator.kt:49)",
      "\tat org.jetbrains.kotlinx.jupyter.repl.impl.InternalEvaluatorImpl$eval$resultWithDiagnostics$1.invokeSuspend(InternalEvaluatorImpl.kt:137)",
      "\tat kotlin.coroutines.jvm.internal.BaseContinuationImpl.resumeWith(ContinuationImpl.kt:33)",
      "\tat kotlinx.coroutines.DispatchedTask.run(DispatchedTask.kt:104)",
      "\tat kotlinx.coroutines.EventLoopImplBase.processNextEvent(EventLoop.common.kt:277)",
      "\tat kotlinx.coroutines.BlockingCoroutine.joinBlocking(Builders.kt:95)",
      "\tat kotlinx.coroutines.BuildersKt__BuildersKt.runBlocking(Builders.kt:69)",
      "\tat kotlinx.coroutines.BuildersKt.runBlocking(Unknown Source)",
      "\tat kotlinx.coroutines.BuildersKt__BuildersKt.runBlocking$default(Builders.kt:48)",
      "\tat kotlinx.coroutines.BuildersKt.runBlocking$default(Unknown Source)",
      "\tat org.jetbrains.kotlinx.jupyter.repl.impl.InternalEvaluatorImpl.eval(InternalEvaluatorImpl.kt:137)",
      "\tat org.jetbrains.kotlinx.jupyter.repl.impl.CellExecutorImpl$execute$1$result$1.invoke(CellExecutorImpl.kt:80)",
      "\tat org.jetbrains.kotlinx.jupyter.repl.impl.CellExecutorImpl$execute$1$result$1.invoke(CellExecutorImpl.kt:78)",
      "\tat org.jetbrains.kotlinx.jupyter.repl.impl.ReplForJupyterImpl.withHost(ReplForJupyterImpl.kt:774)",
      "\tat org.jetbrains.kotlinx.jupyter.repl.impl.CellExecutorImpl.execute-L4Nmkdk(CellExecutorImpl.kt:78)",
      "\tat org.jetbrains.kotlinx.jupyter.repl.execution.CellExecutor$DefaultImpls.execute-L4Nmkdk$default(CellExecutor.kt:13)",
      "\tat org.jetbrains.kotlinx.jupyter.repl.impl.ReplForJupyterImpl.evaluateUserCode-wNURfNM(ReplForJupyterImpl.kt:596)",
      "\tat org.jetbrains.kotlinx.jupyter.repl.impl.ReplForJupyterImpl.evalExImpl(ReplForJupyterImpl.kt:454)",
      "\tat org.jetbrains.kotlinx.jupyter.repl.impl.ReplForJupyterImpl.access$evalExImpl(ReplForJupyterImpl.kt:141)",
      "\tat org.jetbrains.kotlinx.jupyter.repl.impl.ReplForJupyterImpl$evalEx$1.invoke(ReplForJupyterImpl.kt:447)",
      "\tat org.jetbrains.kotlinx.jupyter.repl.impl.ReplForJupyterImpl$evalEx$1.invoke(ReplForJupyterImpl.kt:446)",
      "\tat org.jetbrains.kotlinx.jupyter.repl.impl.ReplForJupyterImpl.withEvalContext(ReplForJupyterImpl.kt:427)",
      "\tat org.jetbrains.kotlinx.jupyter.repl.impl.ReplForJupyterImpl.evalEx(ReplForJupyterImpl.kt:446)",
      "\tat org.jetbrains.kotlinx.jupyter.messaging.IdeCompatibleMessageRequestProcessor$processExecuteRequest$1$response$1$1.invoke(IdeCompatibleMessageRequestProcessor.kt:171)",
      "\tat org.jetbrains.kotlinx.jupyter.messaging.IdeCompatibleMessageRequestProcessor$processExecuteRequest$1$response$1$1.invoke(IdeCompatibleMessageRequestProcessor.kt:170)",
      "\tat org.jetbrains.kotlinx.jupyter.streams.BlockingSubstitutionEngine.withDataSubstitution(SubstitutionEngine.kt:70)",
      "\tat org.jetbrains.kotlinx.jupyter.streams.StreamSubstitutionManager.withSubstitutedStreams(StreamSubstitutionManager.kt:118)",
      "\tat org.jetbrains.kotlinx.jupyter.messaging.IdeCompatibleMessageRequestProcessor.withForkedIn(IdeCompatibleMessageRequestProcessor.kt:347)",
      "\tat org.jetbrains.kotlinx.jupyter.messaging.IdeCompatibleMessageRequestProcessor.access$withForkedIn(IdeCompatibleMessageRequestProcessor.kt:67)",
      "\tat org.jetbrains.kotlinx.jupyter.messaging.IdeCompatibleMessageRequestProcessor$evalWithIO$1$1.invoke(IdeCompatibleMessageRequestProcessor.kt:361)",
      "\tat org.jetbrains.kotlinx.jupyter.streams.BlockingSubstitutionEngine.withDataSubstitution(SubstitutionEngine.kt:70)",
      "\tat org.jetbrains.kotlinx.jupyter.streams.StreamSubstitutionManager.withSubstitutedStreams(StreamSubstitutionManager.kt:118)",
      "\tat org.jetbrains.kotlinx.jupyter.messaging.IdeCompatibleMessageRequestProcessor.withForkedErr(IdeCompatibleMessageRequestProcessor.kt:336)",
      "\tat org.jetbrains.kotlinx.jupyter.messaging.IdeCompatibleMessageRequestProcessor.access$withForkedErr(IdeCompatibleMessageRequestProcessor.kt:67)",
      "\tat org.jetbrains.kotlinx.jupyter.messaging.IdeCompatibleMessageRequestProcessor$evalWithIO$1.invoke(IdeCompatibleMessageRequestProcessor.kt:360)",
      "\tat org.jetbrains.kotlinx.jupyter.streams.BlockingSubstitutionEngine.withDataSubstitution(SubstitutionEngine.kt:70)",
      "\tat org.jetbrains.kotlinx.jupyter.streams.StreamSubstitutionManager.withSubstitutedStreams(StreamSubstitutionManager.kt:118)",
      "\tat org.jetbrains.kotlinx.jupyter.messaging.IdeCompatibleMessageRequestProcessor.withForkedOut(IdeCompatibleMessageRequestProcessor.kt:328)",
      "\tat org.jetbrains.kotlinx.jupyter.messaging.IdeCompatibleMessageRequestProcessor.evalWithIO(IdeCompatibleMessageRequestProcessor.kt:359)",
      "\tat org.jetbrains.kotlinx.jupyter.messaging.IdeCompatibleMessageRequestProcessor$processExecuteRequest$1$response$1.invoke(IdeCompatibleMessageRequestProcessor.kt:170)",
      "\tat org.jetbrains.kotlinx.jupyter.messaging.IdeCompatibleMessageRequestProcessor$processExecuteRequest$1$response$1.invoke(IdeCompatibleMessageRequestProcessor.kt:169)",
      "\tat org.jetbrains.kotlinx.jupyter.execution.JupyterExecutorImpl$Task.execute(JupyterExecutorImpl.kt:41)",
      "\tat org.jetbrains.kotlinx.jupyter.execution.JupyterExecutorImpl$executorThread$1.invoke(JupyterExecutorImpl.kt:81)",
      "\tat org.jetbrains.kotlinx.jupyter.execution.JupyterExecutorImpl$executorThread$1.invoke(JupyterExecutorImpl.kt:79)",
      "\tat kotlin.concurrent.ThreadsKt$thread$thread$1.run(Thread.kt:30)",
      "",
      "java.lang.StringIndexOutOfBoundsException: Index 5 out of bounds for length 5",
      "at Cell In[11], line 1",
      ""
     ]
    }
   ],
   "execution_count": 11,
   "source": "\"hello\"[5]",
   "id": "580df561-e517-4d86-81dd-65444b5b1052"
  },
  {
   "metadata": {},
   "cell_type": "markdown",
   "source": [
    "## Länge eines Strings bestimmen\n",
    "\n",
    "Die Länge eines *Strings* kann man bestimmen, wenn man hinter diesen einen Punkt und `length` schreibt."
   ],
   "id": "349fee1a-aa52-49c2-b41a-a81131669f7f"
  },
  {
   "metadata": {
    "ExecuteTime": {
     "end_time": "2024-12-28T16:42:12.401442829Z",
     "start_time": "2024-12-28T16:42:12.326598855Z"
    }
   },
   "cell_type": "code",
   "outputs": [
    {
     "data": {
      "text/plain": [
       "5"
      ]
     },
     "execution_count": 13,
     "metadata": {},
     "output_type": "execute_result"
    }
   ],
   "execution_count": 13,
   "source": "\"hello\".length",
   "id": "bfcafd64-fb99-4b94-9610-a0a219a507c0"
  },
  {
   "metadata": {},
   "cell_type": "markdown",
   "source": [
    "Da die *Indizes* eines *Strings* bei $0$ anfangen, ist der höchste\n",
    "*Index* um eins kleiner als die Länge.\n",
    "\n",
    "## Iteration über Indizes\n",
    "\n",
    "Wir können mit einer `for`-*Schleife* über die *Indizes* eines *Strings*\n",
    "iterieren. Wenn wir alle Indizes durchlaufen wollen, schreiben wir in der Klammer als untere Grenze der *Zahlenreihe* $0$ und als obere Grenze eins weniger als die Länge des *Strings*.\n",
    "Dies entspricht gerade den *Indizes* des *Strings*.\n"
   ],
   "id": "ad2f9542-5666-4cb7-be2a-9ff8e6bcede3"
  },
  {
   "metadata": {
    "ExecuteTime": {
     "end_time": "2024-12-28T16:42:12.572038242Z",
     "start_time": "2024-12-28T16:42:12.412693378Z"
    }
   },
   "cell_type": "code",
   "outputs": [
    {
     "name": "stdout",
     "output_type": "stream",
     "text": [
      "0\n",
      "1\n",
      "2\n",
      "3\n",
      "4\n"
     ]
    }
   ],
   "execution_count": 14,
   "source": [
    "for (i in 0..\"hello\".length - 1){\n",
    "    println(i)\n",
    "}"
   ],
   "id": "555cd5a3"
  },
  {
   "metadata": {
    "ExecuteTime": {
     "end_time": "2024-12-28T16:47:04.856774633Z",
     "start_time": "2024-12-28T16:47:04.763176414Z"
    }
   },
   "cell_type": "code",
   "outputs": [
    {
     "name": "stdout",
     "output_type": "stream",
     "text": [
      "3\n",
      "4\n",
      "5\n",
      "6\n"
     ]
    }
   ],
   "execution_count": 23,
   "source": [
    "for (i in 3..\"good bye\".length - 2){\n",
    "    println(i)\n",
    "}"
   ],
   "id": "b161328b"
  },
  {
   "metadata": {},
   "cell_type": "markdown",
   "source": [
    "\n",
    "Im *Schleifenkörper* können wir die *Schleifenvariable* nutzen, um\n",
    "nacheinander auf die Zeichen im *String* zuzugreifen.\n"
   ],
   "id": "5597bb5e"
  },
  {
   "metadata": {
    "ExecuteTime": {
     "end_time": "2024-12-28T16:46:46.759036412Z",
     "start_time": "2024-12-28T16:46:46.660996004Z"
    }
   },
   "cell_type": "code",
   "outputs": [
    {
     "name": "stdout",
     "output_type": "stream",
     "text": [
      "d\n",
      " \n",
      "b\n",
      "y\n"
     ]
    }
   ],
   "execution_count": 22,
   "source": [
    "val goodBye = \"good bye\"\n",
    "for (i in 3..goodBye.length - 2){\n",
    "    println(goodBye[i])\n",
    "}"
   ],
   "id": "345ee69a"
  },
  {
   "metadata": {},
   "cell_type": "markdown",
   "source": [
    "# Eigenschaften\n",
    "\n",
    "Um die Länge eines Strings zu erhalten, haben wir hinter die Liste einen Punkt und `length` geschrieben."
   ],
   "id": "589ea551add8720f"
  },
  {
   "metadata": {
    "ExecuteTime": {
     "end_time": "2024-12-29T18:33:37.547698989Z",
     "start_time": "2024-12-29T18:33:37.414399596Z"
    }
   },
   "cell_type": "code",
   "outputs": [
    {
     "data": {
      "text/plain": [
       "5"
      ]
     },
     "execution_count": 1,
     "metadata": {},
     "output_type": "execute_result"
    }
   ],
   "execution_count": 1,
   "source": "\"hello\".length",
   "id": "ab4cbdc5e9ecd417"
  },
  {
   "metadata": {},
   "cell_type": "markdown",
   "source": "Hierbei handelt es sich nicht um eine *Methode* (sonst wären Klammern notwendig), sondern um eine *Eigenschaft*. Der Zugriff auf eine *Eigenschaft* erfolgt immer, mit einem Punkt und dem Namen der *Eigenschaft* hinter dem Element.",
   "id": "c76a8bea423d5ea4"
  }
 ],
 "metadata": {
  "kernelspec": {
   "display_name": "Kotlin",
   "language": "kotlin",
   "name": "kotlin"
  },
  "language_info": {
   "codemirror_mode": "text/x-kotlin",
   "file_extension": ".kt",
   "mimetype": "text/x-kotlin",
   "name": "kotlin",
   "nbconvert_exporter": "",
   "pygments_lexer": "kotlin",
   "version": "1.9.23"
  }
 },
 "nbformat": 4,
 "nbformat_minor": 5
}
