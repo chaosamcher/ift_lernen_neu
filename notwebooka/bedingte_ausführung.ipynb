{
 "cells": [
  {
   "metadata": {},
   "cell_type": "markdown",
   "source": [
    "# Bedingte Ausführung\n",
    "\n",
    "## Grundlagen\n",
    "\n",
    "Wir haben bis bisher drei Arten von *Statements* kennengelernt. Dies waren:\n",
    "\n",
    "1. Zuweisungsstatements. Mit diesen haben wir *Variablen* initialisiert oder den Wert einer Variablen geändert.\n",
    "\n",
    "2. Statements, die aus einem einzigen Ausdruck bestehen. Bei der Ausführung des Statements wird der Ausdruck ausgewertet. Diese zu verwenden ergab bis jetzt nur dann Sinn, wenn in dem Ausdruck eine Funktion aufgerufen wird, die einen Effekt hat. Beispiele hierfür waren `println` und `assert`. Alle Funktionen in denen wir direkt oder indirekt eine dieser Funktionen verwenden, haben auch einen Effekt.\n",
    "3. `return`-*Statements*. Bei diesen wird der *Wert* des *Ausdrucks* hinter `return` von der Funktion, in der das `return`-*Statement* steht, zurückgegeben. Anschließend kann dieser *Wert* dann in der Funktion genutzt werden, in der der Aufruf steht.\n",
    "    "
   ]
  },
  {
   "metadata": {},
   "cell_type": "markdown",
   "source": [
    "Bei Aufruf eines Programms werden alle *Statements* in der `main`-Funktion abgearbeitet. Bei einem Funktionsaufruf in der `main`-Funktion oder einer weiteren Funktion werden alle *Statements* in der aufgerufenen Funktion ausgeführt.\n",
    "\n",
    "## Statements in if-else-Ausdrücken\n",
    "\n",
    "Wir können in einem `if`-`else`-*Ausdruck* auch Blöcke mit *Statements* statt *Ausdrücken* verwenden und somit von einer Bedingung abhängig machen, welche *Statements* ausgeführt werden sollen."
   ]
  },
  {
   "metadata": {
    "ExecuteTime": {
     "end_time": "2024-12-29T13:57:28.093442064Z",
     "start_time": "2024-12-29T13:57:27.907413805Z"
    }
   },
   "cell_type": "code",
   "source": [
    "fun juggleMotivationBetter(count: Int): Unit {\n",
    "    if (count >= 15) {\n",
    "        println(\"Great,\")\n",
    "        println(\"add another ball!\")\n",
    "    } else {\n",
    "        println(\"Try again,\")\n",
    "        println(\"until you got 15 repetitions!\")\n",
    "    }\n",
    "}"
   ],
   "outputs": [],
   "execution_count": 4
  },
  {
   "metadata": {
    "ExecuteTime": {
     "end_time": "2024-12-29T13:57:28.157239135Z",
     "start_time": "2024-12-29T13:57:28.105763911Z"
    }
   },
   "cell_type": "code",
   "source": "juggleMotivationBetter(15)",
   "outputs": [
    {
     "name": "stdout",
     "output_type": "stream",
     "text": [
      "Great,\n",
      "add another ball!\n"
     ]
    }
   ],
   "execution_count": 5
  },
  {
   "metadata": {
    "ExecuteTime": {
     "end_time": "2024-12-29T13:57:28.239993272Z",
     "start_time": "2024-12-29T13:57:28.167921390Z"
    }
   },
   "cell_type": "code",
   "source": "juggleMotivationBetter(14)",
   "outputs": [
    {
     "name": "stdout",
     "output_type": "stream",
     "text": [
      "Try again,\n",
      "until you got 15 repetitions!\n"
     ]
    }
   ],
   "execution_count": 6
  },
  {
   "metadata": {},
   "cell_type": "markdown",
   "source": "Bei den `if`-`else`-*Ausdrücken* im letzten Kapitel war es immer notwendig `else` zu verwenden. Dies stellt sicher, dass der *Ausdruck* in jedem Fall einen *Wert* hat. Wenn wir aber in einem `if`-`else`/-*Statement* nur *Statements* verwenden, ist dies nicht nötig."
  },
  {
   "cell_type": "code",
   "metadata": {
    "collapsed": true,
    "ExecuteTime": {
     "end_time": "2024-12-29T13:57:28.357519771Z",
     "start_time": "2024-12-29T13:57:28.250882055Z"
    }
   },
   "source": [
    "fun juggleMotivation(count: Int): Unit {\n",
    "    if (count >= 15) {\n",
    "        println(\"Great,\")\n",
    "        println(\"add another ball!\")\n",
    "    }\n",
    "}"
   ],
   "outputs": [],
   "execution_count": 7
  },
  {
   "metadata": {
    "ExecuteTime": {
     "end_time": "2024-12-29T13:57:28.412227282Z",
     "start_time": "2024-12-29T13:57:28.370906541Z"
    }
   },
   "cell_type": "code",
   "source": "juggleMotivation(16)",
   "outputs": [
    {
     "name": "stdout",
     "output_type": "stream",
     "text": [
      "Great,\n",
      "add another ball!\n"
     ]
    }
   ],
   "execution_count": 8
  },
  {
   "metadata": {},
   "cell_type": "markdown",
   "source": "Wenn keine Bedingung erfüllt ist, werden einfach keine `Statements` ausgeführt."
  },
  {
   "metadata": {
    "ExecuteTime": {
     "end_time": "2024-12-29T13:57:28.506642692Z",
     "start_time": "2024-12-29T13:57:28.441758171Z"
    }
   },
   "cell_type": "code",
   "source": "juggleMotivation(14)",
   "outputs": [],
   "execution_count": 9
  },
  {
   "metadata": {},
   "cell_type": "markdown",
   "source": [
    "# Statements in when-Ausdrücken\n",
    "\n",
    "Die Verwendung von *Statements* und das Weglassen von `else` ist auch in `when`-Ausdrücke möglich."
   ]
  },
  {
   "metadata": {
    "ExecuteTime": {
     "end_time": "2024-12-29T13:57:28.758912368Z",
     "start_time": "2024-12-29T13:57:28.516199378Z"
    }
   },
   "cell_type": "code",
   "source": [
    "fun juggleMotivationMuchBetter(count: Int): Unit {\n",
    "    when {\n",
    "        count >= 15 -> {\n",
    "            println(\"Great,\")\n",
    "            println(\"add another ball!\")\n",
    "        }\n",
    "\n",
    "        count >= 3 -> {\n",
    "            println(\"Try again,\")\n",
    "            println(\"until you got 15 repetitions!\")\n",
    "        }\n",
    "    }\n",
    "}    "
   ],
   "outputs": [],
   "execution_count": 10
  },
  {
   "metadata": {},
   "cell_type": "markdown",
   "source": [
    "## Ausdrücke und Statement-Blöcke im selben Bedingungsausdruck\n",
    "\n",
    "Statement-Blöcke können in Bedingungsausdrücken auch wie Ausdrücke verwendet werden. Hierfür muss in der letzten Zeile des Statement-Blocks ein Ausdruck stehen.\n",
    "Dadurch ist es möglich in einem Zweig eines Bedingungsausdrucks einen Statement-Block und im anderen Zweig einen Ausdruck zu verwenden. "
   ]
  },
  {
   "metadata": {
    "ExecuteTime": {
     "end_time": "2024-12-29T13:57:29.055226443Z",
     "start_time": "2024-12-29T13:57:28.815746771Z"
    }
   },
   "cell_type": "code",
   "source": [
    "fun price(amount: Int, pricePerUnit: Int, discount: Boolean): Int =\n",
    "    if (discount) {\n",
    "        val reducedPricePerUnit = pricePerUnit - 1\n",
    "        reducedPricePerUnit * amount // Ausdruck in der letzten Zeile des Statemen-Blocks\n",
    "    } else pricePerUnit * pricePerUnit"
   ],
   "outputs": [],
   "execution_count": 11
  },
  {
   "metadata": {
    "ExecuteTime": {
     "end_time": "2024-12-29T13:57:29.381489503Z",
     "start_time": "2024-12-29T13:57:29.108985424Z"
    }
   },
   "cell_type": "code",
   "source": "price(5, 4, true)",
   "outputs": [
    {
     "data": {
      "text/plain": [
       "15"
      ]
     },
     "execution_count": 12,
     "metadata": {},
     "output_type": "execute_result"
    }
   ],
   "execution_count": 12
  },
  {
   "metadata": {
    "ExecuteTime": {
     "end_time": "2024-12-29T13:57:29.647506125Z",
     "start_time": "2024-12-29T13:57:29.491239897Z"
    }
   },
   "cell_type": "code",
   "source": "price(5, 4, false)",
   "outputs": [
    {
     "data": {
      "text/plain": [
       "16"
      ]
     },
     "execution_count": 13,
     "metadata": {},
     "output_type": "execute_result"
    }
   ],
   "execution_count": 13
  },
  {
   "metadata": {},
   "cell_type": "markdown",
   "source": [
    "## Vorteile von Bedingungsausdrücken\n",
    "\n",
    "In der folgenden Funktion werden Bedingungsstatements genutzt, um anzuzeigen, wie viele Punkte ein Spieler hat."
   ]
  },
  {
   "metadata": {
    "ExecuteTime": {
     "end_time": "2024-12-29T13:57:29.953847744Z",
     "start_time": "2024-12-29T13:57:29.782776035Z"
    }
   },
   "cell_type": "code",
   "source": [
    "fun pointOrPoints(x: Int): String {\n",
    "    if (x == 1) {\n",
    "        return \"You have\" + x.toString() + \"point\"\n",
    "    }\n",
    "    else {\n",
    "        return \"You have\" + x.toString() + \"points\"\n",
    "    }\n",
    "}"
   ],
   "outputs": [],
   "execution_count": 14
  },
  {
   "metadata": {},
   "cell_type": "markdown",
   "source": "Dabei fällt auf, dass die Zeilen `3` und `6` fast identisch sind. Der einzige Unterschied ist das zusätzliche `s`. Die Doppelung des Codes kann durch das Anlegen einer lokalen Variable vermieden werden."
  },
  {
   "metadata": {
    "ExecuteTime": {
     "end_time": "2024-12-29T13:57:30.077068769Z",
     "start_time": "2024-12-29T13:57:29.967286149Z"
    }
   },
   "cell_type": "code",
   "source": [
    "fun pointOrPoints(x: Int): String {\n",
    "    var sOrEmpty = \"s\"\n",
    "    if (x == 1) {\n",
    "        sOrEmpty = \"\"\n",
    "    }\n",
    "    return \"You have\" + x.toString() + \"point\" + sOrEmpty\n",
    "\n",
    "}"
   ],
   "outputs": [],
   "execution_count": 15
  },
  {
   "metadata": {},
   "cell_type": "markdown",
   "source": "Wenn Bedingungsausdrücke genutzt werden, kann die Fallunterscheidung direkt in dem Ausdruck hinter `return` stehen."
  },
  {
   "metadata": {
    "ExecuteTime": {
     "end_time": "2024-12-29T13:57:30.147106772Z",
     "start_time": "2024-12-29T13:57:30.084737205Z"
    }
   },
   "cell_type": "code",
   "source": [
    "fun pointOrPoints(x: Int): String {\n",
    "    return \"You have\" + x.toString() + \"point\" + if (x == 1) \"\" else \"s\"\n",
    "}"
   ],
   "outputs": [],
   "execution_count": 16
  },
  {
   "metadata": {},
   "cell_type": "markdown",
   "source": "Als zweites Beispiel schauen wir uns eine Funktion an, die berechnet, wie viele Punkte eine Fußballmannschaft hat.\n"
  },
  {
   "metadata": {
    "ExecuteTime": {
     "end_time": "2024-12-29T13:57:30.232696048Z",
     "start_time": "2024-12-29T13:57:30.156221856Z"
    }
   },
   "cell_type": "code",
   "source": [
    "fun computePoints(results: List<Char>): Int {\n",
    "    var acc = 0\n",
    "    for (result in results){\n",
    "        when (result){\n",
    "            'W' -> acc = acc + 3\n",
    "            'D' -> acc = acc + 1\n",
    "        }\n",
    "    }\n",
    "    return  acc\n",
    "}"
   ],
   "outputs": [],
   "execution_count": 17
  },
  {
   "metadata": {},
   "cell_type": "markdown",
   "source": "Der Code `acc = acc +` kommt in Zeile 5 und Zeile 6 vor. Wenn wir Ausdrücke statt den Statements verwenden, reicht es `acc = acc +`  ein Mal vor dem `when`-Ausdruck zu schreiben."
  },
  {
   "metadata": {
    "ExecuteTime": {
     "end_time": "2024-12-29T13:57:30.407882210Z",
     "start_time": "2024-12-29T13:57:30.243657529Z"
    }
   },
   "cell_type": "code",
   "source": [
    "fun computePoints(results: List<Char>): Int {\n",
    "    var acc = 0\n",
    "    for (result in results){\n",
    "        acc = acc + when (result){\n",
    "            'W' -> 3\n",
    "            'D' -> 1\n",
    "            else -> 0\n",
    "        }\n",
    "    }\n",
    "    return  acc\n",
    "}"
   ],
   "outputs": [],
   "execution_count": 18
  },
  {
   "metadata": {},
   "cell_type": "markdown",
   "source": "Dies ist vor allem dann sinnvoll, wenn viele Alternativen unterschieden werden. Ein weiterer Vorteil ist, dass die Fallunterscheidung einfach in eine Hilfsfunktion ausgelagert werden kann"
  },
  {
   "metadata": {
    "ExecuteTime": {
     "end_time": "2024-12-29T13:57:30.511407566Z",
     "start_time": "2024-12-29T13:57:30.416547487Z"
    }
   },
   "cell_type": "code",
   "source": [
    "fun resultToPoints(result: Char): Int = when (result){\n",
    "    'W' -> 3\n",
    "    'D' -> 1\n",
    "    else -> 0\n",
    "}\n",
    "\n",
    "fun computePoints(results: List<Char>): Int {\n",
    "    var acc = 0\n",
    "    for (result in results){\n",
    "        acc = acc + resultToPoints(result)\n",
    "    }\n",
    "    return  acc\n",
    "}"
   ],
   "outputs": [],
   "execution_count": 19
  }
 ],
 "metadata": {
  "kernelspec": {
   "display_name": "Kotlin",
   "language": "kotlin",
   "name": "kotlin"
  },
  "language_info": {
   "name": "kotlin",
   "version": "1.9.23",
   "mimetype": "text/x-kotlin",
   "file_extension": ".kt",
   "pygments_lexer": "kotlin",
   "codemirror_mode": "text/x-kotlin",
   "nbconvert_exporter": ""
  }
 },
 "nbformat": 4,
 "nbformat_minor": 0
}
