{
 "cells": [
  {
   "cell_type": "markdown",
   "id": "1880a179-88d2-4236-bdd1-6b517f05de7e",
   "metadata": {},
   "source": [
    "# While-Schleifen\n",
    "\n",
    "## Motivation\n",
    "\n",
    "Bei `for`-*Schleifen* wird vor der ersten Wiederholung bestimmt, wie oft\n",
    "der *Schleifenkörper* wiederholt werden soll. Nicht immer ist vor der\n",
    "Ausführung bekannt, wie oft die *Statements* wiederholt werden sollen.\n",
    "\n",
    "Wenn wir z.B. alle Zweierpotenzen unter $50$ aufzählen wollen, ist\n",
    "uns erst klar, wie viele es davon gibt, wenn wir mit der Aufzählung\n",
    "fertig sind. Für solche Fälle gibt es sogenannte `while`-*Schleifen*.\n",
    "Sie werden so lange durchgeführt, wie eine angegebene Bedingung erfüllt\n",
    "ist.\n",
    "\n",
    "# Grundlagen\n",
    "\n",
    "Bei einer `while`-*Schleife* schreibt man im *Schleifenkopf* hinter dem\n",
    " Schlüsselwort *while* in Klammern eine Bedingung / einen\n",
    "*booleschen Ausdruck*. Anschließend folgt in geschweiften Klammern der *Schleifenkörper*. Dieser\n",
    "besteht aus den *Statements*, die wiederholt werden sollen.\n",
    "\n",
    "Die Ausführung der `while`-*Schleife* ist mit dem `if`-*Statement*\n",
    "vergleichbar. Zunächst wird die Bedingung geprüft. Wenn diese nicht\n",
    "erfüllt ist, wird der *Schleifenkörper* übersprungen.\n",
    "\n",
    "Wenn sie erfüllt ist, wird der *Schleifenkörper* ausgeführt. Im\n",
    "Gegensatz zu einem `if`-*Statement* springt der Interpreter danach\n",
    "zurück in die Zeile mit der Bedingung und prüft erneut, ob der\n",
    "*Schleifenkörper* ausgeführt werden soll. Der *Schleifenkörper* wird\n",
    "also so lange (englisch: *while*) wiederholt, wie die Bedingung erfüllt\n",
    "ist."
   ]
  },
  {
   "cell_type": "code",
   "id": "af9830b2-6339-4d9e-beec-aa6ec756528d",
   "metadata": {
    "ExecuteTime": {
     "end_time": "2024-08-22T15:08:27.835466745Z",
     "start_time": "2024-08-22T15:08:27.492421673Z"
    }
   },
   "source": [
    "var power = 1\n",
    "while (power < 50){\n",
    "    println(power)\n",
    "    power = power * 2\n",
    "}"
   ],
   "outputs": [
    {
     "name": "stdout",
     "output_type": "stream",
     "text": [
      "1\n",
      "2\n",
      "4\n",
      "8\n",
      "16\n",
      "32\n"
     ]
    }
   ],
   "execution_count": 1
  }
 ],
 "metadata": {
  "kernelspec": {
   "display_name": "Kotlin",
   "language": "kotlin",
   "name": "kotlin"
  },
  "language_info": {
   "name": "kotlin"
  }
 },
 "nbformat": 4,
 "nbformat_minor": 5
}
