{
 "cells": [
  {
   "cell_type": "markdown",
   "id": "aba2dd97-4ed5-457e-9914-92495ebf8c8d",
   "metadata": {},
   "source": [
    "# Bedingte Ausführung\n",
    "\n",
    "## Grundlegendes und Motivation\n",
    "\n",
    "Wir haben schon viele *Operatoren* kennengelernt, mit denen zwei *Ausdrücke* zu einem *Ausdruck* verknüpft werden können. Bei der Auswertung eines solchen *Ausdrucks* werden zuerst beide Teilausdrücke ausgewertet. Anschließend wird die *Operation*, für die der *Operator* steht, auf die Ergebnisse angewandt. In diesem Kapitel lernen wir mit `if`-`else`-*Ausdrücken* eine Möglichkeit kennen, drei *Ausdrücke* miteinander zu verknüpfen.\n",
    "\n",
    "## if-else-Ausdrücke\n",
    "\n",
    "Bei einem `if`-`else`-*Ausdruck* schreibt man hinter das Schlüsselwort `if` in Klammern einen *booleschen Ausdruck*. Anschließend folgen ein *Ausdruck*, das Schlüsselwort `else` und ein weiter *Ausdruck*. Diese beiden *Ausdrücke* vor und nach `else` müssen denselben *Typ haben*. Wenn der *boolesche Ausdruck* zu `true` ausgewertet wird, wird der gesamte *Ausdruck* zum *Wert* des *Ausdrucks* direkt hinter der Klammer ausgewertet."
   ]
  },
  {
   "cell_type": "code",
   "id": "848c82eb-2acc-40f8-9282-7a558e2963a5",
   "metadata": {
    "ExecuteTime": {
     "end_time": "2025-04-06T06:16:07.344562285Z",
     "start_time": "2025-04-06T06:16:07.268618212Z"
    }
   },
   "source": "if (4 == 4) \"hello \" + \"guys\" else \"good\" + \"bye\"",
   "outputs": [
    {
     "data": {
      "text/plain": [
       "hello guys"
      ]
     },
     "execution_count": 8,
     "metadata": {},
     "output_type": "execute_result"
    }
   ],
   "execution_count": 8
  },
  {
   "metadata": {},
   "cell_type": "markdown",
   "source": "Ansonsten wird der *Ausdruck* zum Wert des *Ausdrucks* hinter `else` ausgewertet.",
   "id": "f89997f6d110ecaa"
  },
  {
   "cell_type": "code",
   "id": "66185345",
   "metadata": {
    "ExecuteTime": {
     "end_time": "2025-04-06T06:16:07.429024568Z",
     "start_time": "2025-04-06T06:16:07.355784425Z"
    }
   },
   "source": "if (4 == 3) \"hello \" + \"guys\" else \"good\" + \"bye\"\n",
   "outputs": [
    {
     "data": {
      "text/plain": [
       "goodbye"
      ]
     },
     "execution_count": 9,
     "metadata": {},
     "output_type": "execute_result"
    }
   ],
   "execution_count": 9
  },
  {
   "metadata": {},
   "cell_type": "markdown",
   "source": "Mit solchen *Ausdrücken* können wir alles machen, was wir bisher mit *Ausdrücken* gemacht haben. Wir können diese z.B. in einem größeren *Ausdruck* verwenden. Auch hier sind Klammern nützlich, um die Reihenfolge der Auswertung zu ändern.",
   "id": "4725e348c4299237"
  },
  {
   "metadata": {
    "ExecuteTime": {
     "end_time": "2025-04-06T06:16:07.527755667Z",
     "start_time": "2025-04-06T06:16:07.450289023Z"
    }
   },
   "cell_type": "code",
   "source": "(if (true || false) \"hello \"  else \"bye \") + \"world\"\n",
   "id": "958a7dd30c06b517",
   "outputs": [
    {
     "data": {
      "text/plain": [
       "hello world"
      ]
     },
     "execution_count": 10,
     "metadata": {},
     "output_type": "execute_result"
    }
   ],
   "execution_count": 10
  },
  {
   "metadata": {},
   "cell_type": "markdown",
   "source": "Der *Wert* eines  `if`-`else`-*Ausdrucks* kann in einer *Variablen* gespeichert werden.",
   "id": "861c44d014bdfbde"
  },
  {
   "metadata": {
    "ExecuteTime": {
     "end_time": "2025-04-06T06:16:07.615428111Z",
     "start_time": "2025-04-06T06:16:07.544512543Z"
    }
   },
   "cell_type": "code",
   "source": [
    "val message = (if (true || false) \"hello \"  else \"bye \") + \"world\"\n",
    "message"
   ],
   "id": "dd9c5f3cea9c4a5f",
   "outputs": [
    {
     "data": {
      "text/plain": [
       "hello world"
      ]
     },
     "execution_count": 11,
     "metadata": {},
     "output_type": "execute_result"
    }
   ],
   "execution_count": 11
  },
  {
   "metadata": {},
   "cell_type": "markdown",
   "source": [
    "Wir können  `if`-`else`-*Ausdrücke* auch nutzen um den *Rückgabewert* einer Funktion von einer Bedingung abhängig zu machen.\n",
    "\n",
    " "
   ],
   "id": "ac2a6beba9471aec"
  },
  {
   "metadata": {
    "ExecuteTime": {
     "end_time": "2025-04-06T06:16:07.702357868Z",
     "start_time": "2025-04-06T06:16:07.625151975Z"
    }
   },
   "cell_type": "code",
   "source": "fun juggleMotivation(count: Int): String = if (count >= 15) \"Great, add another ball!\" else \"Try again until you complete 15 repetitions!\"",
   "id": "e5458ad03d6fab0c",
   "outputs": [],
   "execution_count": 12
  },
  {
   "metadata": {
    "ExecuteTime": {
     "end_time": "2025-04-06T06:16:07.807797526Z",
     "start_time": "2025-04-06T06:16:07.714267058Z"
    }
   },
   "cell_type": "code",
   "source": "juggleMotivation(14)",
   "id": "13de352e98b7ff4",
   "outputs": [
    {
     "data": {
      "text/plain": [
       "Try again until you complete 15 repetitions!"
      ]
     },
     "execution_count": 13,
     "metadata": {},
     "output_type": "execute_result"
    }
   ],
   "execution_count": 13
  },
  {
   "metadata": {
    "ExecuteTime": {
     "end_time": "2025-04-06T06:16:07.968141349Z",
     "start_time": "2025-04-06T06:16:07.890768233Z"
    }
   },
   "cell_type": "code",
   "source": "juggleMotivation(15)",
   "id": "3a12405e2fbc109",
   "outputs": [
    {
     "data": {
      "text/plain": [
       "Great, add another ball!"
      ]
     },
     "execution_count": 14,
     "metadata": {},
     "output_type": "execute_result"
    }
   ],
   "execution_count": 14
  }
 ],
 "metadata": {
  "kernelspec": {
   "display_name": "Kotlin",
   "language": "kotlin",
   "name": "kotlin"
  },
  "language_info": {
   "codemirror_mode": "text/x-kotlin",
   "file_extension": ".kt",
   "mimetype": "text/x-kotlin",
   "name": "kotlin",
   "nbconvert_exporter": "",
   "pygments_lexer": "kotlin",
   "version": "1.9.23"
  }
 },
 "nbformat": 4,
 "nbformat_minor": 5
}
