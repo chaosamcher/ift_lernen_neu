{
 "cells": [
  {
   "cell_type": "markdown",
   "id": "7f46ee4a-00d9-4990-8ff1-5fcdf7dda977",
   "metadata": {},
   "source": [
    "# Listen\n",
    "\n",
    "## Motivation\n",
    "\n",
    "Wir haben gesehen, dass ein *String* aus einzelnen Zeichen besteht,\n",
    "auf die wir zugreifen können. Man sagt auch, dass *Strings*\n",
    "*Container* sind. Es ist auch bei anderen *Datentypen* möglich, mehrere *Werte*\n",
    "in einem *Container* zu speichern. Hierfür verwenden wir sogenannte\n",
    "*Listen*.\n",
    "\n",
    "## Listen sind Werte\n",
    "\n",
    "In einer *Liste* können mehrere *Werte* mit demselben *Typ*\n",
    "abgespeichert werden. *Listen* können wir mit der Funktion `listOf` erzeugen. Dieser übergeben wir in Klammern die Werte, die wir in der Liste speichern wollen."
   ]
  },
  {
   "cell_type": "code",
   "id": "b17616cd-c4f8-4ec6-b322-ffc3f09a69f2",
   "metadata": {
    "ExecuteTime": {
     "end_time": "2025-01-04T14:52:35.138314647Z",
     "start_time": "2025-01-04T14:52:35.048427857Z"
    }
   },
   "source": "listOf(true, false, true)",
   "outputs": [
    {
     "data": {
      "text/plain": [
       "[true, false, true]"
      ]
     },
     "execution_count": 3,
     "metadata": {},
     "output_type": "execute_result"
    }
   ],
   "execution_count": 3
  },
  {
   "metadata": {},
   "cell_type": "markdown",
   "source": "Wenn eine leere Liste erstellt werden soll, muss der Typ angegeben werden.",
   "id": "c1248182ce0fa951"
  },
  {
   "metadata": {
    "ExecuteTime": {
     "end_time": "2025-01-04T14:52:35.255451433Z",
     "start_time": "2025-01-04T14:52:35.153164733Z"
    }
   },
   "cell_type": "code",
   "source": "listOf<Int>()",
   "id": "9c39070d985777fc",
   "outputs": [
    {
     "data": {
      "text/plain": [
       "[]"
      ]
     },
     "execution_count": 4,
     "metadata": {},
     "output_type": "execute_result"
    }
   ],
   "execution_count": 4
  },
  {
   "cell_type": "markdown",
   "id": "295af646-e881-42d1-a016-857c27973d05",
   "metadata": {},
   "source": [
    "*Listen* beinhalten *Werte* und sind selbst wieder *Werte*. Wir können\n",
    "also *Literale* für *Listen* in *Ausdrücken* verwenden. Eine\n",
    "*Operation*, die auf *Listen* definiert ist, ist die Addition. Durch\n",
    "sie werden zwei *Listen* zusammen gefügt."
   ]
  },
  {
   "cell_type": "code",
   "id": "870f4f20-0d05-4dee-8bc7-dee56b846460",
   "metadata": {
    "ExecuteTime": {
     "end_time": "2025-01-04T14:52:35.475407338Z",
     "start_time": "2025-01-04T14:52:35.302747231Z"
    }
   },
   "source": "listOf(true, false) + listOf(true)",
   "outputs": [
    {
     "data": {
      "text/plain": [
       "[true, false, true]"
      ]
     },
     "execution_count": 5,
     "metadata": {},
     "output_type": "execute_result"
    }
   ],
   "execution_count": 5
  },
  {
   "cell_type": "markdown",
   "id": "5237ab1e-9ab1-4945-b888-aea3acb4dbb9",
   "metadata": {},
   "source": [
    "Wir können *Listen* in *Variablen* speichern."
   ]
  },
  {
   "cell_type": "code",
   "id": "dd5c12d4-9574-446a-ac70-3ed9273c15b8",
   "metadata": {
    "ExecuteTime": {
     "end_time": "2025-01-04T14:52:35.618436604Z",
     "start_time": "2025-01-04T14:52:35.487601960Z"
    }
   },
   "source": [
    "val xs = listOf(true, false)\n",
    "xs"
   ],
   "outputs": [
    {
     "data": {
      "text/plain": [
       "[true, false]"
      ]
     },
     "execution_count": 6,
     "metadata": {},
     "output_type": "execute_result"
    }
   ],
   "execution_count": 6
  },
  {
   "cell_type": "markdown",
   "id": "7d03db00-89ae-41d5-ad61-970e8db3f66c",
   "metadata": {},
   "source": [
    "Außerdem können wir Funktionen schreiben, die *Listen* als *Argumente*\n",
    "entgegennehmen, und/oder eine *Liste* zurückgeben."
   ]
  },
  {
   "cell_type": "code",
   "id": "189bc9b2-7d90-4218-be49-f510ec74044b",
   "metadata": {
    "ExecuteTime": {
     "end_time": "2025-01-04T14:52:35.868684879Z",
     "start_time": "2025-01-04T14:52:35.652623497Z"
    }
   },
   "source": "fun repeatThreeTimes(ys:  List<Boolean>) :  List<Boolean> = ys + ys + ys",
   "outputs": [],
   "execution_count": 7
  },
  {
   "cell_type": "code",
   "id": "b3b07316-9601-4f7b-900b-817e1a2e7d49",
   "metadata": {
    "ExecuteTime": {
     "end_time": "2025-01-04T14:52:35.969123235Z",
     "start_time": "2025-01-04T14:52:35.879488966Z"
    }
   },
   "source": "repeatThreeTimes(xs)",
   "outputs": [
    {
     "data": {
      "text/plain": [
       "[true, false, true, false, true, false]"
      ]
     },
     "execution_count": 8,
     "metadata": {},
     "output_type": "execute_result"
    }
   ],
   "execution_count": 8
  },
  {
   "cell_type": "markdown",
   "id": "a8b91d32-1cbf-4a06-b822-1c026bf40519",
   "metadata": {},
   "source": [
    "Bei der *Typannotation* schreibt man `List` und in spitzen Klammern den\n",
    "*Typ* der Elemente in der *Liste*.\n",
    "\n",
    "## Listen als Container\n",
    "\n",
    "In den nächsten Abschnitten werden wir *Listen* als Container\n",
    "benutzen, so wie wir das schon mit *Strings* getan haben.\n",
    "\n",
    "Auch die Elemente einer *Liste* haben *Indizes*, die mit null beginnen.\n",
    "Die können wir nutzen, um auf diese Elemente zuzugreifen.\n",
    "\n",
    "<figure style=\"text-align:center\">\n",
    "<img src=\"grafik_listen.svg\" style=\"width:35.0%; background-color:white;\" />\n",
    "\n",
    "<figcaption><em>Liste</em> <code\n",
    "class=\"sourceCode kotlin\">[<span class=\"va\">true</span>, <span class=\"va\">false</span>, <span class=\"va\">true</span>]</code>\n",
    "mit Indizes</figcaption>\n",
    "</figure>"
   ]
  },
  {
   "cell_type": "code",
   "id": "669980b8",
   "metadata": {
    "ExecuteTime": {
     "end_time": "2025-01-04T14:52:36.084620559Z",
     "start_time": "2025-01-04T14:52:35.981147581Z"
    }
   },
   "source": "listOf(true, false, true)[0]",
   "outputs": [
    {
     "data": {
      "text/plain": [
       "true"
      ]
     },
     "execution_count": 9,
     "metadata": {},
     "output_type": "execute_result"
    }
   ],
   "execution_count": 9
  },
  {
   "cell_type": "code",
   "id": "1b123d0f",
   "metadata": {
    "ExecuteTime": {
     "end_time": "2025-01-04T14:52:36.179268866Z",
     "start_time": "2025-01-04T14:52:36.095443440Z"
    }
   },
   "source": "listOf(true, false, true)[2]",
   "outputs": [
    {
     "data": {
      "text/plain": [
       "true"
      ]
     },
     "execution_count": 10,
     "metadata": {},
     "output_type": "execute_result"
    }
   ],
   "execution_count": 10
  },
  {
   "cell_type": "markdown",
   "id": "ee10c7c3-48a7-4506-b654-60ff9096e0bc",
   "metadata": {},
   "source": [
    "Das funktioniert natürlich auch, wenn einer der *Ausdrücke* vor oder in\n",
    "der Klammer zuerst ausgewertet werden muss."
   ]
  },
  {
   "cell_type": "code",
   "id": "aa73d513-5141-494c-8f5d-4ae72f840f31",
   "metadata": {
    "ExecuteTime": {
     "end_time": "2025-01-04T14:52:36.341542947Z",
     "start_time": "2025-01-04T14:52:36.194472849Z"
    }
   },
   "source": [
    "val ys = listOf(\"hello\", \"how\", \"are\", \"you\")\n",
    "ys[2 + 1]"
   ],
   "outputs": [
    {
     "data": {
      "text/plain": [
       "you"
      ]
     },
     "execution_count": 11,
     "metadata": {},
     "output_type": "execute_result"
    }
   ],
   "execution_count": 11
  },
  {
   "cell_type": "markdown",
   "id": "9f97678b-122f-4d65-ad20-901b68bd68c5",
   "metadata": {},
   "source": [
    "Die *Indizes* der *Liste* `[true, false, true]` gehen nur von $0$ bis\n",
    "$2$. Wenn wir einen *Index* über $2$ verwenden, erhalten wir eine\n",
    "`ArrayIndexOutOfBoundsException`."
   ]
  },
  {
   "cell_type": "code",
   "id": "86d921b7-6edf-4940-8904-d5949bf265a7",
   "metadata": {
    "ExecuteTime": {
     "end_time": "2025-01-04T14:52:36.528571976Z",
     "start_time": "2025-01-04T14:52:36.358001287Z"
    }
   },
   "source": "listOf(true, false, true)[3]",
   "outputs": [
    {
     "ename": "java.lang.ArrayIndexOutOfBoundsException",
     "evalue": "Index 3 out of bounds for length 3",
     "output_type": "error",
     "traceback": [
      "java.lang.ArrayIndexOutOfBoundsException: Index 3 out of bounds for length 3",
      "\tat java.base/java.util.Arrays$ArrayList.get(Arrays.java:4266)",
      "\tat Line_16_jupyter.<init>(Line_16.jupyter.kts:1) at Cell In[12], line 1",
      "\tat java.base/jdk.internal.reflect.DirectConstructorHandleAccessor.newInstance(DirectConstructorHandleAccessor.java:62)",
      "\tat java.base/java.lang.reflect.Constructor.newInstanceWithCaller(Constructor.java:502)",
      "\tat java.base/java.lang.reflect.Constructor.newInstance(Constructor.java:486)",
      "\tat kotlin.script.experimental.jvm.BasicJvmScriptEvaluator.evalWithConfigAndOtherScriptsResults(BasicJvmScriptEvaluator.kt:122)",
      "\tat kotlin.script.experimental.jvm.BasicJvmScriptEvaluator.invoke$suspendImpl(BasicJvmScriptEvaluator.kt:48)",
      "\tat kotlin.script.experimental.jvm.BasicJvmScriptEvaluator.invoke(BasicJvmScriptEvaluator.kt)",
      "\tat kotlin.script.experimental.jvm.BasicJvmReplEvaluator.eval(BasicJvmReplEvaluator.kt:49)",
      "\tat org.jetbrains.kotlinx.jupyter.repl.impl.InternalEvaluatorImpl$eval$resultWithDiagnostics$1.invokeSuspend(InternalEvaluatorImpl.kt:137)",
      "\tat kotlin.coroutines.jvm.internal.BaseContinuationImpl.resumeWith(ContinuationImpl.kt:33)",
      "\tat kotlinx.coroutines.DispatchedTask.run(DispatchedTask.kt:104)",
      "\tat kotlinx.coroutines.EventLoopImplBase.processNextEvent(EventLoop.common.kt:277)",
      "\tat kotlinx.coroutines.BlockingCoroutine.joinBlocking(Builders.kt:95)",
      "\tat kotlinx.coroutines.BuildersKt__BuildersKt.runBlocking(Builders.kt:69)",
      "\tat kotlinx.coroutines.BuildersKt.runBlocking(Unknown Source)",
      "\tat kotlinx.coroutines.BuildersKt__BuildersKt.runBlocking$default(Builders.kt:48)",
      "\tat kotlinx.coroutines.BuildersKt.runBlocking$default(Unknown Source)",
      "\tat org.jetbrains.kotlinx.jupyter.repl.impl.InternalEvaluatorImpl.eval(InternalEvaluatorImpl.kt:137)",
      "\tat org.jetbrains.kotlinx.jupyter.repl.impl.CellExecutorImpl$execute$1$result$1.invoke(CellExecutorImpl.kt:80)",
      "\tat org.jetbrains.kotlinx.jupyter.repl.impl.CellExecutorImpl$execute$1$result$1.invoke(CellExecutorImpl.kt:78)",
      "\tat org.jetbrains.kotlinx.jupyter.repl.impl.ReplForJupyterImpl.withHost(ReplForJupyterImpl.kt:774)",
      "\tat org.jetbrains.kotlinx.jupyter.repl.impl.CellExecutorImpl.execute-L4Nmkdk(CellExecutorImpl.kt:78)",
      "\tat org.jetbrains.kotlinx.jupyter.repl.execution.CellExecutor$DefaultImpls.execute-L4Nmkdk$default(CellExecutor.kt:13)",
      "\tat org.jetbrains.kotlinx.jupyter.repl.impl.ReplForJupyterImpl.evaluateUserCode-wNURfNM(ReplForJupyterImpl.kt:596)",
      "\tat org.jetbrains.kotlinx.jupyter.repl.impl.ReplForJupyterImpl.evalExImpl(ReplForJupyterImpl.kt:454)",
      "\tat org.jetbrains.kotlinx.jupyter.repl.impl.ReplForJupyterImpl.access$evalExImpl(ReplForJupyterImpl.kt:141)",
      "\tat org.jetbrains.kotlinx.jupyter.repl.impl.ReplForJupyterImpl$evalEx$1.invoke(ReplForJupyterImpl.kt:447)",
      "\tat org.jetbrains.kotlinx.jupyter.repl.impl.ReplForJupyterImpl$evalEx$1.invoke(ReplForJupyterImpl.kt:446)",
      "\tat org.jetbrains.kotlinx.jupyter.repl.impl.ReplForJupyterImpl.withEvalContext(ReplForJupyterImpl.kt:427)",
      "\tat org.jetbrains.kotlinx.jupyter.repl.impl.ReplForJupyterImpl.evalEx(ReplForJupyterImpl.kt:446)",
      "\tat org.jetbrains.kotlinx.jupyter.messaging.IdeCompatibleMessageRequestProcessor$processExecuteRequest$1$response$1$1.invoke(IdeCompatibleMessageRequestProcessor.kt:171)",
      "\tat org.jetbrains.kotlinx.jupyter.messaging.IdeCompatibleMessageRequestProcessor$processExecuteRequest$1$response$1$1.invoke(IdeCompatibleMessageRequestProcessor.kt:170)",
      "\tat org.jetbrains.kotlinx.jupyter.streams.BlockingSubstitutionEngine.withDataSubstitution(SubstitutionEngine.kt:70)",
      "\tat org.jetbrains.kotlinx.jupyter.streams.StreamSubstitutionManager.withSubstitutedStreams(StreamSubstitutionManager.kt:118)",
      "\tat org.jetbrains.kotlinx.jupyter.messaging.IdeCompatibleMessageRequestProcessor.withForkedIn(IdeCompatibleMessageRequestProcessor.kt:347)",
      "\tat org.jetbrains.kotlinx.jupyter.messaging.IdeCompatibleMessageRequestProcessor.access$withForkedIn(IdeCompatibleMessageRequestProcessor.kt:67)",
      "\tat org.jetbrains.kotlinx.jupyter.messaging.IdeCompatibleMessageRequestProcessor$evalWithIO$1$1.invoke(IdeCompatibleMessageRequestProcessor.kt:361)",
      "\tat org.jetbrains.kotlinx.jupyter.streams.BlockingSubstitutionEngine.withDataSubstitution(SubstitutionEngine.kt:70)",
      "\tat org.jetbrains.kotlinx.jupyter.streams.StreamSubstitutionManager.withSubstitutedStreams(StreamSubstitutionManager.kt:118)",
      "\tat org.jetbrains.kotlinx.jupyter.messaging.IdeCompatibleMessageRequestProcessor.withForkedErr(IdeCompatibleMessageRequestProcessor.kt:336)",
      "\tat org.jetbrains.kotlinx.jupyter.messaging.IdeCompatibleMessageRequestProcessor.access$withForkedErr(IdeCompatibleMessageRequestProcessor.kt:67)",
      "\tat org.jetbrains.kotlinx.jupyter.messaging.IdeCompatibleMessageRequestProcessor$evalWithIO$1.invoke(IdeCompatibleMessageRequestProcessor.kt:360)",
      "\tat org.jetbrains.kotlinx.jupyter.streams.BlockingSubstitutionEngine.withDataSubstitution(SubstitutionEngine.kt:70)",
      "\tat org.jetbrains.kotlinx.jupyter.streams.StreamSubstitutionManager.withSubstitutedStreams(StreamSubstitutionManager.kt:118)",
      "\tat org.jetbrains.kotlinx.jupyter.messaging.IdeCompatibleMessageRequestProcessor.withForkedOut(IdeCompatibleMessageRequestProcessor.kt:328)",
      "\tat org.jetbrains.kotlinx.jupyter.messaging.IdeCompatibleMessageRequestProcessor.evalWithIO(IdeCompatibleMessageRequestProcessor.kt:359)",
      "\tat org.jetbrains.kotlinx.jupyter.messaging.IdeCompatibleMessageRequestProcessor$processExecuteRequest$1$response$1.invoke(IdeCompatibleMessageRequestProcessor.kt:170)",
      "\tat org.jetbrains.kotlinx.jupyter.messaging.IdeCompatibleMessageRequestProcessor$processExecuteRequest$1$response$1.invoke(IdeCompatibleMessageRequestProcessor.kt:169)",
      "\tat org.jetbrains.kotlinx.jupyter.execution.JupyterExecutorImpl$Task.execute(JupyterExecutorImpl.kt:41)",
      "\tat org.jetbrains.kotlinx.jupyter.execution.JupyterExecutorImpl$executorThread$1.invoke(JupyterExecutorImpl.kt:81)",
      "\tat org.jetbrains.kotlinx.jupyter.execution.JupyterExecutorImpl$executorThread$1.invoke(JupyterExecutorImpl.kt:79)",
      "\tat kotlin.concurrent.ThreadsKt$thread$thread$1.run(Thread.kt:30)",
      "",
      "java.lang.ArrayIndexOutOfBoundsException: Index 3 out of bounds for length 3",
      "at Cell In[12], line 1",
      ""
     ]
    }
   ],
   "execution_count": 12
  },
  {
   "cell_type": "markdown",
   "id": "6983069d-ca8a-434c-93b1-b581ba18be73",
   "metadata": {},
   "source": [
    "## Länge einer Liste bestimmen\n",
    "\n",
    "Die Länge einer *Liste* kann man mit einem Zugriff auf die Eigenschaft `size` bestimmen."
   ]
  },
  {
   "cell_type": "code",
   "id": "4bc26ce6-b9bd-4042-b886-27846daac31d",
   "metadata": {
    "ExecuteTime": {
     "end_time": "2025-01-04T14:52:36.675668469Z",
     "start_time": "2024-08-23T07:13:51.901727545Z"
    }
   },
   "source": "xs.size",
   "outputs": [
    {
     "data": {
      "text/plain": [
       "2"
      ]
     },
     "execution_count": 12,
     "metadata": {},
     "output_type": "execute_result"
    }
   ],
   "execution_count": 12
  },
  {
   "cell_type": "markdown",
   "id": "89b85445-b46d-4220-92d8-894cecd58fa5",
   "metadata": {},
   "source": [
    "Da die *Indizes* einer *Liste* bei $0$ anfangen, ist der höchste *Index*\n",
    "um eins kleiner als die Länge.\n",
    "\n",
    "## Iteration über Listen\n",
    "\n",
    "Wir können mit einer `for`-*Schleife* über die *Indizes* einer *Liste*\n",
    "iterieren. Hierbei schreiben wir in der Klammer die Länge des der\n",
    "*Liste*. Im *Schleifenkörper* können wir die *Zählervariable* nutzen, um\n",
    "nacheinander auf die Buchstaben in der *Liste* zuzugreifen."
   ]
  },
  {
   "cell_type": "code",
   "id": "2d96eb39-e04c-4c9e-ab99-008633972910",
   "metadata": {
    "ExecuteTime": {
     "end_time": "2025-01-04T14:52:36.724141588Z",
     "start_time": "2024-08-23T07:13:52.115122615Z"
    }
   },
   "source": [
    "val xs = listOf(true, false, true)\n",
    "for (i in 0..xs.size -1){\n",
    "    println(xs[i])}"
   ],
   "outputs": [
    {
     "name": "stdout",
     "output_type": "stream",
     "text": [
      "true\n",
      "false\n",
      "true\n"
     ]
    }
   ],
   "execution_count": 13
  },
  {
   "cell_type": "markdown",
   "id": "7b27ae33-d875-4647-aabe-f11dcf6a6672",
   "metadata": {},
   "source": [
    "Wir können die *Zählervariable* auch direkt die Elemente der *Liste*\n",
    "durchlaufen lassen."
   ]
  },
  {
   "cell_type": "code",
   "id": "681075e4-ba9e-4c31-aa28-bcd6d554a347",
   "metadata": {
    "ExecuteTime": {
     "end_time": "2025-01-04T14:52:36.735996299Z",
     "start_time": "2024-08-23T07:13:52.566272427Z"
    }
   },
   "source": [
    "for (x in xs){\n",
    "    println(x)\n",
    "}"
   ],
   "outputs": [
    {
     "name": "stdout",
     "output_type": "stream",
     "text": [
      "true\n",
      "false\n",
      "true\n"
     ]
    }
   ],
   "execution_count": 14
  },
  {
   "cell_type": "markdown",
   "id": "552fa6e0-689a-4120-bfc9-b4e546cc82fe",
   "metadata": {},
   "source": [
    "## Elemente hinzufügen\n",
    "\n",
    "Wenn wir einer *Liste* ein Element hinzufügen wollen, können wir\n",
    "stattdessen auch oft die *Liste* durch eine neue *Liste*, die aus der alten\n",
    "*Liste* und dem neuen Element besteht, ersetzen."
   ]
  },
  {
   "cell_type": "code",
   "id": "5aa65919-5f50-4c0e-b3f9-f53d4cc7b543",
   "metadata": {
    "ExecuteTime": {
     "end_time": "2025-01-04T14:52:36.739518118Z",
     "start_time": "2024-08-23T07:13:52.702905449Z"
    }
   },
   "source": "var xs = listOf(true, false, true)",
   "outputs": [],
   "execution_count": 15
  },
  {
   "cell_type": "markdown",
   "id": "dde7be85-94a8-4e53-ac80-0ce6d95d3b3a",
   "metadata": {},
   "source": [
    "<figure style=\"text-align:center\">\n",
    "<img src=\"variable_xs.svg\" style=\"width:35.0%; background-color:white;\" />\n",
    "\n",
    "<figcaption><em>Variable</em> <code class=\"sourceCode kotlin\">xs</code>\n",
    "mit dem <em>Wert</em> <code\n",
    "class=\"sourceCode kotlin\">[<span class=\"va\">true</span>, <span class=\"va\">false</span>, <span class=\"va\">true</span>]</code></figcaption>\n",
    "</figure>"
   ]
  },
  {
   "cell_type": "code",
   "id": "2d653f4a-103e-461f-814e-31cd785374ff",
   "metadata": {
    "ExecuteTime": {
     "end_time": "2025-01-04T14:52:36.801626429Z",
     "start_time": "2024-08-23T07:13:52.803292762Z"
    }
   },
   "source": "xs = xs + listOf(false)",
   "outputs": [],
   "execution_count": 16
  },
  {
   "cell_type": "markdown",
   "id": "877553ec-1e8a-41a3-8d7a-dec28599713c",
   "metadata": {},
   "source": [
    "<figure style=\"text-align:center\">\n",
    "<img src=\"variable_xs_updated.svg\" style=\"width:35.0%; background-color:white;\" />\n",
    "\n",
    "<figcaption><em>Variable</em> <code class=\"sourceCode kotlin\">xs</code>\n",
    "mit dem neuen <em>Wert</em> <code\n",
    "class=\"sourceCode kotlin\">[<span class=\"va\">true</span>, <span class=\"va\">false</span>, <span class=\"va\">true</span>, <span class=\"va\">false</span>]</code></figcaption>\n",
    "</figure>"
   ]
  },
  {
   "cell_type": "code",
   "id": "52ececa8",
   "metadata": {
    "ExecuteTime": {
     "end_time": "2025-01-04T14:52:36.810491892Z",
     "start_time": "2024-08-23T07:13:53.023769946Z"
    }
   },
   "source": [
    "xs"
   ],
   "outputs": [
    {
     "data": {
      "text/plain": [
       "[true, false, true, false]"
      ]
     },
     "execution_count": 17,
     "metadata": {},
     "output_type": "execute_result"
    }
   ],
   "execution_count": 17
  },
  {
   "metadata": {},
   "cell_type": "markdown",
   "source": "Wir können eine Liste auch mit Werten addieren, die den selben Typ wie die Elemente in der Liste haben.",
   "id": "3ff95cc6b188e5eb"
  },
  {
   "metadata": {
    "ExecuteTime": {
     "end_time": "2025-01-04T14:52:36.829450012Z",
     "start_time": "2025-01-04T14:45:21.525008716Z"
    }
   },
   "cell_type": "code",
   "source": "listOf(1, 5) + 2",
   "id": "73560646a676cbfb",
   "outputs": [
    {
     "data": {
      "text/plain": [
       "[1, 5, 2]"
      ]
     },
     "execution_count": 2,
     "metadata": {},
     "output_type": "execute_result"
    }
   ],
   "execution_count": 2
  }
 ],
 "metadata": {
  "kernelspec": {
   "display_name": "Kotlin",
   "language": "kotlin",
   "name": "kotlin"
  },
  "language_info": {
   "name": "kotlin"
  }
 },
 "nbformat": 4,
 "nbformat_minor": 5
}
