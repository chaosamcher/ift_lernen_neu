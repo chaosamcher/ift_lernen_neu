{
 "cells": [
  {
   "cell_type": "markdown",
   "id": "1596b714-b236-4560-b72b-ef4a4c7404d0",
   "metadata": {},
   "source": [
    "# Booleans\n",
    "\n",
    "In diesem Kapitel beschäftigen wir uns mit Wahrheitswerten(*Booleans*).\n",
    "Diese sind im Gegensatz zu *Integern* und *Strings* zumindest in der\n",
    "Hinsicht einfacher zu verstehen, dass es nur zwei *Booleans* gibt\n",
    "\n",
    "-   Wahr (`true`)\n",
    "\n",
    "-   Falsch (`false`)\n",
    "\n",
    "## Vergleiche\n",
    "\n",
    "Wir erhalten ein *Boolean,* wenn wir zwei *Werte* miteinander\n",
    "vergleichen."
   ]
  },
  {
   "cell_type": "code",
   "execution_count": null,
   "id": "16f30e0d-9615-408a-ac6a-86e907136dc7",
   "metadata": {},
   "outputs": [],
   "source": [
    "2 < 3"
   ]
  },
  {
   "cell_type": "code",
   "execution_count": null,
   "id": "d5fe64ee",
   "metadata": {},
   "outputs": [],
   "source": [
    "2 * 3 == 3 * 2"
   ]
  },
  {
   "cell_type": "code",
   "execution_count": null,
   "id": "d9694247",
   "metadata": {},
   "outputs": [],
   "source": [
    "\"hello\" == \"hella\""
   ]
  },
  {
   "cell_type": "code",
   "execution_count": null,
   "id": "5cc2e9c5",
   "metadata": {},
   "outputs": [],
   "source": [
    "2 != 2"
   ]
  },
  {
   "cell_type": "markdown",
   "id": "50031a58-a619-4732-906e-8d3025b71c5c",
   "metadata": {},
   "source": [
    "Die wichtigsten *Vergleichsoperatoren* sind in Tabelle\n",
    "folgenden Tabelle aufgeführt.\n",
    "<figure style=\"text-align: center;\">\n",
    "<img src=\"tabelle_vergleichsoperatoren.svg\" style=\"width:45.0%; ; background-color:white;\" />\n",
    "      </figure>\n",
    "\n",
    "## Vergleiche von Werten mit unterschiedlichen Typen\n",
    "\n",
    "Zwei *Werte* die verschiedene *Typen* haben, können nicht gleich sein. In Kotlin können sie nicht einmal mit einander verglichen werden."
   ]
  },
  {
   "cell_type": "code",
   "execution_count": 2,
   "id": "5bd4abf9",
   "metadata": {
    "ExecuteTime": {
     "end_time": "2024-08-21T13:41:18.276499066Z",
     "start_time": "2024-08-21T13:41:18.239479094Z"
    }
   },
   "outputs": [
    {
     "ename": "org.jetbrains.kotlinx.jupyter.exceptions.ReplCompilerException",
     "evalue": "Line_3.jupyter.kts (1:1 - 9) Operator '==' cannot be applied to 'Int' and 'String'",
     "output_type": "error",
     "traceback": [
      "org.jetbrains.kotlinx.jupyter.repl.impl.JupyterCompilerImpl.compileSync(JupyterCompilerImpl.kt:201)",
      "org.jetbrains.kotlinx.jupyter.repl.impl.InternalEvaluatorImpl.eval(InternalEvaluatorImpl.kt:126)",
      "org.jetbrains.kotlinx.jupyter.repl.impl.CellExecutorImpl$execute$1$result$1.invoke(CellExecutorImpl.kt:80)",
      "org.jetbrains.kotlinx.jupyter.repl.impl.CellExecutorImpl$execute$1$result$1.invoke(CellExecutorImpl.kt:78)",
      "org.jetbrains.kotlinx.jupyter.repl.impl.ReplForJupyterImpl.withHost(ReplForJupyterImpl.kt:762)",
      "org.jetbrains.kotlinx.jupyter.repl.impl.CellExecutorImpl.execute-L4Nmkdk(CellExecutorImpl.kt:78)",
      "org.jetbrains.kotlinx.jupyter.repl.execution.CellExecutor$DefaultImpls.execute-L4Nmkdk$default(CellExecutor.kt:13)",
      "org.jetbrains.kotlinx.jupyter.repl.impl.ReplForJupyterImpl.evaluateUserCode-wNURfNM(ReplForJupyterImpl.kt:585)",
      "org.jetbrains.kotlinx.jupyter.repl.impl.ReplForJupyterImpl.access$evaluateUserCode-wNURfNM(ReplForJupyterImpl.kt:138)",
      "org.jetbrains.kotlinx.jupyter.repl.impl.ReplForJupyterImpl$evalEx$1.invoke(ReplForJupyterImpl.kt:442)",
      "org.jetbrains.kotlinx.jupyter.repl.impl.ReplForJupyterImpl$evalEx$1.invoke(ReplForJupyterImpl.kt:439)",
      "org.jetbrains.kotlinx.jupyter.repl.impl.ReplForJupyterImpl.withEvalContext(ReplForJupyterImpl.kt:420)",
      "org.jetbrains.kotlinx.jupyter.repl.impl.ReplForJupyterImpl.evalEx(ReplForJupyterImpl.kt:439)",
      "org.jetbrains.kotlinx.jupyter.messaging.IdeCompatibleMessageRequestProcessor$processExecuteRequest$1$response$1$1.invoke(IdeCompatibleMessageRequestProcessor.kt:136)",
      "org.jetbrains.kotlinx.jupyter.messaging.IdeCompatibleMessageRequestProcessor$processExecuteRequest$1$response$1$1.invoke(IdeCompatibleMessageRequestProcessor.kt:135)",
      "org.jetbrains.kotlinx.jupyter.execution.JupyterExecutorImpl$Task.execute(JupyterExecutorImpl.kt:42)",
      "org.jetbrains.kotlinx.jupyter.execution.JupyterExecutorImpl$executorThread$1.invoke(JupyterExecutorImpl.kt:82)",
      "org.jetbrains.kotlinx.jupyter.execution.JupyterExecutorImpl$executorThread$1.invoke(JupyterExecutorImpl.kt:80)",
      "kotlin.concurrent.ThreadsKt$thread$thread$1.run(Thread.kt:30)"
     ]
    }
   ],
   "source": [
    "1 == \"1\""
   ]
  },
  {
   "cell_type": "markdown",
   "id": "c164d651a04ab0ba",
   "metadata": {},
   "source": [
    "Ein Vergleich von zwei *Werten* mit unterschiedlichen *Typen* führt zu einem *Typfehler* und damit dazu, dass das Programm nicht ausgeführt wird."
   ]
  },
  {
   "cell_type": "markdown",
   "id": "8c9301cd",
   "metadata": {},
   "source": [
    "\n",
    "## Variablen\n",
    "\n",
    "Wie alle *Werte* können wir *Booleans* in *Variablen* speichern."
   ]
  },
  {
   "cell_type": "code",
   "execution_count": null,
   "id": "6845573e-ab08-4d65-b8ec-35ac071d1a0c",
   "metadata": {},
   "outputs": [],
   "source": [
    "seven_is_five_plus_three = 7 == 5 + 3\n",
    "seven_is_five_plus_three"
   ]
  },
  {
   "cell_type": "markdown",
   "id": "09e4af41-a796-4576-9983-65e97bdae2ff",
   "metadata": {},
   "source": [
    "## Funktionen\n",
    "\n",
    "Natürlich können *Booleans* auch *Argumente* oder *Rückgabewerte* von\n",
    "Funktionen sein."
   ]
  },
  {
   "cell_type": "code",
   "execution_count": 3,
   "id": "bc4a6fdf-2328-467d-a780-70548b95f176",
   "metadata": {
    "ExecuteTime": {
     "end_time": "2024-08-21T13:42:26.935410855Z",
     "start_time": "2024-08-21T13:42:26.688974405Z"
    }
   },
   "outputs": [],
   "source": [
    "fun fullAge(age: Int): Boolean  =  age > 17"
   ]
  },
  {
   "cell_type": "code",
   "execution_count": 4,
   "id": "f39c30aa-44c1-4525-81bd-d3781408ba51",
   "metadata": {
    "ExecuteTime": {
     "end_time": "2024-08-21T13:42:31.045545710Z",
     "start_time": "2024-08-21T13:42:30.881983851Z"
    }
   },
   "outputs": [
    {
     "data": {
      "text/plain": [
       "false"
      ]
     },
     "execution_count": 4,
     "metadata": {},
     "output_type": "execute_result"
    }
   ],
   "source": [
    "fullAge(17)"
   ]
  },
  {
   "cell_type": "code",
   "execution_count": 5,
   "id": "e9ab3041",
   "metadata": {
    "ExecuteTime": {
     "end_time": "2024-08-21T13:42:33.841718360Z",
     "start_time": "2024-08-21T13:42:33.712330102Z"
    }
   },
   "outputs": [
    {
     "data": {
      "text/plain": [
       "true"
      ]
     },
     "execution_count": 5,
     "metadata": {},
     "output_type": "execute_result"
    }
   ],
   "source": [
    "fullAge(18)"
   ]
  },
  {
   "cell_type": "markdown",
   "id": "7dbd67aa-2229-4f5f-b614-4ea314b20f87",
   "metadata": {},
   "source": [
    "## Boolesche Ausdrücke und Bedingungen\n",
    "\n",
    "Ausdrücke, die zu einem *Boolean* ausgewertet werden, nennt man\n",
    "*boolesche Ausdrücke* oder Bedingungen. Wie Rechenausdrücke können diese\n",
    "mit *Operatoren* verknüpft werden.\n",
    "\n",
    "## Verneinungen\n",
    "\n",
    "Bedingungen können mithilfe des *Operators* `!` verneint werden.\n",
    "Die Verneinung einer Bedingung ist genau dann erfüllt, wenn die\n",
    "Bedingung selbst nicht erfüllt ist."
   ]
  },
  {
   "cell_type": "code",
   "execution_count": 6,
   "id": "a128ad35-5f14-464f-ae0e-12c3f66001df",
   "metadata": {
    "ExecuteTime": {
     "end_time": "2024-08-21T13:43:07.708935958Z",
     "start_time": "2024-08-21T13:43:07.584092038Z"
    }
   },
   "outputs": [
    {
     "data": {
      "text/plain": [
       "false"
      ]
     },
     "execution_count": 6,
     "metadata": {},
     "output_type": "execute_result"
    }
   ],
   "source": [
    "!true"
   ]
  },
  {
   "cell_type": "code",
   "execution_count": 7,
   "id": "bc833cd1",
   "metadata": {
    "ExecuteTime": {
     "end_time": "2024-08-21T13:43:25.361238419Z",
     "start_time": "2024-08-21T13:43:25.284045422Z"
    }
   },
   "outputs": [
    {
     "data": {
      "text/plain": [
       "true"
      ]
     },
     "execution_count": 7,
     "metadata": {},
     "output_type": "execute_result"
    }
   ],
   "source": [
    "!false"
   ]
  },
  {
   "cell_type": "code",
   "execution_count": 10,
   "id": "d9c72a42",
   "metadata": {
    "ExecuteTime": {
     "end_time": "2024-08-21T13:43:44.641273837Z",
     "start_time": "2024-08-21T13:43:44.525002742Z"
    }
   },
   "outputs": [
    {
     "data": {
      "text/plain": [
       "true"
      ]
     },
     "execution_count": 10,
     "metadata": {},
     "output_type": "execute_result"
    }
   ],
   "source": [
    "!(1 == 2)"
   ]
  },
  {
   "cell_type": "markdown",
   "id": "0a51f1bb-b53c-4b08-9b89-815dcb859b53",
   "metadata": {},
   "source": [
    "## Verknüpfungen von Bedingungen\n",
    "\n",
    "Mithilfe der *Operatoren* `&&` und `||` können zwei *boolesche\n",
    "Ausdrücke* miteinander verknüpft werden. Wenn zwei *boolesche Ausdrücke*\n",
    "mit `&&` verknüpft werden, dann wird der verknüpfte *boolesche Ausdruck*\n",
    "genau dann zu `true` ausgewertet, wenn beide Teilausdrücke zu `true`\n",
    "ausgewertet werden."
   ]
  },
  {
   "cell_type": "code",
   "execution_count": null,
   "id": "28c391c4-0328-4b0c-85fe-5558aa69534e",
   "metadata": {},
   "outputs": [],
   "source": [
    "true && 15 > 10"
   ]
  },
  {
   "cell_type": "code",
   "execution_count": null,
   "id": "321a6e02",
   "metadata": {},
   "outputs": [],
   "source": [
    "1 < 2 && 2 > 0"
   ]
  },
  {
   "cell_type": "code",
   "execution_count": null,
   "id": "5b9f6519",
   "metadata": {},
   "outputs": [],
   "source": [
    "3 <= 3 && (2 < 0 && 4 >= 5)"
   ]
  },
  {
   "cell_type": "markdown",
   "id": "d32f3eb4-9acf-486b-9deb-8f7f4667edeb",
   "metadata": {},
   "source": [
    "Wenn zwei *boolesche Ausdrücke* mit `||` verknüpft werden, dann ist der\n",
    "verknüpfte *boolesche Ausdruck* genau dann wahr, wenn mindestens einer\n",
    "der beiden *Teilausdrücke* zu `true` ausgewertet wird."
   ]
  },
  {
   "cell_type": "code",
   "execution_count": 11,
   "id": "9dca7801-24cd-468f-89e1-5d33b406a363",
   "metadata": {
    "ExecuteTime": {
     "end_time": "2024-08-21T13:45:29.442293185Z",
     "start_time": "2024-08-21T13:45:29.348798718Z"
    }
   },
   "outputs": [
    {
     "data": {
      "text/plain": [
       "true"
      ]
     },
     "execution_count": 11,
     "metadata": {},
     "output_type": "execute_result"
    }
   ],
   "source": [
    "5 != 5 || !(4 < 3)"
   ]
  },
  {
   "cell_type": "code",
   "execution_count": 12,
   "id": "ac0e96b5",
   "metadata": {
    "ExecuteTime": {
     "end_time": "2024-08-21T13:45:34.102825061Z",
     "start_time": "2024-08-21T13:45:34.011971932Z"
    }
   },
   "outputs": [
    {
     "data": {
      "text/plain": [
       "true"
      ]
     },
     "execution_count": 12,
     "metadata": {},
     "output_type": "execute_result"
    }
   ],
   "source": [
    "4 <= 3 || (1 < 2 && 2 > 0)"
   ]
  },
  {
   "cell_type": "markdown",
   "id": "a8397bea-60a5-4750-8b23-1df934aedd7c",
   "metadata": {},
   "source": [
    "Wenn in einem *booleschen Ausdruck* mehrere *Operatoren* vorkommen, ist\n",
    "es oft sinnvoll, Klammern zu setzten. Dadurch ist klar, welche\n",
    "*Teilausdrücke* zuerst ausgewertet werden."
   ]
  }
 ],
 "metadata": {
  "kernelspec": {
   "display_name": "Kotlin",
   "language": "kotlin",
   "name": "kotlin"
  },
  "language_info": {
   "name": "kotlin"
  }
 },
 "nbformat": 4,
 "nbformat_minor": 5
}
