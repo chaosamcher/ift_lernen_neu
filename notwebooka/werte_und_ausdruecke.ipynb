{
 "cells": [
  {
   "cell_type": "markdown",
   "id": "8e01a2ce-6e2c-4053-a160-c57b5043c00e",
   "metadata": {},
   "source": [
    "# Werte und Ausdrücke\n",
    "\n",
    "## Kotlin als Taschenrechner\n",
    "\n",
    "Der Kotlin-Interpreter ist ein Programm, mit dem Berechnung durch- und\n",
    "Kotlin-Programme ausgeführt werden können.\n",
    "\n",
    "Wir können den Kotlin-Interpreter als Taschenrechner verwenden, indem\n",
    "wir Rechenausdrücke (*arithmetische Ausdrücke*) in eine `Shell`/`REPL`/Zelle\n",
    "eingeben. Der Kotlin-Interpreter berechnet dann das Ergebnis und zeigt\n",
    "es dem Benutzer an."
   ]
  },
  {
   "cell_type": "code",
   "id": "9ffc1fcc-f845-4749-b350-d54e872b6b35",
   "metadata": {
    "ExecuteTime": {
     "end_time": "2025-02-25T06:42:00.987912063Z",
     "start_time": "2025-02-25T06:42:00.853778463Z"
    }
   },
   "source": [
    "4 + 3"
   ],
   "outputs": [
    {
     "data": {
      "text/plain": [
       "7"
      ]
     },
     "execution_count": 1,
     "metadata": {},
     "output_type": "execute_result"
    }
   ],
   "execution_count": 1
  },
  {
   "cell_type": "code",
   "id": "c445f641",
   "metadata": {
    "ExecuteTime": {
     "end_time": "2025-02-25T06:42:01.144125715Z",
     "start_time": "2025-02-25T06:42:01.022704169Z"
    }
   },
   "source": [
    "1 * 2 * 3 * 4"
   ],
   "outputs": [
    {
     "data": {
      "text/plain": [
       "24"
      ]
     },
     "execution_count": 2,
     "metadata": {},
     "output_type": "execute_result"
    }
   ],
   "execution_count": 2
  },
  {
   "cell_type": "markdown",
   "id": "0b980a0e-a77b-4dc0-ab80-11ce21ae3490",
   "metadata": {},
   "source": [
    "Wie jeder Taschenrechner kennt der Kotlin-Interpreter die\n",
    "„Punkt-Vor-Strich-Regel“."
   ]
  },
  {
   "cell_type": "code",
   "id": "2c88ebfb-195c-47e5-a12e-2c8c28a5de6a",
   "metadata": {
    "ExecuteTime": {
     "end_time": "2025-02-25T06:42:01.303648823Z",
     "start_time": "2025-02-25T06:42:01.158773029Z"
    }
   },
   "source": [
    "1 + 2 * 5"
   ],
   "outputs": [
    {
     "data": {
      "text/plain": [
       "11"
      ]
     },
     "execution_count": 3,
     "metadata": {},
     "output_type": "execute_result"
    }
   ],
   "execution_count": 3
  },
  {
   "cell_type": "markdown",
   "id": "349cce15-01af-46d8-a6e4-cd62f44d52b2",
   "metadata": {},
   "source": [
    "Durch das Setzen von Klammern können wir selbst eine Reihenfolge für die\n",
    "Auswertung eines *Ausdrucks* festlegen."
   ]
  },
  {
   "cell_type": "code",
   "id": "9c87c795-2c4a-4a5f-b4b4-e774bd1cb391",
   "metadata": {
    "ExecuteTime": {
     "end_time": "2025-02-25T06:42:01.453356960Z",
     "start_time": "2025-02-25T06:42:01.321595185Z"
    }
   },
   "source": [
    "(1 + 2) * 5"
   ],
   "outputs": [
    {
     "data": {
      "text/plain": [
       "15"
      ]
     },
     "execution_count": 4,
     "metadata": {},
     "output_type": "execute_result"
    }
   ],
   "execution_count": 4
  },
  {
   "cell_type": "markdown",
   "id": "1af36410-62cf-4c1d-a1c3-16cb89018c5b",
   "metadata": {},
   "source": [
    "## Operatoren, Werte, Ausdrücke\n",
    "\n",
    "Die Rechenzeichen, wie `+`, `-` und `*` nennt man *Operatoren*. Mithilfe\n",
    "von *Operatoren* werden Berechnungen (Operationen), wie die Addition, Subtraktion und\n",
    "Multiplikation durchgeführt. Später werden wir noch weitere *Operatoren*\n",
    "kennenlernen. Links und Rechts von einem *Operator* stehen die\n",
    "*Operanden*, die in der Rechnung verwendet werden. In dem ersten\n",
    "Beispiel oben steht der *Operator* `+` zwischen dem linken *Operanden*\n",
    "`4` und dem rechten *Operanden* `3`.\n",
    "\n",
    "Zahlen wie `4` und `3` sind *Werte* (*Values*). *Werte* sind die\n",
    "kleinsten Einheiten, mit denen ein Computerprogramm arbeitet. Das\n",
    "Ergebnis einer Rechnung ist immer ein *Wert*. Wenn wir einen *Wert* im\n",
    "Programmcode verwenden, spricht man von einem *Literal*. Ein\n",
    "alleinstehendes *Literal* wird immer zu dem *Wert* ausgewertet, für den\n",
    "es steht."
   ]
  },
  {
   "cell_type": "code",
   "id": "8c2fe4f9-90a3-4b38-9187-5651246557b7",
   "metadata": {
    "ExecuteTime": {
     "end_time": "2025-02-25T06:42:01.630524905Z",
     "start_time": "2025-02-25T06:42:01.474937106Z"
    }
   },
   "source": [
    "4"
   ],
   "outputs": [
    {
     "data": {
      "text/plain": [
       "4"
      ]
     },
     "execution_count": 5,
     "metadata": {},
     "output_type": "execute_result"
    }
   ],
   "execution_count": 5
  },
  {
   "cell_type": "markdown",
   "id": "8e1e5f3a-b48e-45c9-a4f2-36f7ab6b99b9",
   "metadata": {},
   "source": [
    "Ein *Ausdruck* (*expression*) ist eine Kombination von *Werten*,\n",
    "*Operatoren* und Klammern, die zu einem *Wert* ausgewertet werden\n",
    "kann<a name=\"cite_ref-1\"></a>[<sup>[1]</sup>](#cite_note-1). Im letzten Beispiel wurde der *Ausdruck* `(1 + 2) * 5` zu dem\n",
    "Wert `15` ausgewertet.\n",
    "\n",
    "\n",
    "## Syntaxfehler\n",
    "\n",
    "Wenn ein fehlerhafter *Ausdruck* eingegeben wird, kann der Interpreter\n",
    "diesen nicht vereinfachen und gibt eine Fehlermeldung aus."
   ]
  },
  {
   "cell_type": "code",
   "id": "0f93b95e-2a72-447f-91f0-3cb523e8034b",
   "metadata": {
    "ExecuteTime": {
     "end_time": "2025-02-25T06:42:02.012809129Z",
     "start_time": "2025-02-25T06:42:01.952762759Z"
    }
   },
   "source": [
    "1 + * 1"
   ],
   "outputs": [
    {
     "ename": "org.jetbrains.kotlinx.jupyter.exceptions.ReplCompilerException",
     "evalue": "at Cell In[6], line 1, column 5: Expecting an element",
     "output_type": "error",
     "traceback": [
      "org.jetbrains.kotlinx.jupyter.exceptions.ReplCompilerException: at Cell In[6], line 1, column 5: Expecting an element",
      "\tat org.jetbrains.kotlinx.jupyter.repl.impl.JupyterCompilerImpl.compileSync(JupyterCompilerImpl.kt:208)",
      "\tat org.jetbrains.kotlinx.jupyter.repl.impl.InternalEvaluatorImpl.eval(InternalEvaluatorImpl.kt:126)",
      "\tat org.jetbrains.kotlinx.jupyter.repl.impl.CellExecutorImpl$execute$1$result$1.invoke(CellExecutorImpl.kt:80)",
      "\tat org.jetbrains.kotlinx.jupyter.repl.impl.CellExecutorImpl$execute$1$result$1.invoke(CellExecutorImpl.kt:78)",
      "\tat org.jetbrains.kotlinx.jupyter.repl.impl.ReplForJupyterImpl.withHost(ReplForJupyterImpl.kt:774)",
      "\tat org.jetbrains.kotlinx.jupyter.repl.impl.CellExecutorImpl.execute-L4Nmkdk(CellExecutorImpl.kt:78)",
      "\tat org.jetbrains.kotlinx.jupyter.repl.execution.CellExecutor$DefaultImpls.execute-L4Nmkdk$default(CellExecutor.kt:13)",
      "\tat org.jetbrains.kotlinx.jupyter.repl.impl.ReplForJupyterImpl.evaluateUserCode-wNURfNM(ReplForJupyterImpl.kt:596)",
      "\tat org.jetbrains.kotlinx.jupyter.repl.impl.ReplForJupyterImpl.evalExImpl(ReplForJupyterImpl.kt:454)",
      "\tat org.jetbrains.kotlinx.jupyter.repl.impl.ReplForJupyterImpl.access$evalExImpl(ReplForJupyterImpl.kt:141)",
      "\tat org.jetbrains.kotlinx.jupyter.repl.impl.ReplForJupyterImpl$evalEx$1.invoke(ReplForJupyterImpl.kt:447)",
      "\tat org.jetbrains.kotlinx.jupyter.repl.impl.ReplForJupyterImpl$evalEx$1.invoke(ReplForJupyterImpl.kt:446)",
      "\tat org.jetbrains.kotlinx.jupyter.repl.impl.ReplForJupyterImpl.withEvalContext(ReplForJupyterImpl.kt:427)",
      "\tat org.jetbrains.kotlinx.jupyter.repl.impl.ReplForJupyterImpl.evalEx(ReplForJupyterImpl.kt:446)",
      "\tat org.jetbrains.kotlinx.jupyter.messaging.IdeCompatibleMessageRequestProcessor$processExecuteRequest$1$response$1$1.invoke(IdeCompatibleMessageRequestProcessor.kt:171)",
      "\tat org.jetbrains.kotlinx.jupyter.messaging.IdeCompatibleMessageRequestProcessor$processExecuteRequest$1$response$1$1.invoke(IdeCompatibleMessageRequestProcessor.kt:170)",
      "\tat org.jetbrains.kotlinx.jupyter.streams.BlockingSubstitutionEngine.withDataSubstitution(SubstitutionEngine.kt:70)",
      "\tat org.jetbrains.kotlinx.jupyter.streams.StreamSubstitutionManager.withSubstitutedStreams(StreamSubstitutionManager.kt:118)",
      "\tat org.jetbrains.kotlinx.jupyter.messaging.IdeCompatibleMessageRequestProcessor.withForkedIn(IdeCompatibleMessageRequestProcessor.kt:347)",
      "\tat org.jetbrains.kotlinx.jupyter.messaging.IdeCompatibleMessageRequestProcessor.access$withForkedIn(IdeCompatibleMessageRequestProcessor.kt:67)",
      "\tat org.jetbrains.kotlinx.jupyter.messaging.IdeCompatibleMessageRequestProcessor$evalWithIO$1$1.invoke(IdeCompatibleMessageRequestProcessor.kt:361)",
      "\tat org.jetbrains.kotlinx.jupyter.streams.BlockingSubstitutionEngine.withDataSubstitution(SubstitutionEngine.kt:70)",
      "\tat org.jetbrains.kotlinx.jupyter.streams.StreamSubstitutionManager.withSubstitutedStreams(StreamSubstitutionManager.kt:118)",
      "\tat org.jetbrains.kotlinx.jupyter.messaging.IdeCompatibleMessageRequestProcessor.withForkedErr(IdeCompatibleMessageRequestProcessor.kt:336)",
      "\tat org.jetbrains.kotlinx.jupyter.messaging.IdeCompatibleMessageRequestProcessor.access$withForkedErr(IdeCompatibleMessageRequestProcessor.kt:67)",
      "\tat org.jetbrains.kotlinx.jupyter.messaging.IdeCompatibleMessageRequestProcessor$evalWithIO$1.invoke(IdeCompatibleMessageRequestProcessor.kt:360)",
      "\tat org.jetbrains.kotlinx.jupyter.streams.BlockingSubstitutionEngine.withDataSubstitution(SubstitutionEngine.kt:70)",
      "\tat org.jetbrains.kotlinx.jupyter.streams.StreamSubstitutionManager.withSubstitutedStreams(StreamSubstitutionManager.kt:118)",
      "\tat org.jetbrains.kotlinx.jupyter.messaging.IdeCompatibleMessageRequestProcessor.withForkedOut(IdeCompatibleMessageRequestProcessor.kt:328)",
      "\tat org.jetbrains.kotlinx.jupyter.messaging.IdeCompatibleMessageRequestProcessor.evalWithIO(IdeCompatibleMessageRequestProcessor.kt:359)",
      "\tat org.jetbrains.kotlinx.jupyter.messaging.IdeCompatibleMessageRequestProcessor$processExecuteRequest$1$response$1.invoke(IdeCompatibleMessageRequestProcessor.kt:170)",
      "\tat org.jetbrains.kotlinx.jupyter.messaging.IdeCompatibleMessageRequestProcessor$processExecuteRequest$1$response$1.invoke(IdeCompatibleMessageRequestProcessor.kt:169)",
      "\tat org.jetbrains.kotlinx.jupyter.execution.JupyterExecutorImpl$Task.execute(JupyterExecutorImpl.kt:41)",
      "\tat org.jetbrains.kotlinx.jupyter.execution.JupyterExecutorImpl$executorThread$1.invoke(JupyterExecutorImpl.kt:81)",
      "\tat org.jetbrains.kotlinx.jupyter.execution.JupyterExecutorImpl$executorThread$1.invoke(JupyterExecutorImpl.kt:79)",
      "\tat kotlin.concurrent.ThreadsKt$thread$thread$1.run(Thread.kt:30)",
      ""
     ]
    }
   ],
   "execution_count": 6
  },
  {
   "cell_type": "markdown",
   "id": "644ff865-b298-4845-acf7-000566f7426b",
   "metadata": {},
   "source": [
    "Bei diesem Fehler handelt es sich um einen `Syntax error`. Die *Syntax*\n",
    "einer Programmiersprache gibt an, welche Zeichen im Code erlaubt sind\n",
    "und wie diese miteinander kombiniert werden dürfen. Ein `Syntax error`\n",
    "tritt auf, wenn eine dieser Regeln verletzt wurde. Kotlin zeigt\n",
    "an, dass in Zeile 1 zwischen der 5. und 6. Spalte ein Element, also z.B. eine Zahl erwartet wird.\n",
    "Im Code steht an dieser Stelle aber ein `*`.\n",
    "\n",
    "## Division\n",
    "\n",
    "Kotlin unterstützt auch die ganzzahlige Division. Diese kennst du\n",
    "vielleicht noch aus der Grundschule."
   ]
  },
  {
   "cell_type": "code",
   "execution_count": 9,
   "id": "4b86db05-7d4a-4aa0-9176-c1d87819cd38",
   "metadata": {},
   "outputs": [
    {
     "data": {
      "text/plain": [
       "5"
      ]
     },
     "execution_count": 9,
     "metadata": {},
     "output_type": "execute_result"
    }
   ],
   "source": [
    "30 / 6"
   ]
  },
  {
   "cell_type": "code",
   "execution_count": 10,
   "id": "f397daac",
   "metadata": {},
   "outputs": [
    {
     "data": {
      "text/plain": [
       "2"
      ]
     },
     "execution_count": 10,
     "metadata": {},
     "output_type": "execute_result"
    }
   ],
   "source": [
    "14 / 5"
   ]
  },
  {
   "cell_type": "markdown",
   "id": "ee363dba-f734-41a8-8ee2-6781056e379e",
   "metadata": {},
   "source": [
    "Die Zahlen vor und nach dem *Operator* `//` nennt man Dividend und\n",
    "Divisor. Das Ergebnis ist der Quotient. Der Quotient ist die größte\n",
    "ganze Zahl, mit der man den Divisor multiplizieren kann, um eine Zahl zu\n",
    "erhalten, die nicht größer als der Dividend ist. Der *Operator* `%`\n",
    "(*modulo*) berechnet, was man zu dem Produkt von Quotient und Divisor\n",
    "hinzufügen muss, um den Dividenden zu erhalten."
   ]
  },
  {
   "cell_type": "code",
   "execution_count": null,
   "id": "d00051a6-1015-43e5-97cf-17161c7dea15",
   "metadata": {},
   "outputs": [],
   "source": [
    "14 % 5"
   ]
  },
  {
   "cell_type": "markdown",
   "id": "792beed9-e012-4643-904c-8ad2978a6107",
   "metadata": {},
   "source": [
    "Es gilt also"
   ]
  },
  {
   "cell_type": "code",
   "execution_count": 11,
   "id": "77a03c9b-f454-40ed-a39a-b5e5b874d190",
   "metadata": {},
   "outputs": [
    {
     "data": {
      "text/plain": [
       "14"
      ]
     },
     "execution_count": 11,
     "metadata": {},
     "output_type": "execute_result"
    }
   ],
   "source": [
    "(14 / 5) * 5 + (14 % 5)"
   ]
  },
  {
   "cell_type": "markdown",
   "id": "38670c1a",
   "metadata": {},
   "source": [
    "<a name=\"cite_note-1\"></a>1. [^](#cite_ref-1) Ausdrücke können auch Funktionsaufrufe und Variablen enthalten.\n",
    "Diese werden aber erst später behandelt."
   ]
  }
 ],
 "metadata": {
  "kernelspec": {
   "display_name": "Kotlin",
   "language": "kotlin",
   "name": "kotlin"
  },
  "language_info": {
   "codemirror_mode": "text/x-kotlin",
   "file_extension": ".kt",
   "mimetype": "text/x-kotlin",
   "name": "kotlin",
   "nbconvert_exporter": "",
   "pygments_lexer": "kotlin",
   "version": "1.9.23"
  }
 },
 "nbformat": 4,
 "nbformat_minor": 5
}
