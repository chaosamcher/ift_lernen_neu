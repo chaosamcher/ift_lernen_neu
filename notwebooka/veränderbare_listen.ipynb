{
 "cells": [
  {
   "cell_type": "markdown",
   "id": "fa37dde87e83e5a9",
   "metadata": {},
   "source": [
    "# Listen verändern\n",
    "\n",
    "## Übersicht\n",
    "\n",
    "Wir haben bis jetzt nur unveränderliche *Werte* genutzt. Wir konnten\n",
    "zwar den *Wert* einer *Variablen* durch einen neuen *Wert* ersetzen aber\n",
    "**nicht** den *Wert* selbst ändern. Bei *veränderlichen Listen* ist dies jedoch\n",
    "möglich. Wir können eine solche *Liste* mit der Funktion `mutableListOf` erzeugen."
   ]
  },
  {
   "metadata": {
    "ExecuteTime": {
     "end_time": "2024-08-24T13:43:56.486578641Z",
     "start_time": "2024-08-24T13:43:56.290101493Z"
    }
   },
   "cell_type": "code",
   "source": "val xs = mutableListOf(true)",
   "id": "5bbf534006c5e5d2",
   "outputs": [],
   "execution_count": 2
  },
  {
   "metadata": {},
   "cell_type": "markdown",
   "source": [
    "<figure style=\"text-align:center\">\n",
    "<img src=\"variable_xs_vor_append.svg\" style=\"width:35.0%; background-color:white;\" />\n",
    "\n",
    "<figcaption><em>Variable</em> <code class=\"sourceCode kotlin\">xs</code>\n",
    "nach dem <em>Initialisieren</em></figcaption>\n",
    "</figure>\n",
    "\n",
    "Wir haben die *Variable* `xs` mit dem Schlüsselwort `val` initialisiert. Eine Zuweisung eines anderen *Werts* ist also gar nicht möglich. Wir werden in den folgenden Abschnitten Möglichkeiten kennenlernen, den *Wert* der *Variablen* selbst zu verändern.\n",
    "\n",
    "## Elemente zur Liste hinzufügen\n",
    "\n",
    "Mit der Methode `add` können wir ein Element zu einer *Liste*\n",
    "hinzufügen. Hierbei wird tatsächlich der *Wert* selbst geändert."
   ],
   "id": "1c345fdd-c2fd-4bc3-a806-247a35500a01"
  },
  {
   "cell_type": "code",
   "id": "756a4380-3b4c-4923-8420-5fc24ec1075e",
   "metadata": {
    "ExecuteTime": {
     "end_time": "2024-08-24T13:43:58.614056861Z",
     "start_time": "2024-08-24T13:43:58.325100977Z"
    }
   },
   "source": [
    "xs.add(false)\n",
    "xs"
   ],
   "outputs": [
    {
     "data": {
      "text/plain": [
       "[true, false]"
      ]
     },
     "execution_count": 3,
     "metadata": {},
     "output_type": "execute_result"
    }
   ],
   "execution_count": 3
  },
  {
   "cell_type": "markdown",
   "id": "73e87a4e-2f54-4ad9-956e-fe11ed7fc252",
   "metadata": {},
   "source": [
    "<figure style=\"text-align:center\">\n",
    "<img src=\"variable_xs_nach_append.svg\" style=\"width:35.0%; background-color:white;\" />\n",
    "\n",
    "<figcaption><em>Variable</em> <code class=\"sourceCode kotlin\">xs</code>\n",
    "nach dem Hinzufügen des <em>Werts</em> <code\n",
    "class=\"sourceCode kotlin\"><span class=\"va\">false</span></code></figcaption>\n",
    "</figure>"
   ]
  },
  {
   "cell_type": "markdown",
   "id": "ec3aa600-72b5-4acd-a367-fc5c0534c29f",
   "metadata": {},
   "source": [
    "## Elemente austauschen\n",
    "\n",
    "Wir können ein Element einer *Liste* durch ein neues Element ersetzen.\n",
    "Hierfür schreiben auf der linken Seite des *Zuweisungsoperators* `=` den\n",
    "Namen der *Liste* und den *Index* des Elements, das wir austauschen\n",
    "wollen. Auf der rechten Seite steht ein Ausdruck. Dessen *Wert* wird an\n",
    "der entsprechenden Stelle in der *Liste* eingefügt."
   ]
  },
  {
   "cell_type": "code",
   "id": "4e2d8c5c-f7d0-4da3-8caa-1b6cd4998766",
   "metadata": {
    "ExecuteTime": {
     "end_time": "2024-08-23T06:28:42.604567933Z",
     "start_time": "2024-08-23T06:28:42.514023172Z"
    }
   },
   "source": "val xs = mutableListOf(true, false, true)",
   "outputs": [],
   "execution_count": 4
  },
  {
   "cell_type": "markdown",
   "id": "d9fa6cea-d535-4b56-9915-2c2f031a9402",
   "metadata": {},
   "source": [
    "<figure style=\"text-align:center\">\n",
    "<img src=\"variable_xs.svg\" style=\"width:35.0%; background-color:white;\" />\n",
    "\n",
    "<figcaption><em>Variable</em> <code class=\"sourceCode kotlin\">xs</code>\n",
    "mit dem <em>Wert</em> <code\n",
    "class=\"sourceCode kotlin\">[<span class=\"va\">true</span>, <span class=\"va\">false</span>, <span class=\"va\">true</span>]</code></figcaption>\n",
    "</figure>"
   ]
  },
  {
   "cell_type": "code",
   "id": "bfc9ee8b-6478-4e98-9490-a01725f7c275",
   "metadata": {
    "ExecuteTime": {
     "end_time": "2024-08-23T06:28:42.775487567Z",
     "start_time": "2024-08-23T06:28:42.616873194Z"
    }
   },
   "source": [
    "xs[2] = false\n",
    "xs"
   ],
   "outputs": [
    {
     "data": {
      "text/plain": [
       "[true, false, false]"
      ]
     },
     "execution_count": 5,
     "metadata": {},
     "output_type": "execute_result"
    }
   ],
   "execution_count": 5
  },
  {
   "cell_type": "markdown",
   "id": "fe9eb96c-95cf-41d2-b43f-8dc35c664dbd",
   "metadata": {},
   "source": [
    "Auch hier wird tatsächlich der *Wert* der *Liste* geändert.\n",
    "\n",
    "<figure style=\"text-align:center\">\n",
    "<img src=\"variable_xs_updated.svg\" style=\"width:35.0%; background-color:white;\" />\n",
    "\n",
    "<figcaption><em>Variable</em> <code class=\"sourceCode kotlin\">xs</code>\n",
    "mit dem neuen <em>Wert</em> <code\n",
    "class=\"sourceCode kotlin\">[<span class=\"va\">true</span>, <span class=\"va\">false</span>, <span class=\"va\">false</span>]</code></figcaption>\n",
    "</figure>\n",
    "\n",
    "## Schwierigkeiten beim Umgang mit veränderlichen Werten\n",
    "\n",
    "Eine Schwierigkeit beim Umgang mit veränderlichen *Werten* sehen wir,\n",
    "wenn wir zwei *Variablen* erstellen, die auf denselben *Wert*\n",
    "verweisen. Dies ist immer der Fall, wenn wir einer *Variablen* den *Wert* einen anderen *Variablen* und keinen neuen Wert erzeugen."
   ]
  },
  {
   "cell_type": "code",
   "id": "c85d0368-a206-47ff-910f-85077e0e74ad",
   "metadata": {
    "ExecuteTime": {
     "end_time": "2024-08-23T06:28:42.912136576Z",
     "start_time": "2024-08-23T06:28:42.795396127Z"
    }
   },
   "source": [
    "val xs = mutableListOf(true, false, true)\n",
    "val ys = xs"
   ],
   "outputs": [],
   "execution_count": 6
  },
  {
   "cell_type": "markdown",
   "id": "472f1d4f-db5c-44e4-bcc9-4945b18a7019",
   "metadata": {},
   "source": [
    "<figure style=\"text-align:center\">\n",
    "<img src=\"variablen_xs_ys_vor_änderung.svg\" style=\"width:35.0%; background-color:white;\" />\n",
    "\n",
    "<figcaption><em>Variablen</em> <code class=\"sourceCode kotlin\">xs</code>\n",
    "und <code class=\"sourceCode kotlin\">ys</code> nach der\n",
    "Initialisierung</figcaption>\n",
    "</figure>"
   ]
  },
  {
   "cell_type": "code",
   "id": "9e2fecf6-f845-4ad7-bfa6-4e8a14bc1e91",
   "metadata": {
    "ExecuteTime": {
     "end_time": "2024-08-23T06:28:43.002407403Z",
     "start_time": "2024-08-23T06:28:42.932755035Z"
    }
   },
   "source": "ys[2] = false",
   "outputs": [],
   "execution_count": 7
  },
  {
   "cell_type": "markdown",
   "id": "60d8af76-fc9d-47f9-919a-aadda76e2bc8",
   "metadata": {},
   "source": [
    "<figure style=\"text-align:center\">\n",
    "<img src=\"variablen_xs_ys_nach_änderung.svg\" style=\"width:35.0%; background-color:white;\" />\n",
    "\n",
    "<figcaption><em>Variablen</em> <code class=\"sourceCode kotlin\">xs</code>\n",
    "und <code class=\"sourceCode kotlin\">ys</code> nach dem\n",
    "Ändern</figcaption>\n",
    "</figure>"
   ]
  },
  {
   "cell_type": "code",
   "id": "9d0b597a-511a-4469-817b-4a7977ea77f8",
   "metadata": {
    "ExecuteTime": {
     "end_time": "2024-08-23T06:28:43.097114065Z",
     "start_time": "2024-08-23T06:28:43.009836759Z"
    }
   },
   "source": [
    "xs"
   ],
   "outputs": [
    {
     "data": {
      "text/plain": [
       "[true, false, false]"
      ]
     },
     "execution_count": 8,
     "metadata": {},
     "output_type": "execute_result"
    }
   ],
   "execution_count": 8
  },
  {
   "cell_type": "markdown",
   "id": "96f4630a-bca1-4bdf-b152-9ba4b8d7b8d0",
   "metadata": {},
   "source": [
    "## Listen in Funktionen ändern\n",
    "\n",
    "Eine Funktion kann eine *veränderliche Liste*, die ihr übergeben wird ändern."
   ]
  },
  {
   "cell_type": "code",
   "id": "5c2f6544-711f-4df2-8135-ab544799ccf3",
   "metadata": {
    "ExecuteTime": {
     "end_time": "2024-08-23T06:28:43.246608401Z",
     "start_time": "2024-08-23T06:28:43.109258095Z"
    }
   },
   "source": [
    "fun setFirstFalse(xs: MutableList<Boolean>): Unit {\n",
    "    xs[0] = false\n",
    "}\n",
    "val xs = mutableListOf(true, true)\n",
    "setFirstFalse(xs)\n",
    "xs"
   ],
   "outputs": [
    {
     "data": {
      "text/plain": [
       "[false, true]"
      ]
     },
     "execution_count": 9,
     "metadata": {},
     "output_type": "execute_result"
    }
   ],
   "execution_count": 9
  },
  {
   "cell_type": "markdown",
   "id": "84426b59-10b4-4bd9-9576-07457b2071d4",
   "metadata": {},
   "source": [
    "<figure style=\"text-align:center\">\n",
    "<img src=\"funktionsaufruf_set_first_false.svg\" style=\"width:35.0%; background-color:white;\" />\n",
    "\n",
    "<figcaption>Funktionsaufruf <code\n",
    "class=\"sourceCode kotlin\">setFirstFalse(xs)</code></figcaption>\n",
    "</figure>"
   ]
  }
 ],
 "metadata": {
  "kernelspec": {
   "display_name": "Kotlin",
   "language": "kotlin",
   "name": "kotlin"
  },
  "language_info": {
   "name": "kotlin"
  }
 },
 "nbformat": 4,
 "nbformat_minor": 5
}
