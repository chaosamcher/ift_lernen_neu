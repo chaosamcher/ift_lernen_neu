{
 "cells": [
  {
   "cell_type": "markdown",
   "source": [
    "# 2D-Listen\n",
    "\n",
    "## Grundlagen\n",
    "\n",
    "Listen bestehen aus Elementen, die denselben Typ haben. Z. B. bestehen die Listen `xs` und `ys` aus Charactern."
   ],
   "attachments": {},
   "metadata": {
    "datalore": {
     "node_id": "Nq2w9FkUQY7RrfddEoOlai",
     "type": "MD",
     "hide_input_from_viewers": true,
     "hide_output_from_viewers": true
    }
   }
  },
  {
   "cell_type": "code",
   "source": [
    "val xs: List<Char> = listOf('G', 'H', 'S')\n",
    "\n",
    "val ys: List<Char> = listOf('E')"
   ],
   "metadata": {
    "datalore": {
     "node_id": "6CB5dAKuJztuWa68au2b0F",
     "type": "CODE",
     "hide_input_from_viewers": true,
     "hide_output_from_viewers": true
    },
    "ExecuteTime": {
     "end_time": "2025-02-17T16:21:32.463139831Z",
     "start_time": "2025-02-17T16:21:32.243206344Z"
    }
   },
   "outputs": [],
   "execution_count": 13
  },
  {
   "cell_type": "markdown",
   "source": [
    "Anders ausgedrückt haben `xs` und `ys` den Typ `List<Char>`"
   ],
   "attachments": {},
   "metadata": {
    "datalore": {
     "node_id": "L4yMo0Onl3Y3z7ApDCSxhW",
     "type": "MD",
     "hide_input_from_viewers": true,
     "hide_output_from_viewers": true
    }
   }
  },
  {
   "cell_type": "markdown",
   "source": "Da `xs` und `ys` denselben Typ haben, können wir diese beiden Listen in einer neuen Liste abspeichern.",
   "attachments": {},
   "metadata": {
    "datalore": {
     "node_id": "ZNSUE6H7kNb9pP1mQlNQ23",
     "type": "MD",
     "hide_input_from_viewers": true,
     "hide_output_from_viewers": true
    }
   }
  },
  {
   "cell_type": "code",
   "source": "val zs: List<List<Char>> = listOf(xs, ys)",
   "metadata": {
    "datalore": {
     "node_id": "We22G4yqptZbb9druLQLKs",
     "type": "CODE",
     "hide_input_from_viewers": true,
     "hide_output_from_viewers": true
    },
    "ExecuteTime": {
     "end_time": "2025-02-17T16:21:32.548715441Z",
     "start_time": "2025-02-17T16:21:32.478310199Z"
    }
   },
   "outputs": [],
   "execution_count": 14
  },
  {
   "cell_type": "markdown",
   "source": [
    "Da die Elemente in `zs` den Typ `List<Char>` haben, hat `zs` den Typ `List<List<Char>>`.\n",
    "Dies wird auch deutlich, wenn man die Liste `zs` anzeigt."
   ],
   "attachments": {},
   "metadata": {
    "datalore": {
     "node_id": "GhN0gPlKeAKm0ptnVYZkkP",
     "type": "MD",
     "hide_input_from_viewers": true,
     "hide_output_from_viewers": true
    }
   }
  },
  {
   "cell_type": "code",
   "source": [
    "zs"
   ],
   "metadata": {
    "datalore": {
     "node_id": "5m3np10EesQSWrze7GthdX",
     "type": "CODE",
     "hide_input_from_viewers": true,
     "hide_output_from_viewers": true
    },
    "ExecuteTime": {
     "end_time": "2025-02-17T16:21:32.653697790Z",
     "start_time": "2025-02-17T16:21:32.560397543Z"
    }
   },
   "outputs": [
    {
     "data": {
      "text/plain": [
       "[[G, H, S], [E]]"
      ]
     },
     "execution_count": 15,
     "metadata": {},
     "output_type": "execute_result"
    }
   ],
   "execution_count": 15
  },
  {
   "cell_type": "markdown",
   "source": [
    "## Zugriff auf Elemente\n",
    "\n",
    "Wenn wir mit einem Index auf ein Element in `zs` zugreifen, erhalten wir eine Liste von Charactern."
   ],
   "attachments": {},
   "metadata": {
    "datalore": {
     "node_id": "YCvNgLcZa52w7c52OxzagT",
     "type": "MD",
     "hide_input_from_viewers": true,
     "hide_output_from_viewers": true
    }
   }
  },
  {
   "cell_type": "code",
   "source": [
    "zs[1]"
   ],
   "metadata": {
    "datalore": {
     "node_id": "2Zv54HZkrK0boY7n7tcABQ",
     "type": "CODE",
     "hide_input_from_viewers": true,
     "hide_output_from_viewers": true
    },
    "ExecuteTime": {
     "end_time": "2025-02-17T16:21:32.765345198Z",
     "start_time": "2025-02-17T16:21:32.669108253Z"
    }
   },
   "outputs": [
    {
     "data": {
      "text/plain": [
       "[E]"
      ]
     },
     "execution_count": 16,
     "metadata": {},
     "output_type": "execute_result"
    }
   ],
   "execution_count": 16
  },
  {
   "cell_type": "markdown",
   "source": [
    "Erst wenn wir anschließend auf ein Element in dieser Liste zugreifen, erhalten wir einen Character."
   ],
   "attachments": {},
   "metadata": {
    "datalore": {
     "node_id": "JYegQlP4BNAYK9VyFMGHnC",
     "type": "MD",
     "hide_input_from_viewers": true,
     "hide_output_from_viewers": true
    }
   }
  },
  {
   "cell_type": "code",
   "source": [
    "zs[1][0]"
   ],
   "metadata": {
    "datalore": {
     "node_id": "5pLZzm4XsVoiAuUtpW1oh9",
     "type": "CODE",
     "hide_input_from_viewers": true,
     "hide_output_from_viewers": true
    },
    "ExecuteTime": {
     "end_time": "2025-02-17T16:21:32.868204750Z",
     "start_time": "2025-02-17T16:21:32.789880733Z"
    }
   },
   "outputs": [
    {
     "data": {
      "text/plain": [
       "E"
      ]
     },
     "execution_count": 17,
     "metadata": {},
     "output_type": "execute_result"
    }
   ],
   "execution_count": 17
  },
  {
   "metadata": {},
   "cell_type": "markdown",
   "source": [
    "In der folgenden Grafik stehen die Listen in `zs` als Zeilen untereinander. Auf der linken Seite stehen die Indizes dieser Listen/Zeilen in `zs`. Unten stehen die Indizes der Character in diesen Listen. Diese geben an, in welcher Spalte sich ein Element befindet.\n",
    "\n",
    "<figure style = \"text-align:center\" >\n",
    "\n",
    "<img src=\"grafik_2d_listen.svg\" style=\"width:35.0%; ; background-color:white;\" />\n",
    "</figure>\n",
    "\n",
    "Jeder Character hat genau einen Zeilen- und einen Spaltenindex genauso wie Punkte in einer zweidimensionalen Ebene genau eine $x$ und $y$-Koordinate haben. Deshalb bezeichnet man Listen, deren Elemente selbst Listen sind, auch als 2D-Listen."
   ]
  },
  {
   "cell_type": "markdown",
   "source": [
    "## Iteration über 2D-Listen\n",
    "\n",
    "Wenn wir über eine 2D-list iterieren, durchläuft die Zählervariable die Listen in der 2D-Liste"
   ],
   "attachments": {},
   "metadata": {
    "datalore": {
     "node_id": "dgiS3td6NLfacxGxFdKs6n",
     "type": "MD",
     "hide_input_from_viewers": true,
     "hide_output_from_viewers": true
    }
   }
  },
  {
   "cell_type": "code",
   "source": [
    "for (l in zs) {\n",
    "    println(l)\n",
    "}"
   ],
   "metadata": {
    "datalore": {
     "node_id": "2QOueNX6V0bk8IXq6MCyUQ",
     "type": "CODE",
     "hide_input_from_viewers": true,
     "hide_output_from_viewers": true
    },
    "ExecuteTime": {
     "end_time": "2025-02-17T16:21:33.028030119Z",
     "start_time": "2025-02-17T16:21:32.883158018Z"
    }
   },
   "outputs": [
    {
     "name": "stdout",
     "output_type": "stream",
     "text": [
      "[G, H, S]\n",
      "[E]\n"
     ]
    }
   ],
   "execution_count": 18
  },
  {
   "cell_type": "markdown",
   "source": [
    "Um wirklich die Elemente in diesen Listen zu durchlaufen, müssen wir im Schleifenkörper nochmal eine Schleife nutzen."
   ],
   "attachments": {},
   "metadata": {
    "datalore": {
     "node_id": "UCYyuJu6LIxAVvH0DD9z9p",
     "type": "MD",
     "hide_input_from_viewers": true,
     "hide_output_from_viewers": true
    }
   }
  },
  {
   "cell_type": "code",
   "source": [
    "for (l in zs) {\n",
    "    for (x in l){\n",
    "        println(x)\n",
    "    }\n",
    "}"
   ],
   "metadata": {
    "datalore": {
     "node_id": "jhd0lHsAB2ftPe777vJvQO",
     "type": "CODE",
     "hide_input_from_viewers": true,
     "hide_output_from_viewers": true
    },
    "ExecuteTime": {
     "end_time": "2025-02-17T16:21:33.145387592Z",
     "start_time": "2025-02-17T16:21:33.042391604Z"
    }
   },
   "outputs": [
    {
     "name": "stdout",
     "output_type": "stream",
     "text": [
      "G\n",
      "H\n",
      "S\n",
      "E\n"
     ]
    }
   ],
   "execution_count": 19
  },
  {
   "cell_type": "markdown",
   "source": [
    "Verschachtelte Schleifen sind of schwer lesbar. Die Lesbarkeit verbessert sich, wenn wir die innere Schleife in eine Funktion extrahieren."
   ],
   "attachments": {},
   "metadata": {
    "datalore": {
     "node_id": "FvrGt2OCs0ZVzOLUnUMxfh",
     "type": "MD",
     "hide_input_from_viewers": true,
     "hide_output_from_viewers": true
    }
   }
  },
  {
   "cell_type": "code",
   "source": [
    "fun printCharList(xs:List<Char>){\n",
    "    for (x in xs){\n",
    "        println(x)\n",
    "    }\n",
    "}\n",
    "\n",
    "for (l in zs) {\n",
    "    printCharList(l)\n",
    "}"
   ],
   "metadata": {
    "datalore": {
     "node_id": "QRm3TNn2goc9ymmB2t0mDp",
     "type": "CODE",
     "hide_input_from_viewers": true,
     "hide_output_from_viewers": true
    },
    "ExecuteTime": {
     "end_time": "2025-02-17T16:21:33.434894299Z",
     "start_time": "2025-02-17T16:21:33.227429103Z"
    }
   },
   "outputs": [
    {
     "name": "stdout",
     "output_type": "stream",
     "text": [
      "G\n",
      "H\n",
      "S\n",
      "E\n"
     ]
    }
   ],
   "execution_count": 20
  },
  {
   "metadata": {},
   "cell_type": "markdown",
   "source": [
    "## Addition von 2D -Listen\n",
    "\n",
    "Die Liste `xs` hat den Typ `List<Int>`."
   ]
  },
  {
   "metadata": {
    "ExecuteTime": {
     "end_time": "2025-02-17T16:34:50.721532873Z",
     "start_time": "2025-02-17T16:34:50.634460722Z"
    }
   },
   "cell_type": "code",
   "source": "val xs = listOf(5, 1)",
   "outputs": [],
   "execution_count": 28
  },
  {
   "metadata": {},
   "cell_type": "markdown",
   "source": "Die Liste `xxs` enthält Elemente vom Typ `List<Int>`."
  },
  {
   "metadata": {
    "ExecuteTime": {
     "end_time": "2025-02-17T16:34:52.221277912Z",
     "start_time": "2025-02-17T16:34:52.104536935Z"
    }
   },
   "cell_type": "code",
   "source": "var xxs = listOf(listOf(1, 3), listOf(2, 45))",
   "outputs": [],
   "execution_count": 29
  },
  {
   "metadata": {},
   "cell_type": "markdown",
   "source": "Trotzdem ist es nicht möglich die beiden Listen zu addieren."
  },
  {
   "metadata": {
    "ExecuteTime": {
     "end_time": "2025-02-17T16:34:55.040563007Z",
     "start_time": "2025-02-17T16:34:54.944777246Z"
    }
   },
   "cell_type": "code",
   "source": "xxs = xss + xs",
   "outputs": [
    {
     "ename": "org.jetbrains.kotlinx.jupyter.exceptions.ReplCompilerException",
     "evalue": "at Cell In[31], line 1, column 7: Type mismatch: inferred type is Int but List<Int> was expected",
     "output_type": "error",
     "traceback": [
      "org.jetbrains.kotlinx.jupyter.exceptions.ReplCompilerException: at Cell In[31], line 1, column 7: Type mismatch: inferred type is Int but List<Int> was expected",
      "\tat org.jetbrains.kotlinx.jupyter.repl.impl.JupyterCompilerImpl.compileSync(JupyterCompilerImpl.kt:208)",
      "\tat org.jetbrains.kotlinx.jupyter.repl.impl.InternalEvaluatorImpl.eval(InternalEvaluatorImpl.kt:126)",
      "\tat org.jetbrains.kotlinx.jupyter.repl.impl.CellExecutorImpl$execute$1$result$1.invoke(CellExecutorImpl.kt:80)",
      "\tat org.jetbrains.kotlinx.jupyter.repl.impl.CellExecutorImpl$execute$1$result$1.invoke(CellExecutorImpl.kt:78)",
      "\tat org.jetbrains.kotlinx.jupyter.repl.impl.ReplForJupyterImpl.withHost(ReplForJupyterImpl.kt:774)",
      "\tat org.jetbrains.kotlinx.jupyter.repl.impl.CellExecutorImpl.execute-L4Nmkdk(CellExecutorImpl.kt:78)",
      "\tat org.jetbrains.kotlinx.jupyter.repl.execution.CellExecutor$DefaultImpls.execute-L4Nmkdk$default(CellExecutor.kt:13)",
      "\tat org.jetbrains.kotlinx.jupyter.repl.impl.ReplForJupyterImpl.evaluateUserCode-wNURfNM(ReplForJupyterImpl.kt:596)",
      "\tat org.jetbrains.kotlinx.jupyter.repl.impl.ReplForJupyterImpl.evalExImpl(ReplForJupyterImpl.kt:454)",
      "\tat org.jetbrains.kotlinx.jupyter.repl.impl.ReplForJupyterImpl.access$evalExImpl(ReplForJupyterImpl.kt:141)",
      "\tat org.jetbrains.kotlinx.jupyter.repl.impl.ReplForJupyterImpl$evalEx$1.invoke(ReplForJupyterImpl.kt:447)",
      "\tat org.jetbrains.kotlinx.jupyter.repl.impl.ReplForJupyterImpl$evalEx$1.invoke(ReplForJupyterImpl.kt:446)",
      "\tat org.jetbrains.kotlinx.jupyter.repl.impl.ReplForJupyterImpl.withEvalContext(ReplForJupyterImpl.kt:427)",
      "\tat org.jetbrains.kotlinx.jupyter.repl.impl.ReplForJupyterImpl.evalEx(ReplForJupyterImpl.kt:446)",
      "\tat org.jetbrains.kotlinx.jupyter.messaging.IdeCompatibleMessageRequestProcessor$processExecuteRequest$1$response$1$1.invoke(IdeCompatibleMessageRequestProcessor.kt:171)",
      "\tat org.jetbrains.kotlinx.jupyter.messaging.IdeCompatibleMessageRequestProcessor$processExecuteRequest$1$response$1$1.invoke(IdeCompatibleMessageRequestProcessor.kt:170)",
      "\tat org.jetbrains.kotlinx.jupyter.streams.BlockingSubstitutionEngine.withDataSubstitution(SubstitutionEngine.kt:70)",
      "\tat org.jetbrains.kotlinx.jupyter.streams.StreamSubstitutionManager.withSubstitutedStreams(StreamSubstitutionManager.kt:118)",
      "\tat org.jetbrains.kotlinx.jupyter.messaging.IdeCompatibleMessageRequestProcessor.withForkedIn(IdeCompatibleMessageRequestProcessor.kt:347)",
      "\tat org.jetbrains.kotlinx.jupyter.messaging.IdeCompatibleMessageRequestProcessor.access$withForkedIn(IdeCompatibleMessageRequestProcessor.kt:67)",
      "\tat org.jetbrains.kotlinx.jupyter.messaging.IdeCompatibleMessageRequestProcessor$evalWithIO$1$1.invoke(IdeCompatibleMessageRequestProcessor.kt:361)",
      "\tat org.jetbrains.kotlinx.jupyter.streams.BlockingSubstitutionEngine.withDataSubstitution(SubstitutionEngine.kt:70)",
      "\tat org.jetbrains.kotlinx.jupyter.streams.StreamSubstitutionManager.withSubstitutedStreams(StreamSubstitutionManager.kt:118)",
      "\tat org.jetbrains.kotlinx.jupyter.messaging.IdeCompatibleMessageRequestProcessor.withForkedErr(IdeCompatibleMessageRequestProcessor.kt:336)",
      "\tat org.jetbrains.kotlinx.jupyter.messaging.IdeCompatibleMessageRequestProcessor.access$withForkedErr(IdeCompatibleMessageRequestProcessor.kt:67)",
      "\tat org.jetbrains.kotlinx.jupyter.messaging.IdeCompatibleMessageRequestProcessor$evalWithIO$1.invoke(IdeCompatibleMessageRequestProcessor.kt:360)",
      "\tat org.jetbrains.kotlinx.jupyter.streams.BlockingSubstitutionEngine.withDataSubstitution(SubstitutionEngine.kt:70)",
      "\tat org.jetbrains.kotlinx.jupyter.streams.StreamSubstitutionManager.withSubstitutedStreams(StreamSubstitutionManager.kt:118)",
      "\tat org.jetbrains.kotlinx.jupyter.messaging.IdeCompatibleMessageRequestProcessor.withForkedOut(IdeCompatibleMessageRequestProcessor.kt:328)",
      "\tat org.jetbrains.kotlinx.jupyter.messaging.IdeCompatibleMessageRequestProcessor.evalWithIO(IdeCompatibleMessageRequestProcessor.kt:359)",
      "\tat org.jetbrains.kotlinx.jupyter.messaging.IdeCompatibleMessageRequestProcessor$processExecuteRequest$1$response$1.invoke(IdeCompatibleMessageRequestProcessor.kt:170)",
      "\tat org.jetbrains.kotlinx.jupyter.messaging.IdeCompatibleMessageRequestProcessor$processExecuteRequest$1$response$1.invoke(IdeCompatibleMessageRequestProcessor.kt:169)",
      "\tat org.jetbrains.kotlinx.jupyter.execution.JupyterExecutorImpl$Task.execute(JupyterExecutorImpl.kt:41)",
      "\tat org.jetbrains.kotlinx.jupyter.execution.JupyterExecutorImpl$executorThread$1.invoke(JupyterExecutorImpl.kt:81)",
      "\tat org.jetbrains.kotlinx.jupyter.execution.JupyterExecutorImpl$executorThread$1.invoke(JupyterExecutorImpl.kt:79)",
      "\tat kotlin.concurrent.ThreadsKt$thread$thread$1.run(Thread.kt:30)",
      ""
     ]
    }
   ],
   "execution_count": 31
  },
  {
   "metadata": {},
   "cell_type": "markdown",
   "source": "Das Problem kann umgangen werden, wenn wir davor die Liste `xs` in eine weitere 2D-Liste umwandeln."
  },
  {
   "metadata": {
    "ExecuteTime": {
     "end_time": "2025-02-17T16:36:57.584719652Z",
     "start_time": "2025-02-17T16:36:57.473828858Z"
    }
   },
   "cell_type": "code",
   "source": "xxs = xss + listOf(xs)\n",
   "outputs": [],
   "execution_count": 32
  }
 ],
 "metadata": {
  "kernelspec": {
   "display_name": "Kotlin",
   "language": "kotlin",
   "name": "kotlin"
  },
  "datalore": {
   "computation_mode": "JUPYTER",
   "package_manager": "pip",
   "base_environment": "default",
   "packages": [],
   "report_row_ids": [],
   "version": 3
  }
 },
 "nbformat": 4,
 "nbformat_minor": 4
}
