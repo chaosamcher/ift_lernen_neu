{
 "cells": [
  {
   "cell_type": "markdown",
   "source": [
    "## Motivation\n",
    "\n",
    "Wenn wir die Namen und Preise der Artikel in einem Supermarkt speichern wollen, brauchen wir pro Artikel $ 2 $ Werte."
   ],
   "attachments": {},
   "metadata": {}
  },
  {
   "metadata": {
    "ExecuteTime": {
     "end_time": "2025-03-09T20:11:48.489993056Z",
     "start_time": "2025-03-09T20:11:48.378310101Z"
    }
   },
   "cell_type": "code",
   "source": [
    "val nameOfFirstArticle = \"Apfel\"\n",
    "val priceOfFirstArticle = 3\n",
    "\n",
    "val nameOfSecondArticle = \"Banane\"\n",
    "val priceOfSecondArticle = 2"
   ],
   "outputs": [],
   "execution_count": 1
  },
  {
   "metadata": {},
   "cell_type": "markdown",
   "source": [
    "Es gibt **keine** Verbindung zwischen den Werten, die einen Artikel darstellen.\n",
    "\n",
    "Deshalb müssen einer Funktion, die mit beiden Eigenschaften eines Artikels arbeitet, immer zwei Argumente übergeben werden."
   ]
  },
  {
   "metadata": {
    "ExecuteTime": {
     "end_time": "2025-03-09T20:11:48.601208755Z",
     "start_time": "2025-03-09T20:11:48.513906035Z"
    }
   },
   "cell_type": "code",
   "source": "fun showArticle(name: String, price:Int) = \"Die Bezeichnung des Artikels ist \" + name + \" und der Preis beträgt \" + price + \" €!\"",
   "outputs": [],
   "execution_count": 2
  },
  {
   "metadata": {
    "ExecuteTime": {
     "end_time": "2025-03-09T20:11:48.744993757Z",
     "start_time": "2025-03-09T20:11:48.614791772Z"
    }
   },
   "cell_type": "code",
   "source": "showArticle(nameOfFirstArticle,priceOfFirstArticle)",
   "outputs": [
    {
     "data": {
      "text/plain": [
       "Die Bezeichnung des Artikels ist Apfel und der Preis beträgt 3 €!"
      ]
     },
     "execution_count": 3,
     "metadata": {},
     "output_type": "execute_result"
    }
   ],
   "execution_count": 3
  },
  {
   "metadata": {},
   "cell_type": "markdown",
   "source": "Die Funktion `showArticle` hat keine Möglichkeit zu überprüfen, ob die beiden Werte zusammen gehören. Deshalb wird beim folgenden Aufruf keine Fehlermeldung angezeigt."
  },
  {
   "metadata": {
    "ExecuteTime": {
     "end_time": "2025-03-09T20:11:49.153503515Z",
     "start_time": "2025-03-09T20:11:48.912151953Z"
    }
   },
   "cell_type": "code",
   "source": "showArticle(nameOfFirstArticle, priceOfSecondArticle)\n",
   "outputs": [
    {
     "data": {
      "text/plain": [
       "Die Bezeichnung des Artikels ist Apfel und der Preis beträgt 2 €!"
      ]
     },
     "execution_count": 4,
     "metadata": {},
     "output_type": "execute_result"
    }
   ],
   "execution_count": 4
  },
  {
   "metadata": {
    "datalore": {
     "node_id": "U7Lt8bNC1YvF7PrY0tRV9Q",
     "type": "MD",
     "hide_input_from_viewers": true,
     "hide_output_from_viewers": true
    }
   },
   "cell_type": "markdown",
   "source": [
    "Da *Name* und *Preis* eines Artikels zusammen gehören, wäre es sinnvoller, einen Artikel mit **nur einem** Wert darzustellen.\n",
    "In diesem Notebook lernst du, wie das funktioniert.\n",
    "\n",
    "## Datenklassen\n",
    "\n",
    "Mit den Schlüsselwörtern `data class` kann ein neuer Datentyp erstellt werden."
   ]
  },
  {
   "cell_type": "code",
   "source": [
    "data class Article(val name: String, val price: Int)"
   ],
   "metadata": {
    "datalore": {
     "node_id": "bICiBh9622nAdLIDgTwZYO",
     "type": "CODE",
     "hide_input_from_viewers": true,
     "hide_output_from_viewers": true
    },
    "ExecuteTime": {
     "end_time": "2025-03-09T20:11:50.111727100Z",
     "start_time": "2025-03-09T20:11:49.176184719Z"
    }
   },
   "outputs": [],
   "execution_count": 5
  },
  {
   "cell_type": "markdown",
   "source": [
    "1. Hinter den Schlüsselwörtern `data` und `class` steht, dass der Name des neuen Datentyps `Article` ist.\n",
    "2. In den Klammern hinter dem Namen des Datentyps steht, aus welchen Werten sich ein Artikel zusammensetzt.\n",
    "    1. Die erste Eigenschaft eines `Article` ist ein `String` und heißt `name`\n",
    "    2. Die zweite Eigenschaft eines `Article` ist ein `Integer` und heißt `price`"
   ],
   "attachments": {},
   "metadata": {
    "datalore": {
     "node_id": "bxyckZ6yAPgtlFFzgEVR1U",
     "type": "MD",
     "hide_input_from_viewers": true,
     "hide_output_from_viewers": true
    }
   }
  },
  {
   "cell_type": "markdown",
   "source": [
    "## Werte von selbst definierten Datentypen erzeugen\n",
    "\n",
    "Wenn wir in der Zeile, mit der wir den Datentyp definiert haben,\n",
    "die Schlüsselwörter `data class` durch `fun` austauschen und das `val` vor jeder Eigenschaft löschen, erhalten wir die folgende Zeile:\n",
    "\n",
    "``fun Article(name: String, price: Int)``\n",
    "\n",
    "\n",
    "Dabei handelt es sich um einen korrekten Funktionskopf. Eine solche Funktion heißt *Konstruktor* und gibt beim Aufruf einen Wert der Klasse zurück. Den Konstruktor müssen wir aber nicht selbst implementieren, er wird bei der Definition der Datenklasse erzeugt. Wie jede Funktion rufen wir diesen auf, indem wir konkrete Werte für die Parameter übergeben."
   ],
   "attachments": {},
   "metadata": {
    "datalore": {
     "node_id": "dFLjYIMpbVxfxRRHfWSe03",
     "type": "MD",
     "hide_input_from_viewers": true,
     "hide_output_from_viewers": true
    }
   }
  },
  {
   "cell_type": "code",
   "source": [
    "Article(\"Apple\", 3)"
   ],
   "metadata": {
    "datalore": {
     "node_id": "jjqvoS2hHXfVd94vEe1dSk",
     "type": "CODE",
     "hide_input_from_viewers": true,
     "hide_output_from_viewers": true
    },
    "ExecuteTime": {
     "end_time": "2025-03-09T20:11:50.432926628Z",
     "start_time": "2025-03-09T20:11:50.215535220Z"
    }
   },
   "outputs": [
    {
     "data": {
      "text/plain": [
       "Article(name=Apple, price=3)"
      ]
     },
     "execution_count": 6,
     "metadata": {},
     "output_type": "execute_result"
    }
   ],
   "execution_count": 6
  },
  {
   "cell_type": "markdown",
   "source": " Der Rückgabewert ist ein `Article` dessen Eigenschaften den übergebenen Werten entsprechen. Werte die zu einer Datenklasse gehören, nennt man *Objekte* oder *Instanzen* der Datenklasse.",
   "attachments": {},
   "metadata": {
    "datalore": {
     "node_id": "SixH6GmJbmMFA8feRW99KU",
     "type": "MD",
     "hide_input_from_viewers": true,
     "hide_output_from_viewers": true
    }
   }
  },
  {
   "cell_type": "markdown",
   "source": [
    "## Arbeiten mit Objekten\n",
    "\n",
    "Mit Objekten, können wir alles machen, was wir mit den Werten von vordefinierten Datentypen machen können. Wir können diese in Variablen speichern."
   ],
   "attachments": {},
   "metadata": {
    "datalore": {
     "node_id": "RvnfyDxTbjNNy19gjYUZxN",
     "type": "MD",
     "hide_input_from_viewers": true,
     "hide_output_from_viewers": true
    }
   }
  },
  {
   "cell_type": "code",
   "source": [
    "val firstApple = Article(\"Apfel\", 3)\n",
    "\n",
    "val secondApple = Article(\"Apfel\", 3)\n",
    "\n",
    "val banana = Article(\"Banane\", 2)"
   ],
   "metadata": {
    "datalore": {
     "node_id": "VZ0nbcdfuTDxuqvKyYR0GI",
     "type": "CODE",
     "hide_input_from_viewers": true,
     "hide_output_from_viewers": true
    },
    "ExecuteTime": {
     "end_time": "2025-03-09T20:11:50.626577328Z",
     "start_time": "2025-03-09T20:11:50.456002790Z"
    }
   },
   "outputs": [],
   "execution_count": 7
  },
  {
   "cell_type": "markdown",
   "source": "Wir können zwei Werte die denselben Typ haben, miteinander vergleichen.",
   "attachments": {},
   "metadata": {
    "datalore": {
     "node_id": "qPvyAlHwdX7GlEsBonRgEO",
     "type": "MD",
     "hide_input_from_viewers": true,
     "hide_output_from_viewers": true
    }
   }
  },
  {
   "cell_type": "code",
   "source": [
    "firstApple == secondApple"
   ],
   "metadata": {
    "datalore": {
     "node_id": "lOIhWIK0BEYIVc1Jxg4huo",
     "type": "CODE",
     "hide_input_from_viewers": true,
     "hide_output_from_viewers": true
    },
    "ExecuteTime": {
     "end_time": "2025-03-09T20:11:50.740084943Z",
     "start_time": "2025-03-09T20:11:50.641038541Z"
    }
   },
   "outputs": [
    {
     "data": {
      "text/plain": [
       "true"
      ]
     },
     "execution_count": 8,
     "metadata": {},
     "output_type": "execute_result"
    }
   ],
   "execution_count": 8
  },
  {
   "cell_type": "code",
   "source": [
    "secondApple == banana"
   ],
   "metadata": {
    "datalore": {
     "node_id": "HXBk6u1VPiXrbDFQ3UytmX",
     "type": "CODE",
     "hide_input_from_viewers": true,
     "hide_output_from_viewers": true
    },
    "ExecuteTime": {
     "end_time": "2025-03-09T20:11:50.889621167Z",
     "start_time": "2025-03-09T20:11:50.763867768Z"
    }
   },
   "outputs": [
    {
     "data": {
      "text/plain": [
       "false"
      ]
     },
     "execution_count": 9,
     "metadata": {},
     "output_type": "execute_result"
    }
   ],
   "execution_count": 9
  },
  {
   "cell_type": "markdown",
   "source": "Wir können Werte, die denselben Typ haben, in Listen speichern",
   "attachments": {},
   "metadata": {
    "datalore": {
     "node_id": "0T9vi4etLI5lQss2kYyNgg",
     "type": "MD",
     "hide_input_from_viewers": true,
     "hide_output_from_viewers": true
    }
   }
  },
  {
   "cell_type": "code",
   "source": [
    "val fruits = listOf(firstApple, secondApple, banana)"
   ],
   "metadata": {
    "datalore": {
     "node_id": "ZfX4Jtk6sYqs3NtH1gykbw",
     "type": "CODE",
     "hide_input_from_viewers": true,
     "hide_output_from_viewers": true
    },
    "ExecuteTime": {
     "end_time": "2025-03-09T20:11:51.128071583Z",
     "start_time": "2025-03-09T20:11:50.924210850Z"
    }
   },
   "outputs": [],
   "execution_count": 10
  },
  {
   "cell_type": "markdown",
   "source": [
    "## Zugriff auf Eigenschaften\n",
    "\n",
    "Indem man den Namen einer Eigenschaft hinter ein Objekt mit dieser Eigenschaft schreibt, kann man auf diese Eigenschaft zugreifen."
   ],
   "attachments": {},
   "metadata": {
    "datalore": {
     "node_id": "HCCH3VbpqIQ5C4mK5AHcmu",
     "type": "MD",
     "hide_input_from_viewers": true,
     "hide_output_from_viewers": true
    }
   }
  },
  {
   "cell_type": "code",
   "source": [
    "banana.price"
   ],
   "metadata": {
    "datalore": {
     "node_id": "9g0tGAQ3qS2hSfZrU8D6sS",
     "type": "CODE",
     "hide_input_from_viewers": true,
     "hide_output_from_viewers": true
    },
    "ExecuteTime": {
     "end_time": "2025-03-09T20:11:51.258967360Z",
     "start_time": "2025-03-09T20:11:51.140192543Z"
    }
   },
   "outputs": [
    {
     "data": {
      "text/plain": [
       "2"
      ]
     },
     "execution_count": 11,
     "metadata": {},
     "output_type": "execute_result"
    }
   ],
   "execution_count": 11
  },
  {
   "cell_type": "code",
   "source": [
    "firstApple.name"
   ],
   "metadata": {
    "datalore": {
     "node_id": "K0TUlgPi2raazsaCEY92PR",
     "type": "CODE",
     "hide_input_from_viewers": true,
     "hide_output_from_viewers": true
    },
    "ExecuteTime": {
     "end_time": "2025-03-09T20:11:51.602876017Z",
     "start_time": "2025-03-09T20:11:51.294802118Z"
    }
   },
   "outputs": [
    {
     "data": {
      "text/plain": [
       "Apfel"
      ]
     },
     "execution_count": 12,
     "metadata": {},
     "output_type": "execute_result"
    }
   ],
   "execution_count": 12
  },
  {
   "cell_type": "markdown",
   "source": [
    "## Zusammengesetzte Datentypen mit Funktionen bearbeiten\n",
    "\n",
    "Wie Werte mit vordefinierten Datentypen können Objekte Argumente von Funktionen sein. Damit lässt sich die Funktionen aus dem Eingangsbeispiel vereinfachen."
   ],
   "attachments": {},
   "metadata": {
    "datalore": {
     "node_id": "1RKBUzKAVmEMSmWQagLSgq",
     "type": "MD",
     "hide_input_from_viewers": true,
     "hide_output_from_viewers": true
    }
   }
  },
  {
   "metadata": {
    "ExecuteTime": {
     "end_time": "2025-03-09T20:11:51.955435918Z",
     "start_time": "2025-03-09T20:11:51.759487919Z"
    }
   },
   "cell_type": "code",
   "source": "fun showArticle(article: Article) = \"Die Bezeichnung des Artikels ist \" + article.name + \" und der Preis beträgt \" + article.price + \" €!\"",
   "outputs": [],
   "execution_count": 13
  },
  {
   "metadata": {
    "ExecuteTime": {
     "end_time": "2025-03-09T20:11:52.193400834Z",
     "start_time": "2025-03-09T20:11:52.017237959Z"
    }
   },
   "cell_type": "code",
   "source": "showArticle(firstApple)",
   "outputs": [
    {
     "data": {
      "text/plain": [
       "Die Bezeichnung des Artikels ist Apfel und der Preis beträgt 3 €!"
      ]
     },
     "execution_count": 14,
     "metadata": {},
     "output_type": "execute_result"
    }
   ],
   "execution_count": 14
  },
  {
   "metadata": {},
   "cell_type": "markdown",
   "source": "Objekte können auch Rückgabewerte von Funktionen sein."
  },
  {
   "cell_type": "code",
   "source": [
    "fun combineArticles(firstArticle: Article, secondArticle: Article): Article = \n",
    "    Article(firstArticle.name + \" und \" + secondArticle.name, firstArticle.price + secondArticle.price)"
   ],
   "metadata": {
    "datalore": {
     "node_id": "tnFXma98PCh92koz5RXfpW",
     "type": "CODE",
     "hide_input_from_viewers": true,
     "hide_output_from_viewers": true
    },
    "ExecuteTime": {
     "end_time": "2025-03-09T20:11:52.433542641Z",
     "start_time": "2025-03-09T20:11:52.217379112Z"
    }
   },
   "outputs": [],
   "execution_count": 15
  },
  {
   "cell_type": "code",
   "source": [
    "combineArticles(firstApple, banana)"
   ],
   "metadata": {
    "datalore": {
     "node_id": "V8LLN2yaB2oybPo0VTUoTz",
     "type": "CODE",
     "hide_input_from_viewers": true,
     "hide_output_from_viewers": true
    },
    "ExecuteTime": {
     "end_time": "2025-03-09T20:11:52.638672354Z",
     "start_time": "2025-03-09T20:11:52.454252754Z"
    }
   },
   "outputs": [
    {
     "data": {
      "text/plain": [
       "Article(name=Apfel und Banane, price=5)"
      ]
     },
     "execution_count": 16,
     "metadata": {},
     "output_type": "execute_result"
    }
   ],
   "execution_count": 16
  },
  {
   "metadata": {},
   "cell_type": "markdown",
   "source": [
    "## Alle Werte sind Objekte\n",
    "\n",
    "In Kotlin sind alle Werte Objekte. Das sieht man daran, dass sie Eigenschaften haben, auf die mit der gelernten Punktnotation zugegriffen werden kann.\n"
   ]
  },
  {
   "metadata": {
    "ExecuteTime": {
     "end_time": "2025-03-09T20:11:52.935146284Z",
     "start_time": "2025-03-09T20:11:52.782626104Z"
    }
   },
   "cell_type": "code",
   "source": "\"hello\".length",
   "outputs": [
    {
     "data": {
      "text/plain": [
       "5"
      ]
     },
     "execution_count": 17,
     "metadata": {},
     "output_type": "execute_result"
    }
   ],
   "execution_count": 17
  },
  {
   "metadata": {
    "ExecuteTime": {
     "end_time": "2025-03-09T20:11:53.209167540Z",
     "start_time": "2025-03-09T20:11:53.014526709Z"
    }
   },
   "cell_type": "code",
   "source": "listOf(1, 3, 5).size",
   "outputs": [
    {
     "data": {
      "text/plain": [
       "3"
      ]
     },
     "execution_count": 18,
     "metadata": {},
     "output_type": "execute_result"
    }
   ],
   "execution_count": 18
  },
  {
   "metadata": {
    "ExecuteTime": {
     "end_time": "2025-03-09T20:11:53.421231477Z",
     "start_time": "2025-03-09T20:11:53.265195029Z"
    }
   },
   "cell_type": "code",
   "source": "'a'.code",
   "outputs": [
    {
     "data": {
      "text/plain": [
       "97"
      ]
     },
     "execution_count": 19,
     "metadata": {},
     "output_type": "execute_result"
    }
   ],
   "execution_count": 19
  },
  {
   "metadata": {
    "ExecuteTime": {
     "end_time": "2025-03-09T20:11:53.563436978Z",
     "start_time": "2025-03-09T20:11:53.443379895Z"
    }
   },
   "cell_type": "code",
   "source": "-3.sign",
   "outputs": [
    {
     "data": {
      "text/plain": [
       "-1"
      ]
     },
     "execution_count": 20,
     "metadata": {},
     "output_type": "execute_result"
    }
   ],
   "execution_count": 20
  }
 ],
 "metadata": {
  "kernelspec": {
   "display_name": "Kotlin",
   "language": "kotlin",
   "name": "kotlin"
  },
  "datalore": {
   "computation_mode": "JUPYTER",
   "package_manager": "pip",
   "base_environment": "default",
   "packages": [],
   "report_row_ids": [],
   "version": 3
  }
 },
 "nbformat": 4,
 "nbformat_minor": 4
}
