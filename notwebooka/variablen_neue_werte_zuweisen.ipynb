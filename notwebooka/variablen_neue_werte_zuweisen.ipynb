{
 "cells": [
  {
   "cell_type": "markdown",
   "id": "daa7c5a3-cb4d-4d58-9a8b-4f28a843d50a",
   "metadata": {},
   "source": [
    "# Variablen neue Werte zuweisen\n",
    "\n",
    "## Grundlagen\n",
    "\n",
    "Wenn wir eine *Variable* nicht mit `val` sondern mit `var` initialisieren, ist es möglich ihr später einen neuen Wert **mit demselben Typ** zuzuweisen. "
   ]
  },
  {
   "cell_type": "code",
   "id": "8e71f5af-6385-413e-9e41-4f1fc4e2366d",
   "metadata": {
    "ExecuteTime": {
     "end_time": "2025-03-29T12:42:15.800260318Z",
     "start_time": "2025-03-29T12:42:15.657621180Z"
    }
   },
   "source": [
    "var a = 2\n",
    "a"
   ],
   "outputs": [
    {
     "data": {
      "text/plain": [
       "2"
      ]
     },
     "execution_count": 1,
     "metadata": {},
     "output_type": "execute_result"
    }
   ],
   "execution_count": 1
  },
  {
   "cell_type": "markdown",
   "id": "5640016d-b6b8-43ea-832e-f84d5bb0491d",
   "metadata": {},
   "source": [
    "<figure style=\"text-align:center\">\n",
    "<img src=\"variable_a_2.svg\" style=\"width:15.0%; background-color:white;\" />\n",
    "\n",
    "<figcaption><em>Variable</em> <code class=\"sourceCode kotlin\">a</code>\n",
    "mit dem <em>Wert</em> <code\n",
    "class=\"sourceCode kotlin\"><span class=\"dv\">2</span></code></figcaption>\n",
    "</figure>"
   ]
  },
  {
   "cell_type": "code",
   "id": "db551f51-e0fc-48b8-bede-fe6c4b5d173c",
   "metadata": {
    "ExecuteTime": {
     "end_time": "2025-03-29T12:42:15.880288905Z",
     "start_time": "2025-03-29T12:42:15.807931178Z"
    }
   },
   "source": [
    "a = 5\n",
    "a"
   ],
   "outputs": [
    {
     "data": {
      "text/plain": [
       "5"
      ]
     },
     "execution_count": 2,
     "metadata": {},
     "output_type": "execute_result"
    }
   ],
   "execution_count": 2
  },
  {
   "cell_type": "markdown",
   "id": "16300adf-061e-4fc7-a709-ebeb126925ed",
   "metadata": {},
   "source": [
    "<figure style=\"text-align:center\">\n",
    "<img src=\"variable_a_updated_5.svg\" style=\"width:15.0%; background-color:white;\" />\n",
    "\n",
    "<figcaption>Änderung des <em>Werts</em> der <em>Variable</em> <code\n",
    "class=\"sourceCode kotlin\">a</code> zu <code\n",
    "class=\"sourceCode kotlin\"><span class=\"dv\">5</span></code></figcaption>\n",
    "</figure>\n",
    "\n",
    "Auf der rechten Seite einer *Zuweisung* kann jeder *Ausdruck* stehen.\n",
    "Insbesondere ist es nach dem *Initialisieren* möglich, in dem *Ausdruck*\n",
    "die *Variable* selbst zu verwenden."
   ]
  },
  {
   "cell_type": "code",
   "id": "0cb1e47a-aa0c-41a7-a490-a7b6f5799926",
   "metadata": {
    "ExecuteTime": {
     "end_time": "2025-03-29T12:42:15.970619676Z",
     "start_time": "2025-03-29T12:42:15.888420537Z"
    }
   },
   "source": [
    "a = 2 * a\n",
    "a"
   ],
   "outputs": [
    {
     "data": {
      "text/plain": [
       "10"
      ]
     },
     "execution_count": 3,
     "metadata": {},
     "output_type": "execute_result"
    }
   ],
   "execution_count": 3
  },
  {
   "metadata": {},
   "cell_type": "markdown",
   "source": [
    "## Variablen mit val\n",
    "\n",
    "Einer *Variable,* die mit `val` initialisiert wurde, kann man keinen neuen *Wert* zuweisen. \n"
   ],
   "id": "aa547e57dae36536"
  },
  {
   "metadata": {
    "ExecuteTime": {
     "end_time": "2025-03-29T12:42:16.070036455Z",
     "start_time": "2025-03-29T12:42:15.982619752Z"
    }
   },
   "cell_type": "code",
   "source": [
    "val c = 1\n",
    "c = 2"
   ],
   "id": "f3ce0b4375963717",
   "outputs": [
    {
     "ename": "org.jetbrains.kotlinx.jupyter.exceptions.ReplCompilerException",
     "evalue": "at Cell In[4], line 2, column 1: Val cannot be reassigned",
     "output_type": "error",
     "traceback": [
      "org.jetbrains.kotlinx.jupyter.exceptions.ReplCompilerException: at Cell In[4], line 2, column 1: Val cannot be reassigned",
      "\tat org.jetbrains.kotlinx.jupyter.repl.impl.JupyterCompilerImpl.compileSync(JupyterCompilerImpl.kt:208)",
      "\tat org.jetbrains.kotlinx.jupyter.repl.impl.InternalEvaluatorImpl.eval(InternalEvaluatorImpl.kt:126)",
      "\tat org.jetbrains.kotlinx.jupyter.repl.impl.CellExecutorImpl$execute$1$result$1.invoke(CellExecutorImpl.kt:80)",
      "\tat org.jetbrains.kotlinx.jupyter.repl.impl.CellExecutorImpl$execute$1$result$1.invoke(CellExecutorImpl.kt:78)",
      "\tat org.jetbrains.kotlinx.jupyter.repl.impl.ReplForJupyterImpl.withHost(ReplForJupyterImpl.kt:774)",
      "\tat org.jetbrains.kotlinx.jupyter.repl.impl.CellExecutorImpl.execute-L4Nmkdk(CellExecutorImpl.kt:78)",
      "\tat org.jetbrains.kotlinx.jupyter.repl.execution.CellExecutor$DefaultImpls.execute-L4Nmkdk$default(CellExecutor.kt:13)",
      "\tat org.jetbrains.kotlinx.jupyter.repl.impl.ReplForJupyterImpl.evaluateUserCode-wNURfNM(ReplForJupyterImpl.kt:596)",
      "\tat org.jetbrains.kotlinx.jupyter.repl.impl.ReplForJupyterImpl.evalExImpl(ReplForJupyterImpl.kt:454)",
      "\tat org.jetbrains.kotlinx.jupyter.repl.impl.ReplForJupyterImpl.access$evalExImpl(ReplForJupyterImpl.kt:141)",
      "\tat org.jetbrains.kotlinx.jupyter.repl.impl.ReplForJupyterImpl$evalEx$1.invoke(ReplForJupyterImpl.kt:447)",
      "\tat org.jetbrains.kotlinx.jupyter.repl.impl.ReplForJupyterImpl$evalEx$1.invoke(ReplForJupyterImpl.kt:446)",
      "\tat org.jetbrains.kotlinx.jupyter.repl.impl.ReplForJupyterImpl.withEvalContext(ReplForJupyterImpl.kt:427)",
      "\tat org.jetbrains.kotlinx.jupyter.repl.impl.ReplForJupyterImpl.evalEx(ReplForJupyterImpl.kt:446)",
      "\tat org.jetbrains.kotlinx.jupyter.messaging.IdeCompatibleMessageRequestProcessor$processExecuteRequest$1$response$1$1.invoke(IdeCompatibleMessageRequestProcessor.kt:171)",
      "\tat org.jetbrains.kotlinx.jupyter.messaging.IdeCompatibleMessageRequestProcessor$processExecuteRequest$1$response$1$1.invoke(IdeCompatibleMessageRequestProcessor.kt:170)",
      "\tat org.jetbrains.kotlinx.jupyter.streams.BlockingSubstitutionEngine.withDataSubstitution(SubstitutionEngine.kt:70)",
      "\tat org.jetbrains.kotlinx.jupyter.streams.StreamSubstitutionManager.withSubstitutedStreams(StreamSubstitutionManager.kt:118)",
      "\tat org.jetbrains.kotlinx.jupyter.messaging.IdeCompatibleMessageRequestProcessor.withForkedIn(IdeCompatibleMessageRequestProcessor.kt:347)",
      "\tat org.jetbrains.kotlinx.jupyter.messaging.IdeCompatibleMessageRequestProcessor.access$withForkedIn(IdeCompatibleMessageRequestProcessor.kt:67)",
      "\tat org.jetbrains.kotlinx.jupyter.messaging.IdeCompatibleMessageRequestProcessor$evalWithIO$1$1.invoke(IdeCompatibleMessageRequestProcessor.kt:361)",
      "\tat org.jetbrains.kotlinx.jupyter.streams.BlockingSubstitutionEngine.withDataSubstitution(SubstitutionEngine.kt:70)",
      "\tat org.jetbrains.kotlinx.jupyter.streams.StreamSubstitutionManager.withSubstitutedStreams(StreamSubstitutionManager.kt:118)",
      "\tat org.jetbrains.kotlinx.jupyter.messaging.IdeCompatibleMessageRequestProcessor.withForkedErr(IdeCompatibleMessageRequestProcessor.kt:336)",
      "\tat org.jetbrains.kotlinx.jupyter.messaging.IdeCompatibleMessageRequestProcessor.access$withForkedErr(IdeCompatibleMessageRequestProcessor.kt:67)",
      "\tat org.jetbrains.kotlinx.jupyter.messaging.IdeCompatibleMessageRequestProcessor$evalWithIO$1.invoke(IdeCompatibleMessageRequestProcessor.kt:360)",
      "\tat org.jetbrains.kotlinx.jupyter.streams.BlockingSubstitutionEngine.withDataSubstitution(SubstitutionEngine.kt:70)",
      "\tat org.jetbrains.kotlinx.jupyter.streams.StreamSubstitutionManager.withSubstitutedStreams(StreamSubstitutionManager.kt:118)",
      "\tat org.jetbrains.kotlinx.jupyter.messaging.IdeCompatibleMessageRequestProcessor.withForkedOut(IdeCompatibleMessageRequestProcessor.kt:328)",
      "\tat org.jetbrains.kotlinx.jupyter.messaging.IdeCompatibleMessageRequestProcessor.evalWithIO(IdeCompatibleMessageRequestProcessor.kt:359)",
      "\tat org.jetbrains.kotlinx.jupyter.messaging.IdeCompatibleMessageRequestProcessor$processExecuteRequest$1$response$1.invoke(IdeCompatibleMessageRequestProcessor.kt:170)",
      "\tat org.jetbrains.kotlinx.jupyter.messaging.IdeCompatibleMessageRequestProcessor$processExecuteRequest$1$response$1.invoke(IdeCompatibleMessageRequestProcessor.kt:169)",
      "\tat org.jetbrains.kotlinx.jupyter.execution.JupyterExecutorImpl$Task.execute(JupyterExecutorImpl.kt:41)",
      "\tat org.jetbrains.kotlinx.jupyter.execution.JupyterExecutorImpl$executorThread$1.invoke(JupyterExecutorImpl.kt:81)",
      "\tat org.jetbrains.kotlinx.jupyter.execution.JupyterExecutorImpl$executorThread$1.invoke(JupyterExecutorImpl.kt:79)",
      "\tat kotlin.concurrent.ThreadsKt$thread$thread$1.run(Thread.kt:30)",
      ""
     ]
    }
   ],
   "execution_count": 4
  },
  {
   "metadata": {},
   "cell_type": "markdown",
   "source": [
    "## Typen von Variablen\n",
    "\n",
    "Einer Variable, die mit `var` initialisiert wurde, können wir zwar einen neuen Wert zuweisen. Dieser muss aber denselben Typ haben."
   ],
   "id": "8fbda74157c6c10"
  },
  {
   "metadata": {
    "ExecuteTime": {
     "end_time": "2024-09-02T18:39:44.096224638Z",
     "start_time": "2024-09-02T18:39:44.049313479Z"
    }
   },
   "cell_type": "code",
   "source": [
    "var x = 2\n",
    "x = \"2\""
   ],
   "id": "ca8cf4a610949246",
   "outputs": [
    {
     "ename": "org.jetbrains.kotlinx.jupyter.exceptions.ReplCompilerException",
     "evalue": "Line_4.jupyter.kts (2:5 - 8) Type mismatch: inferred type is String but Int was expected",
     "output_type": "error",
     "traceback": [
      "org.jetbrains.kotlinx.jupyter.exceptions.ReplCompilerException: Line_4.jupyter.kts (2:5 - 8) Type mismatch: inferred type is String but Int was expected",
      "\tat org.jetbrains.kotlinx.jupyter.repl.impl.JupyterCompilerImpl.compileSync(JupyterCompilerImpl.kt:201)",
      "\tat org.jetbrains.kotlinx.jupyter.repl.impl.InternalEvaluatorImpl.eval(InternalEvaluatorImpl.kt:126)",
      "\tat org.jetbrains.kotlinx.jupyter.repl.impl.CellExecutorImpl$execute$1$result$1.invoke(CellExecutorImpl.kt:80)",
      "\tat org.jetbrains.kotlinx.jupyter.repl.impl.CellExecutorImpl$execute$1$result$1.invoke(CellExecutorImpl.kt:78)",
      "\tat org.jetbrains.kotlinx.jupyter.repl.impl.ReplForJupyterImpl.withHost(ReplForJupyterImpl.kt:738)",
      "\tat org.jetbrains.kotlinx.jupyter.repl.impl.CellExecutorImpl.execute-L4Nmkdk(CellExecutorImpl.kt:78)",
      "\tat org.jetbrains.kotlinx.jupyter.repl.execution.CellExecutor$DefaultImpls.execute-L4Nmkdk$default(CellExecutor.kt:13)",
      "\tat org.jetbrains.kotlinx.jupyter.repl.impl.ReplForJupyterImpl.evaluateUserCode-wNURfNM(ReplForJupyterImpl.kt:561)",
      "\tat org.jetbrains.kotlinx.jupyter.repl.impl.ReplForJupyterImpl.access$evaluateUserCode-wNURfNM(ReplForJupyterImpl.kt:139)",
      "\tat org.jetbrains.kotlinx.jupyter.repl.impl.ReplForJupyterImpl$evalEx$1.invoke(ReplForJupyterImpl.kt:418)",
      "\tat org.jetbrains.kotlinx.jupyter.repl.impl.ReplForJupyterImpl$evalEx$1.invoke(ReplForJupyterImpl.kt:415)",
      "\tat org.jetbrains.kotlinx.jupyter.repl.impl.ReplForJupyterImpl.withEvalContext(ReplForJupyterImpl.kt:396)",
      "\tat org.jetbrains.kotlinx.jupyter.repl.impl.ReplForJupyterImpl.evalEx(ReplForJupyterImpl.kt:415)",
      "\tat org.jetbrains.kotlinx.jupyter.messaging.IdeCompatibleMessageRequestProcessor$processExecuteRequest$1$response$1$1.invoke(IdeCompatibleMessageRequestProcessor.kt:136)",
      "\tat org.jetbrains.kotlinx.jupyter.messaging.IdeCompatibleMessageRequestProcessor$processExecuteRequest$1$response$1$1.invoke(IdeCompatibleMessageRequestProcessor.kt:135)",
      "\tat org.jetbrains.kotlinx.jupyter.execution.JupyterExecutorImpl$Task.execute(JupyterExecutorImpl.kt:42)",
      "\tat org.jetbrains.kotlinx.jupyter.execution.JupyterExecutorImpl$executorThread$1.invoke(JupyterExecutorImpl.kt:82)",
      "\tat org.jetbrains.kotlinx.jupyter.execution.JupyterExecutorImpl$executorThread$1.invoke(JupyterExecutorImpl.kt:80)",
      "\tat kotlin.concurrent.ThreadsKt$thread$thread$1.run(Thread.kt:30)",
      ""
     ]
    }
   ],
   "execution_count": 3
  },
  {
   "cell_type": "markdown",
   "id": "1b4ab3ef-5848-4f9c-9ff1-23f80fa41ce7",
   "metadata": {},
   "source": [
    "## Variablen mit demselben Wert\n",
    "\n",
    "Wir können sowohl mit `var` als auch mit `val` *Variablen* erstellen, die auf den *Wert* einer anderen\n",
    "*Variable* zeigen."
   ]
  },
  {
   "cell_type": "code",
   "id": "a6431f0a-add7-42db-995f-8ef10c90bc1b",
   "metadata": {
    "ExecuteTime": {
     "end_time": "2024-08-22T10:23:32.243127990Z",
     "start_time": "2024-08-22T10:23:32.091138443Z"
    }
   },
   "source": [
    "var x = 3\n",
    "var y = x"
   ],
   "outputs": [],
   "execution_count": 1
  },
  {
   "cell_type": "markdown",
   "id": "c31f3b80-bef3-4476-947c-9f570e3f37f3",
   "metadata": {},
   "source": [
    "<figure id=\"x_y_3\" style=\"text-align:center\">\n",
    "<img src=\"x_y_3.svg\" style=\"width:15.0%; background-color:white;\" />\n",
    "\n",
    "<figcaption>Zwei <em>Variablen</em> mit dem selben\n",
    "<em>Wert</em></figcaption>\n",
    "</figure>"
   ]
  },
  {
   "cell_type": "code",
   "id": "8dfb5f11-313f-4078-b81f-b32e83732229",
   "metadata": {
    "ExecuteTime": {
     "end_time": "2024-08-22T10:24:03.503511361Z",
     "start_time": "2024-08-22T10:24:03.262891454Z"
    }
   },
   "source": [
    "y"
   ],
   "outputs": [
    {
     "data": {
      "text/plain": [
       "3"
      ]
     },
     "execution_count": 2,
     "metadata": {},
     "output_type": "execute_result"
    }
   ],
   "execution_count": 2
  },
  {
   "cell_type": "markdown",
   "id": "1f7f198e-efe7-442c-b2e2-40038599b6bc",
   "metadata": {},
   "source": [
    "Wenn wir jetzt den *Wert* von einer der *Variablen* durch einen anderen\n",
    "*Wert* ersetzen, bleibt der *Wert* der anderen *Variable* gleich."
   ]
  },
  {
   "cell_type": "code",
   "id": "52c253d7-1f63-4804-b056-24504c0709d1",
   "metadata": {
    "ExecuteTime": {
     "end_time": "2024-08-22T10:24:05.480170114Z",
     "start_time": "2024-08-22T10:24:05.289706528Z"
    }
   },
   "source": [
    "x = 5"
   ],
   "outputs": [],
   "execution_count": 3
  },
  {
   "cell_type": "markdown",
   "id": "6ec99471-564d-4aa5-b497-7c640ba96783",
   "metadata": {},
   "source": [
    "<figure style=\"text-align:center\">\n",
    "<img src=\"x_5_y_3.svg\" style=\"width:15.0%; background-color:white;\" />\n",
    "\n",
    "<figcaption>Änderung des <em>Werts</em> einer der beiden\n",
    "<em>Variablen</em> aus der Abbildung <a href=\"#x_y_3\"\n",
    "data-reference-type=\"ref\" data-reference=\"x_y_3\">oben</a></figcaption>\n",
    "</figure>"
   ]
  },
  {
   "cell_type": "code",
   "execution_count": null,
   "id": "8d7d977b-c989-4cf9-9f70-a7e97d1123c4",
   "metadata": {},
   "outputs": [],
   "source": [
    "x"
   ]
  },
  {
   "cell_type": "code",
   "execution_count": null,
   "id": "8fb274ba",
   "metadata": {},
   "outputs": [],
   "source": [
    "y"
   ]
  },
  {
   "cell_type": "markdown",
   "id": "e5a95e00-070f-4f7a-8499-d92d9a2d6cd5",
   "metadata": {},
   "source": [
    "Das liegt daran, dass wir den *Wert* einer *Variable* bei einer\n",
    "*Zuweisung* durch einen neuen *Wert* ersetzen, aber nicht den alten\n",
    "*Wert* verändern.\n",
    "\n",
    "## Unveränderlichkeit\n",
    "\n",
    "Die *Werte* aller *Datentypen*, die wir bis jetzt kennengelernt haben,\n",
    "sind unveränderlich. Das heißt, dass wir zum Beispiel ein *Integer*\n",
    "nicht ändern können. Wir haben aber oben gesehen, dass wir den *Wert*\n",
    "einer *Variable* einfach durch einen neuen *Integer* ersetzen können. Wir\n",
    "werden bald *Werte* von *Datentypen* kennenlernen, die sich verändern lassen."
   ]
  }
 ],
 "metadata": {
  "kernelspec": {
   "display_name": "Kotlin",
   "language": "kotlin",
   "name": "kotlin"
  },
  "language_info": {
   "name": "kotlin"
  }
 },
 "nbformat": 4,
 "nbformat_minor": 5
}
