{
 "cells": [
  {
   "metadata": {},
   "cell_type": "markdown",
   "source": "## Das Akkumulator-Pattern",
   "id": "de25cf1d2941e49b"
  },
  {
   "metadata": {
    "ExecuteTime": {
     "end_time": "2025-03-29T09:38:54.080853443Z",
     "start_time": "2025-03-29T09:38:54.027567903Z"
    }
   },
   "cell_type": "code",
   "source": "val greeting = \"hello\"",
   "id": "931cf0a0e590d0d0",
   "outputs": [],
   "execution_count": 13
  },
  {
   "metadata": {},
   "cell_type": "markdown",
   "source": "Wir wollen aus dem String `greeting` einen neuen String erzeugen, in dem alle Buchstaben verdoppelt wurden. Das Ergebnis soll also der String `\"hheelllloo\"` sein. Dafür müssen wir alle Buchstaben in `greeting`   durchlaufen",
   "id": "fd6fa45f09d04db7"
  },
  {
   "metadata": {
    "ExecuteTime": {
     "end_time": "2025-03-29T09:38:54.218262312Z",
     "start_time": "2025-03-29T09:38:54.087051109Z"
    }
   },
   "cell_type": "code",
   "source": [
    "for (char in greeting) {\n",
    "    // ????\n",
    "}"
   ],
   "id": "7be5f97575da1546",
   "outputs": [],
   "execution_count": 14
  },
  {
   "metadata": {},
   "cell_type": "markdown",
   "source": [
    "Der neue String muss aus **allen** Buchstaben des ursprünglichen Strings berechnet werden. Die Schleifenvariable steht aber immer nur für einen Buchstaben.\n",
    "\n",
    "\n",
    "Deshalb müssen wir **vor** dem Durchlaufen des alten Strings, eine veränderbare Variable anlegen"
   ],
   "id": "228bf4f0ed3154a5"
  },
  {
   "metadata": {
    "ExecuteTime": {
     "end_time": "2025-03-29T09:38:54.294166575Z",
     "start_time": "2025-03-29T09:38:54.234743001Z"
    }
   },
   "cell_type": "code",
   "source": "var doubleGreeting = \"\"",
   "id": "a6b6922356a3fa55",
   "outputs": [],
   "execution_count": 15
  },
  {
   "metadata": {},
   "cell_type": "markdown",
   "source": "und diese bei jedem Durchlauf aktualisieren. Das Ziel dabei ist, dass in `doubleGreeting` immer das korrekte Ergebnis für den Teil des Strings, der bisher durchlaufen wurde, gespeichert ist. Das erreichen wir, indem wir den aktuellen Wert von `char` zweimal an `doubleGreeting` hängen.",
   "id": "99aba1a966c00f2"
  },
  {
   "metadata": {
    "ExecuteTime": {
     "end_time": "2025-03-29T09:38:54.410566963Z",
     "start_time": "2025-03-29T09:38:54.303619492Z"
    }
   },
   "cell_type": "code",
   "source": [
    "for (char in greeting) {\n",
    "    doubleGreeting = doubleGreeting + char + char\n",
    "}\n",
    "\n",
    "doubleGreeting"
   ],
   "id": "3f690bee2375a02d",
   "outputs": [
    {
     "data": {
      "text/plain": [
       "hheelllloo"
      ]
     },
     "execution_count": 16,
     "metadata": {},
     "output_type": "execute_result"
    }
   ],
   "execution_count": 16
  },
  {
   "metadata": {},
   "cell_type": "markdown",
   "source": [
    "## Analyse des Codes mit `println`\n",
    "\n",
    "Mithilfe der Funktion `println` kann man anzeigen, wie die Variable `doubleGreeting` nach und nach geändert wird."
   ],
   "id": "bb10ab78dfdfff9c"
  },
  {
   "metadata": {
    "ExecuteTime": {
     "end_time": "2025-03-29T09:38:54.589155569Z",
     "start_time": "2025-03-29T09:38:54.421172932Z"
    }
   },
   "cell_type": "code",
   "source": [
    "doubleGreeting = \"\"\n",
    "for (char in greeting) {\n",
    "    doubleGreeting = doubleGreeting + char + char\n",
    "    println(doubleGreeting)\n",
    "}"
   ],
   "id": "8e0fd7800d257a3e",
   "outputs": [
    {
     "name": "stdout",
     "output_type": "stream",
     "text": [
      "hh\n",
      "hhee\n",
      "hheell\n",
      "hheellll\n",
      "hheelllloo\n"
     ]
    }
   ],
   "execution_count": 17
  },
  {
   "metadata": {},
   "cell_type": "markdown",
   "source": [
    "Dieses Muster wird *Akkumulator-Pattern* genannt. Bei diesem Muster wird immer (mindestens) eine veränderliche Variable angelegt, die dann beim Durchlaufen der Schleife angepasst wird.\n",
    "\n",
    "**Nicht** immer gleich sind\n",
    "\n",
    "- der Wert mit dem die veränderliche Variable (Akkumulator) initialisiert wird\n",
    "- wie der Akkumulator im Schleifenkörper verändert wird"
   ],
   "id": "dfa8f527ec247702"
  }
 ],
 "metadata": {
  "kernelspec": {
   "display_name": "Kotlin",
   "language": "kotlin",
   "name": "kotlin"
  },
  "language_info": {
   "codemirror_mode": "text/x-kotlin",
   "file_extension": ".kt",
   "mimetype": "text/x-kotlin",
   "name": "kotlin",
   "nbconvert_exporter": "",
   "pygments_lexer": "kotlin",
   "version": "1.9.23"
  }
 },
 "nbformat": 4,
 "nbformat_minor": 5
}
