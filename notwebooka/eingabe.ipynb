{
 "cells": [
  {
   "cell_type": "markdown",
   "id": "dceed8ad-8d43-42b5-ba88-96c71a14a1eb",
   "metadata": {},
   "source": [
    "# Eingabe\n",
    "\n",
    "Mit der Funktion `readln` können Benutzereingaben eingelesen werden. Die Funktion hat keine *Parameter*. Beim Aufruf wird auf die Eingabe des Benutzers gewartet. Dieser muss seine Eingabe mit Enter bestätigen. Die Eingabe wird als *String* zurückgegeben."
   ]
  },
  {
   "cell_type": "code",
   "id": "456da678",
   "metadata": {
    "ExecuteTime": {
     "end_time": "2024-12-29T11:23:27.802311910Z",
     "start_time": "2024-12-29T11:23:22.101066058Z"
    }
   },
   "source": [
    "readln()"
   ],
   "outputs": [
    {
     "data": {
      "text/plain": [
       "Grace"
      ]
     },
     "execution_count": 10,
     "metadata": {},
     "output_type": "execute_result"
    }
   ],
   "execution_count": 10
  },
  {
   "cell_type": "markdown",
   "id": "2d1b902a",
   "metadata": {},
   "source": [
    "<figure style = \"text-align:center\" >\n",
    "<img src=\"funktionsaufruf_input.svg\" style=\"width:25.0%; ; background-color:white;\" />\n",
    "<figcaption>Funktionsaufruf <code\n",
    "class=\"sourceCode kotlin\"><span class=\"bu\">readln() </code>\n",
    "und Eingabe <code>Grace</code> </figcaption>\n",
    "</figure>\n",
    "\n",
    "Es ist oft sinnvoll diesen *Rückgabewert* in einer *Variablen* zu\n",
    "speichern, um ihn später verwenden zu können."
   ]
  },
  {
   "cell_type": "code",
   "id": "d5ba2b96a8d4bb01",
   "metadata": {
    "ExecuteTime": {
     "end_time": "2024-12-29T11:23:33.975568360Z",
     "start_time": "2024-12-29T11:23:30.713776101Z"
    }
   },
   "source": [
    "println(\"Wie heißt du?\")\n",
    "val name = readln()\n",
    "name"
   ],
   "outputs": [
    {
     "name": "stdout",
     "output_type": "stream",
     "text": [
      "Wie heißt du?\n"
     ]
    },
    {
     "data": {
      "text/plain": [
       "Grace"
      ]
     },
     "execution_count": 11,
     "metadata": {},
     "output_type": "execute_result"
    }
   ],
   "execution_count": 11
  },
  {
   "cell_type": "markdown",
   "id": "1786c834",
   "metadata": {},
   "source": [
    "\n",
    "## Kombination von Ein- und Ausgabe\n",
    "\n",
    "Wir können nun interaktive Programme schrieben, in denen wir Eingabe,\n",
    "Verarbeitung und Ausgabe kombinieren."
   ]
  },
  {
   "cell_type": "code",
   "id": "39b7e342-1083-4272-a839-d97d59230afe",
   "metadata": {
    "ExecuteTime": {
     "end_time": "2024-12-29T11:23:41.459530995Z",
     "start_time": "2024-12-29T11:23:41.359126796Z"
    }
   },
   "source": [
    "fun greetBavarianIO(): Unit{\n",
    "    println(\"Wie heißt du?\")\n",
    "    val name = readln()\n",
    "    println(\"Servus \" + name)\n",
    "}"
   ],
   "outputs": [],
   "execution_count": 13
  },
  {
   "cell_type": "markdown",
   "id": "7f7cacfa-c34a-407f-88bb-6c6808d72a04",
   "metadata": {},
   "source": [
    "Die Funktionen `println` und `readln` sorgen dafür, dass auch, wenn die\n",
    "Funktion in einem normalen Programm aufgerufen wird, etwas zu sehen ist."
   ]
  },
  {
   "cell_type": "markdown",
   "id": "e3239b23-7264-41d3-9d0c-43ae82ce3d6f",
   "metadata": {},
   "source": [
    "<figure style = \"text-align:center\" >\n",
    "<img src=\"screenshot_greetBavarianIO.png\" style=\"width:25.0%; ; background-color:white;\" />\n",
    "\n",
    "<figcaption>Screenshot nach Aufruf von  <code\n",
    "class=\"sourceCode kotlin\">greetBavarianIO()</code> und Eingabe von\n",
    "<code>Grace</code> </figcaption>\n",
    "</figure>\n",
    "\n",
    "Der Benutzer des Programms muss das Programm nur starten, um mit ihm zu\n",
    "interagieren. Er muss selbst aber nichts über Programmierung wissen.\n",
    "\n",
    "<figure style = \"text-align:center\" >\n",
    "<img src=\"funktionsaufruf_greet_bavarian_io.svg\" style=\"width:25.0%; ; background-color:white;\" />\n",
    "\n",
    "<figcaption>Funktionsaufruf <code\n",
    "class=\"sourceCode kotlin\">greetBavarianIO()</code> und Eingabe\n",
    "<code>Grace</code> </figcaption>\n",
    "</figure>\n",
    "\n"
   ]
  }
 ],
 "metadata": {
  "kernelspec": {
   "display_name": ".venv",
   "language": "kotlin",
   "name": "kotlin"
  }
 },
 "nbformat": 4,
 "nbformat_minor": 5
}
