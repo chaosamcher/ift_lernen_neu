{
 "cells": [
  {
   "metadata": {},
   "cell_type": "markdown",
   "source": [
    "# Eigenschaften im Klassenkörper definieren\n",
    "\n",
    "Wir haben bereits gesehen, wie wir Klassen definieren"
   ]
  },
  {
   "cell_type": "code",
   "metadata": {
    "collapsed": true,
    "ExecuteTime": {
     "end_time": "2025-04-15T19:07:34.031774446Z",
     "start_time": "2025-04-15T19:07:33.031894147Z"
    }
   },
   "source": "data class Article(val name: String, var priceInEuros: Int)",
   "outputs": [],
   "execution_count": 2
  },
  {
   "metadata": {},
   "cell_type": "markdown",
   "source": "und Objekte mit dem automatisch definierten Konstruktor erzeugen können."
  },
  {
   "metadata": {
    "ExecuteTime": {
     "end_time": "2025-04-15T19:07:34.721333889Z",
     "start_time": "2025-04-15T19:07:34.379819412Z"
    }
   },
   "cell_type": "code",
   "source": "Article(\"banana\", 3)",
   "outputs": [
    {
     "data": {
      "text/plain": [
       "Article(name=banana, price=3)"
      ]
     },
     "execution_count": 3,
     "metadata": {},
     "output_type": "execute_result"
    }
   ],
   "execution_count": 3
  },
  {
   "metadata": {},
   "cell_type": "markdown",
   "source": "Es ist auch möglich weitere Eigenschaften im Klassenkörper anzugeben. Dabei können die Eigenschaften aus der Kopfzeile verwendet werden."
  },
  {
   "metadata": {
    "ExecuteTime": {
     "end_time": "2025-04-16T05:59:23.721114419Z",
     "start_time": "2025-04-16T05:59:23.233271300Z"
    }
   },
   "cell_type": "code",
   "source": [
    "data class Article2(val name: String, var priceInEuros: Int){\n",
    "    val priceInCents = 100 * priceInEuros\n",
    "    var available = true\n",
    "}"
   ],
   "outputs": [],
   "execution_count": 1
  },
  {
   "metadata": {
    "ExecuteTime": {
     "end_time": "2025-04-16T05:59:29.278982069Z",
     "start_time": "2025-04-16T05:59:29.146528190Z"
    }
   },
   "cell_type": "code",
   "source": "val banana = Article2(\"Banana\", 3)",
   "outputs": [],
   "execution_count": 2
  },
  {
   "metadata": {},
   "cell_type": "markdown",
   "source": "Diese Eingenschaften werden dann nicht für die String-Darstellung verwendet."
  },
  {
   "metadata": {
    "ExecuteTime": {
     "end_time": "2025-04-16T06:04:10.191228975Z",
     "start_time": "2025-04-16T06:04:09.277161711Z"
    }
   },
   "cell_type": "code",
   "source": "banana",
   "outputs": [
    {
     "data": {
      "text/plain": [
       "Article2(name=Banana, priceInEuros=3)"
      ]
     },
     "execution_count": 4,
     "metadata": {},
     "output_type": "execute_result"
    }
   ],
   "execution_count": 4
  },
  {
   "metadata": {},
   "cell_type": "markdown",
   "source": "Ein Zugriff mit der Punkt-Notation ist trotzdem möglich."
  },
  {
   "metadata": {
    "ExecuteTime": {
     "end_time": "2025-04-16T05:59:45.623330727Z",
     "start_time": "2025-04-16T05:59:45.458199352Z"
    }
   },
   "cell_type": "code",
   "source": "banana.priceInCents",
   "outputs": [
    {
     "data": {
      "text/plain": [
       "300"
      ]
     },
     "execution_count": 3,
     "metadata": {},
     "output_type": "execute_result"
    }
   ],
   "execution_count": 3
  },
  {
   "metadata": {},
   "cell_type": "code",
   "outputs": [],
   "execution_count": null,
   "source": "banana.available"
  },
  {
   "metadata": {},
   "cell_type": "markdown",
   "source": [
    "## Private Eigenschaften im Klassenkörper definieren\n",
    "\n",
    "Mit dem Schlüsselwort `private` vor `val`/`var` können auch im Klassenkörper definierte Eigenschaften vor Zugriffen geschützt werden."
   ]
  },
  {
   "metadata": {},
   "cell_type": "code",
   "outputs": [],
   "execution_count": null,
   "source": [
    "data class Article2(val name: String, var priceInEuros: Int){\n",
    "    val priceInCents = 100 * priceInEuros\n",
    "    private var available = true\n",
    "}"
   ]
  }
 ],
 "metadata": {
  "kernelspec": {
   "display_name": "Kotlin",
   "language": "kotlin",
   "name": "kotlin"
  },
  "language_info": {
   "name": "kotlin",
   "version": "1.9.23",
   "mimetype": "text/x-kotlin",
   "file_extension": ".kt",
   "pygments_lexer": "kotlin",
   "codemirror_mode": "text/x-kotlin",
   "nbconvert_exporter": ""
  }
 },
 "nbformat": 4,
 "nbformat_minor": 0
}
