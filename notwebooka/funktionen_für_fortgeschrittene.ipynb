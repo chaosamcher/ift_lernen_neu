{
 "cells": [
  {
   "metadata": {},
   "cell_type": "markdown",
   "source": [
    "# Funktionen für Fortgeschrittene\n",
    "\n",
    "Im letzten Kapitel haben wir gesehen, wie Funktionen definiert und verwendet werden können."
   ],
   "id": "ee0a64db8309eecc"
  },
  {
   "metadata": {
    "ExecuteTime": {
     "end_time": "2025-04-15T10:47:06.985270392Z",
     "start_time": "2025-04-15T10:47:06.867223435Z"
    }
   },
   "cell_type": "code",
   "source": [
    "fun yardToFeet(lengthInYard: Int): Int = 3 * lengthInYard\n",
    "\n",
    "fun feetToInch(lengthInFeet: Int): Int = 12 * lengthInFeet\n"
   ],
   "id": "be61ae2cbf3edba0",
   "outputs": [],
   "execution_count": 1
  },
  {
   "cell_type": "markdown",
   "id": "6541c13c904812cd",
   "metadata": {},
   "source": [
    "Wir haben dabei nur Funktionen definiert, die\n",
    "\n",
    "1. einen Wert übergeben bekommen -\n",
    "2. diesen für die Platzhalter in einem Ausdruck einsetzen\n",
    "3. den Wert des Ausdrucks zurückgeben\n",
    "\n",
    "Diese Funktionen haben für sich aufgerufen.\n"
   ]
  },
  {
   "metadata": {
    "ExecuteTime": {
     "end_time": "2025-04-15T10:51:48.762186975Z",
     "start_time": "2025-04-15T10:51:48.462235471Z"
    }
   },
   "cell_type": "code",
   "source": "yardToFeet(5)",
   "id": "2d45e0e67cea0994",
   "outputs": [
    {
     "data": {
      "text/plain": [
       "15"
      ]
     },
     "execution_count": 2,
     "metadata": {},
     "output_type": "execute_result"
    }
   ],
   "execution_count": 2
  },
  {
   "metadata": {},
   "cell_type": "markdown",
   "source": [
    "In diesem Notebook lernst du weitere Möglichkeiten bei der Verwendung von Funktionen kennen.\n",
    "\n",
    "## Funktionsaufrufe und Ausdrücke\n",
    "\n",
    "Funktionsaufrufe können in *Ausdrücken* mit *Operatoren* und *Literalen*\n",
    "kombiniert werden."
   ],
   "id": "a537fb35"
  },
  {
   "cell_type": "code",
   "id": "c83aa71c-1328-411c-896b-7698f82e3d58",
   "metadata": {
    "ExecuteTime": {
     "end_time": "2025-04-15T10:52:25.206769229Z",
     "start_time": "2025-04-15T10:52:25.040808108Z"
    }
   },
   "source": [
    "12 * yardToFeet(7)"
   ],
   "outputs": [
    {
     "data": {
      "text/plain": [
       "252"
      ]
     },
     "execution_count": 3,
     "metadata": {},
     "output_type": "execute_result"
    }
   ],
   "execution_count": 3
  },
  {
   "cell_type": "markdown",
   "id": "74e22f28-9261-4689-88dc-7058a343e6c8",
   "metadata": {},
   "source": [
    "Als *Argument* einer Funktion muss nicht unbedingt ein *Literal*\n",
    "angegeben werden."
   ]
  },
  {
   "cell_type": "code",
   "id": "85450cf1-5b91-4dd4-baec-2506f90e2661",
   "metadata": {
    "ExecuteTime": {
     "end_time": "2025-04-15T10:52:25.382866650Z",
     "start_time": "2025-04-15T10:52:25.228080820Z"
    }
   },
   "source": [
    "yardToFeet(2 * 2)"
   ],
   "outputs": [
    {
     "data": {
      "text/plain": [
       "12"
      ]
     },
     "execution_count": 4,
     "metadata": {},
     "output_type": "execute_result"
    }
   ],
   "execution_count": 4
  },
  {
   "cell_type": "markdown",
   "id": "494860eb-b72e-43e2-bff8-bea40800972e",
   "metadata": {},
   "source": [
    "Vor dem Funktionsaufruf wird, das *Argument* `2 * 2` ausgewertet. Das\n",
    "Ergebnis `4` wird an die Funktion übergeben.\n",
    "\n",
    "## Funktionen kombinieren\n",
    "\n",
    "In einem *Ausdruck* können wir auch mehrere Funktionsaufrufe\n",
    "kombinieren. Z.B. können wir mit dem folgenden Aufruf $7$ Yard in Zoll\n",
    "umrechnen."
   ]
  },
  {
   "cell_type": "code",
   "id": "863399d2-19c3-4b27-8b26-1d290a1ff751",
   "metadata": {
    "ExecuteTime": {
     "end_time": "2025-04-15T10:52:25.521428141Z",
     "start_time": "2025-04-15T10:52:25.400451723Z"
    }
   },
   "source": [
    "feetToInch(yardToFeet(7))"
   ],
   "outputs": [
    {
     "data": {
      "text/plain": [
       "252"
      ]
     },
     "execution_count": 5,
     "metadata": {},
     "output_type": "execute_result"
    }
   ],
   "execution_count": 5
  },
  {
   "cell_type": "markdown",
   "id": "4acfbf1e-effe-472e-bd20-3899757e86a2",
   "metadata": {},
   "source": [
    "Die Auswertung kann folgendermaßen skizziert werden:\n",
    "\n",
    "<figure style=\"text-align:center\">\n",
    "<img src=\"verkettung_funktionen.svg\" style=\"width:35.0%; background-color:white;\" />\n",
    "\n",
    "<figcaption>Kombination von <code\n",
    "class=\"sourceCode kotlin\">yardToFeet</code> und <code\n",
    "class=\"sourceCode kotlin\">feetToInch</code> </figcaption>\n",
    "</figure>\n",
    "\n",
    "Zunächst wird `yardToFeet(7)` zu `21` ausgewertet. Dieses Ergebnis ist\n",
    "anschließend das *Argument* von `feetToInch`.\n",
    "\n",
    "## Funktionen in anderen Funktionen verwenden\n",
    "\n",
    "Diese Kombination von Funktionsaufrufen ist auch innerhalb von\n",
    "Funktionen nützlich. Wir können z.B. die Funktionen `yard_to_feet`\n",
    "`feet_to_inch` zu einer einzigen Funktion `yard_to_inch` kombinieren."
   ]
  },
  {
   "cell_type": "code",
   "id": "6adfef82",
   "metadata": {
    "ExecuteTime": {
     "end_time": "2025-04-15T10:52:25.676889884Z",
     "start_time": "2025-04-15T10:52:25.568120737Z"
    }
   },
   "source": [
    "fun yardToInch(lengthInYard: Int): Int = feetToInch(yardToFeet(lengthInYard))"
   ],
   "outputs": [],
   "execution_count": 6
  },
  {
   "cell_type": "code",
   "id": "e8bc625a-050e-442b-b247-aef754deb08f",
   "metadata": {
    "ExecuteTime": {
     "end_time": "2025-04-15T10:52:25.763180752Z",
     "start_time": "2025-04-15T10:52:25.689511435Z"
    }
   },
   "source": [
    "yardToInch(7)"
   ],
   "outputs": [
    {
     "data": {
      "text/plain": [
       "252"
      ]
     },
     "execution_count": 7,
     "metadata": {},
     "output_type": "execute_result"
    }
   ],
   "execution_count": 7
  },
  {
   "cell_type": "markdown",
   "id": "68a627ee",
   "metadata": {},
   "source": [
    "## Allgemeinere Schreibweise für Funktionen\n",
    "\n",
    "Die bisher genutzte Schreibweise für Funktionen ist zwar kurz und elegant. Es gibt aber eine weitere Schreibweise, die wir benötigen, um beliebige *Statements* in Funktionen verwenden können.\n",
    "Die *Statements* werden bei einem Funktionsaufruf von oben nach unter ausgeführt.\n",
    "\n",
    "\n",
    "Zunächst wollen wir mit der neuen Schreibweise nochmal die Funktion `yardToFeet` implementieren.\n",
    "\n",
    "\n",
    "<figure style=\"text-align:center;\">\n",
    "<img src=\"skizze_syntax_funktionen_2.svg\" style=\"width:40.0%; background-color:white;\" />\n",
    "\n",
    "\n",
    "<figcaption>Definition der Funktion <code\n",
    "class=\"sourceCode kotlin\">yardToFeet</code></figcaption>\n",
    "</figure>\n",
    "\n",
    "Der *Funktionskopf* wird genau so geschrieben, wie wir das oben gesehen haben. Danach folgen:\n",
    "\n",
    "1. Eine öffnende geschweifte Klammer. Dies gibt an, dass hier der *Funktionskörper* beginnt. Er enthält alle *Statements*, die zu der Funktion gehören. In diesem Fall ist das nur das *Statement* in der nächsten Zeile.\n",
    "\n",
    "2. Das Schlüsselwort `return`. Mit diesem wird angegeben, dass die Funktion den *Wert* des darauf folgenden *Ausdrucks* zurückgeben soll.\n",
    "\n",
    "3. Den *Ausdruck* haben wir bei der ersten Implementierung der Funktion schon gesehen. Wie dort gilt, dass *Parameter* durch den übergebenen *Wert* eines *Arguments* ersetzt werden.\n",
    "\n",
    "4. Eine schließende geschweifte Klammer bedeutet, dass hier der *Funktionskörper* endet. Alles, was darauf folgt, gehört **nicht** mehr zu der Funktion."
   ]
  },
  {
   "cell_type": "markdown",
   "id": "36c40c17-620b-4e33-a960-5577caed7f45",
   "metadata": {},
   "source": [
    "## Zuweisungsstatements in Funktionen\n",
    "\n",
    "Die Funktion im letzten Abschnitt enthält nur ein einziges\n",
    "`return`-*Statement*, mit dem angegeben wird, was die Funktion\n",
    "zurückgeben soll.\n",
    "\n",
    "Dies muss nicht so sein. Wir können mit der neuen Schreibweise in Funktionen beliebige andere\n",
    "*Statements* verwenden. Dafür schreiben wir diese ebenfalls in die geschweifte Klammern hinter dem Funktionskopf. \n",
    "\n",
    "In der folgenden\n",
    "Variante der Funktion `YardToInch` werden *Zuweisungsstatements* verwendet (Im Moment kennen wir nur *Zuweisungs-* und `return`-*Statements*).\n"
   ]
  },
  {
   "cell_type": "code",
   "id": "cabca810",
   "metadata": {
    "ExecuteTime": {
     "end_time": "2025-04-15T10:52:25.925070794Z",
     "start_time": "2025-04-15T10:52:25.773927675Z"
    }
   },
   "source": [
    "fun yardToInch(lengthInYard: Int): Int {\n",
    "    val lengthInFeet = yardToFeet(lengthInYard)\n",
    "    val lengthInInch = feetToInch(lengthInFeet)\n",
    "    return lengthInInch\n",
    "}"
   ],
   "outputs": [],
   "execution_count": 8
  },
  {
   "cell_type": "markdown",
   "id": "6f5c9f26",
   "metadata": {},
   "source": [
    "\n",
    "Um sich die Auswertung dieser Funktion vorzustellen, ist es sinnvoll die\n",
    "*Parameter* als *lokale Variablen* zu sehen, die schon vor dem Ausführen\n",
    "der *Statements* in der Funktion definiert sind. Beim folgenden\n",
    "Funktionsaufruf"
   ]
  },
  {
   "cell_type": "code",
   "id": "309cf75f-dec9-4b75-ac23-153ba758f613",
   "metadata": {
    "ExecuteTime": {
     "end_time": "2025-04-15T10:52:26.018831954Z",
     "start_time": "2025-04-15T10:52:25.936697798Z"
    }
   },
   "source": [
    "yardToInch(2)"
   ],
   "outputs": [
    {
     "data": {
      "text/plain": [
       "72"
      ]
     },
     "execution_count": 9,
     "metadata": {},
     "output_type": "execute_result"
    }
   ],
   "execution_count": 9
  },
  {
   "cell_type": "markdown",
   "id": "5dafd605-363d-4fa6-83f7-2827830501c7",
   "metadata": {},
   "source": [
    "gibt es **bevor** die erste Zeile im *Funktionskörper* ausgeführt wurde\n",
    "die folgenden *Variablen*:\n",
    "\n",
    "| Name           | Wert |\n",
    "|:---------------|-----:|\n",
    "| `lengthInYard` |    2 |\n",
    "\n",
    "Nachdem die beiden ersten Statements im *Funktionskörper* ausgeführt\n",
    "wurden, gibt es die folgenden *Variablen*:\n",
    "\n",
    "| Name           | Wert |\n",
    "|:---------------|-----:|\n",
    "| `lengthInYard` |    2 |\n",
    "| `lengthInFeet` |    6 |\n",
    "| `lengthInInch` |   72 |\n",
    "\n",
    "In der letzten Zeile muss dann lediglich der *Wert* der *Variable*\n",
    "`lengthInInch` zurückgegeben werden.\n",
    "\n"
   ]
  },
  {
   "cell_type": "markdown",
   "id": "48305245-bf34-4660-9460-6092b26ff0a4",
   "metadata": {},
   "source": [
    "## Funktionen mit mehreren Parametern\n",
    "\n",
    "Funktionen können auch mehrere oder gar keine *Parameter* haben. Die\n",
    "*Parameter* stehen in den runden Klammern hinter dem Funktionsnamen.\n",
    "Zwischen zwei *Parameter* schreibt man ein Komma.\n"
   ]
  },
  {
   "cell_type": "code",
   "id": "217cfd70",
   "metadata": {
    "ExecuteTime": {
     "end_time": "2025-04-15T10:52:26.125086965Z",
     "start_time": "2025-04-15T10:52:26.033164573Z"
    }
   },
   "source": [
    "fun constantZero(): Int = 0"
   ],
   "outputs": [],
   "execution_count": 10
  },
  {
   "cell_type": "code",
   "id": "8841bb8d",
   "metadata": {
    "ExecuteTime": {
     "end_time": "2025-04-15T10:52:26.280033434Z",
     "start_time": "2025-04-15T10:52:26.133515471Z"
    }
   },
   "source": [
    "fun sumOfSquares(pA: Int, pB: Int): Int = pA * pA + pB * pB"
   ],
   "outputs": [],
   "execution_count": 11
  },
  {
   "cell_type": "markdown",
   "id": "b2df1620",
   "metadata": {},
   "source": [
    "\n",
    "Beim Aufruf der Funktion muss dann die entsprechende Anzahl an\n",
    "*Argumenten* in Klammern übergeben werden. Auch die *Argumente* werden\n",
    "durch Kommas voneinander getrennt."
   ]
  },
  {
   "cell_type": "code",
   "id": "2ea8c2ba-a413-4c57-a8e0-e6eb9927b3d2",
   "metadata": {
    "ExecuteTime": {
     "end_time": "2025-04-15T10:52:26.515622944Z",
     "start_time": "2025-04-15T10:52:26.361942771Z"
    }
   },
   "source": [
    "constantZero()"
   ],
   "outputs": [
    {
     "data": {
      "text/plain": [
       "0"
      ]
     },
     "execution_count": 12,
     "metadata": {},
     "output_type": "execute_result"
    }
   ],
   "execution_count": 12
  },
  {
   "cell_type": "code",
   "id": "6b7bff84",
   "metadata": {
    "ExecuteTime": {
     "end_time": "2025-04-15T10:52:26.821552061Z",
     "start_time": "2025-04-15T10:52:26.579625378Z"
    }
   },
   "source": [
    "sumOfSquares(2, 3)"
   ],
   "outputs": [
    {
     "data": {
      "text/plain": [
       "13"
      ]
     },
     "execution_count": 13,
     "metadata": {},
     "output_type": "execute_result"
    }
   ],
   "execution_count": 13
  },
  {
   "metadata": {},
   "cell_type": "markdown",
   "source": [
    "## Kleine Warnung\n",
    "\n",
    "Wir haben hier mehrfach denselben Namen für eine Funktion verwendet. In normalen Programmen wird das nicht mehr möglich sein."
   ],
   "id": "81e17af66c029b15"
  }
 ],
 "metadata": {
  "kernelspec": {
   "display_name": "Kotlin",
   "language": "kotlin",
   "name": "kotlin"
  },
  "language_info": {
   "codemirror_mode": "text/x-kotlin",
   "file_extension": ".kt",
   "mimetype": "text/x-kotlin",
   "name": "kotlin",
   "nbconvert_exporter": "",
   "pygments_lexer": "kotlin",
   "version": "1.9.23"
  }
 },
 "nbformat": 4,
 "nbformat_minor": 5
}
