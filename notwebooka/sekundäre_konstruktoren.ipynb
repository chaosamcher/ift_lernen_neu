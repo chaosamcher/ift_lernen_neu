{
 "cells": [
  {
   "metadata": {},
   "cell_type": "markdown",
   "source": [
    "## Default-Argumente in Konstruktoren\n",
    "\n",
    "Wir haben bereits gesehen, dass in der ersten Zeile der Definition einer Datenklasse auch ein Konstruktor definiert wird. Dieser wird primärer Konstruktor genannt."
   ]
  },
  {
   "metadata": {
    "ExecuteTime": {
     "end_time": "2025-04-06T10:21:11.449315818Z",
     "start_time": "2025-04-06T10:21:11.136486363Z"
    }
   },
   "cell_type": "code",
   "source": "data class Article(val name: String, val price: Int)",
   "outputs": [],
   "execution_count": 1
  },
  {
   "metadata": {},
   "cell_type": "markdown",
   "source": "Mit diesem können wir Objekte erzeugen."
  },
  {
   "metadata": {
    "ExecuteTime": {
     "end_time": "2025-04-06T10:21:11.541051946Z",
     "start_time": "2025-04-06T10:21:11.461931308Z"
    }
   },
   "cell_type": "code",
   "source": "Article(\"Apfel\", 3)",
   "outputs": [
    {
     "data": {
      "text/plain": [
       "Article(name=Apfel, price=3)"
      ]
     },
     "execution_count": 2,
     "metadata": {},
     "output_type": "execute_result"
    }
   ],
   "execution_count": 2
  },
  {
   "metadata": {},
   "cell_type": "markdown",
   "source": "Falls viele Artikel einen Euro kosten, ist es sinnvoll, diesen Betrag als Default-Argument im primären Konstruktor zu verwenden."
  },
  {
   "metadata": {
    "ExecuteTime": {
     "end_time": "2025-04-06T19:50:46.670298398Z",
     "start_time": "2025-04-06T19:50:46.287287964Z"
    }
   },
   "cell_type": "code",
   "source": "data class Article(val name: String, val price: Int = 1)",
   "outputs": [],
   "execution_count": 1
  },
  {
   "metadata": {},
   "cell_type": "markdown",
   "source": "Erzeugt der Benutzer ein Objekt, ohne den Preis anzugeben, wird nun der Default-Wert verwendet."
  },
  {
   "metadata": {
    "ExecuteTime": {
     "end_time": "2025-04-06T19:50:46.887231705Z",
     "start_time": "2025-04-06T19:50:46.697579456Z"
    }
   },
   "cell_type": "code",
   "source": "Article(\"Teelichter\")",
   "outputs": [
    {
     "data": {
      "text/plain": [
       "Article(name=Teelichter, price=1)"
      ]
     },
     "execution_count": 2,
     "metadata": {},
     "output_type": "execute_result"
    }
   ],
   "execution_count": 2
  },
  {
   "metadata": {},
   "cell_type": "markdown",
   "source": [
    "## Sekundäre Konstruktoren\n",
    "\n",
    "Wir wollen den Benutzern der Datenklasse `Article` ermöglichen, bei der Erzeugung eines Artikels einen Rabatt anzugeben. Der Konstruktor den wir bisher verwendet haben, soll aber weiterhin nutzbar bleiben.\n",
    "\n",
    "Dafür definieren wir im Klassenkörper einen zweiten Konstruktor."
   ]
  },
  {
   "cell_type": "code",
   "metadata": {
    "collapsed": true,
    "ExecuteTime": {
     "end_time": "2025-04-06T10:21:11.941795609Z",
     "start_time": "2025-04-06T10:21:11.797221358Z"
    }
   },
   "source": [
    "data class Article(val name: String, val price: Int){\n",
    "\n",
    "    constructor(name: String, price: Int, discount: Int): this(name, price - discount)\n",
    "}"
   ],
   "outputs": [],
   "execution_count": 5
  },
  {
   "metadata": {},
   "cell_type": "markdown",
   "source": "Dies geschieht mit dem Schlüsselwort `constructor`. In Klammern stehen die Parameter des neuen Konstruktors. Hinter dem Doppelpunkt steht ein Aufruf des primären Konstruktors. Der Name des zweiten Konstruktors ist wieder der Klassenname."
  },
  {
   "metadata": {
    "ExecuteTime": {
     "end_time": "2025-04-06T10:21:12.030503022Z",
     "start_time": "2025-04-06T10:21:11.954130183Z"
    }
   },
   "cell_type": "code",
   "source": "Article(\"Apfel\", 3, 1)",
   "outputs": [
    {
     "data": {
      "text/plain": [
       "Article(name=Apfel, price=2)"
      ]
     },
     "execution_count": 6,
     "metadata": {},
     "output_type": "execute_result"
    }
   ],
   "execution_count": 6
  },
  {
   "metadata": {},
   "cell_type": "markdown",
   "source": "Konstruktoren, die auf diese Weise definiert werden, nennt man sekundäre Konstruktoren."
  }
 ],
 "metadata": {
  "kernelspec": {
   "display_name": "Kotlin",
   "language": "kotlin",
   "name": "kotlin"
  },
  "language_info": {
   "name": "kotlin",
   "version": "1.9.23",
   "mimetype": "text/x-kotlin",
   "file_extension": ".kt",
   "pygments_lexer": "kotlin",
   "codemirror_mode": "text/x-kotlin",
   "nbconvert_exporter": ""
  }
 },
 "nbformat": 4,
 "nbformat_minor": 0
}
