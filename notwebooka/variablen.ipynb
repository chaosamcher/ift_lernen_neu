{
 "cells": [
  {
   "cell_type": "markdown",
   "id": "9326baaf-c7a6-4080-9e14-9cc2e7c70741",
   "metadata": {},
   "source": [
    "# Variablen\n",
    "\n",
    "## Motivation\n",
    "\n",
    "Die folgende Mathematikaufgabe können wir einfach mit dem Kotlin-Interpreter lösen.\n",
    "\n",
    "**Mathematikaufgabe 1**. *Für die englischen Längeneinheiten Fuß, Yard\n",
    "und Zoll (Inch) gelten:*\n",
    "\n",
    "-   *Ein Yard sind $3$ Fuß*\n",
    "\n",
    "-   *Ein Fuß sind $12$ Zoll*\n",
    "\n",
    "*Wie viel sind $\\,7$ Yard in Fuß und in Zoll?*\n",
    "\n",
    "**Lösung 1** \n",
    "\n",
    "In Fuß:\n"
   ]
  },
  {
   "cell_type": "code",
   "execution_count": 11,
   "id": "42ec84aa",
   "metadata": {},
   "outputs": [
    {
     "data": {
      "text/plain": [
       "21"
      ]
     },
     "execution_count": 11,
     "metadata": {},
     "output_type": "execute_result"
    }
   ],
   "source": "7 * 3"
  },
  {
   "metadata": {},
   "cell_type": "markdown",
   "source": "In Zoll:",
   "id": "3d14322ff6870c4e"
  },
  {
   "cell_type": "code",
   "execution_count": 12,
   "id": "6fbeef6b",
   "metadata": {},
   "outputs": [
    {
     "data": {
      "text/plain": [
       "252"
      ]
     },
     "execution_count": 12,
     "metadata": {},
     "output_type": "execute_result"
    }
   ],
   "source": "7 * 3 * 12"
  },
  {
   "cell_type": "markdown",
   "id": "6fe0dec2",
   "metadata": {},
   "source": [
    "\n",
    "Hierbei fällt auf, dass der *Ausdruck* `3 * 7` doppelt vorkommt und also\n",
    "auch doppelt ausgewertet wird. Um dies zu vermeiden und gleichzeitig die\n",
    "Lesbarkeit zu verbessern, können wir *Variablen* nutzen.\n",
    "\n",
    "## Variablen erstellen\n",
    "\n",
    "Eine *Variable* kann man sich als Box mit einem Namen und einem Inhalt\n",
    "vorstellen.\n",
    "\n",
    "<figure style=\"text-align:center;\">\n",
    "<img src = \"variable_box.svg\" width=\"300\">\n",
    "<figcaption><em>Variable</em> <code\n",
    "class=\"sourceCode kotlin\">sevenYardsInFeet</code> mit dem\n",
    "<em>Wert</em> <code\n",
    "class=\"sourceCode kotlin\"><span class=\"dv\">21</span></code></figcaption>\n",
    "</figure>\n",
    "\n",
    "Eine Variable wird mit einem *Zuweisungs-Statement* *initialisiert*\n",
    "(erstellt)."
   ]
  },
  {
   "cell_type": "code",
   "execution_count": 13,
   "id": "49b24990-f9de-43e2-9340-ba218c441007",
   "metadata": {},
   "outputs": [],
   "source": [
    "val sevenYardsInFeet = 3 * 7"
   ]
  },
  {
   "cell_type": "markdown",
   "id": "1aac6ec2-cb45-404d-ba69-5a9cf3dfaa5b",
   "metadata": {},
   "source": [
    "*Zuweisungsstatements* beginnen mit dem *Schlüsselwort* `val`. Danach folgt der Name der *Variablen*.\n",
    "Auf der rechten Seite des *Zuweisungsoperators* (`=`) steht ein *Ausdruck*. Bei der\n",
    "Ausführung dieses *Statements* wird zunächst der *Ausdruck* auf der\n",
    "rechten Seite ausgewertet. Der *Wert* des *Ausdrucks* wird dann unter\n",
    "dem angegebenen Namen gespeichert.\n",
    "\n",
    "\n",
    "Ein *Statement* ist eine Anweisung an den Kotlin-Interpreter. Oft zeigen *Schlüsselwörter* dem Interpreter an, was zu tun ist. \n",
    "Bei dem *Schlüsselwort* `val` soll der Interpreter eine Variable anlegen.\n",
    "\n",
    "<a name=\"cite_ref-1\"></a>[<sup>[1]</sup>](#cite_note-1).\n",
    "\n",
    "## Variablen in Ausdrücken verwenden\n",
    "\n",
    "Wir können jetzt den *Variablennamen* in *Ausdrücken* verwenden. Bei der\n",
    "Auswertung wird der *Variablenname* durch den *Wert* der *Variable*\n",
    "ersetzt.\n"
   ]
  },
  {
   "cell_type": "code",
   "execution_count": 14,
   "id": "6fd169e9-6a56-49f3-9e08-84563f4d7274",
   "metadata": {},
   "outputs": [
    {
     "data": {
      "text/plain": [
       "21"
      ]
     },
     "execution_count": 14,
     "metadata": {},
     "output_type": "execute_result"
    }
   ],
   "source": [
    "sevenYardsInFeet"
   ]
  },
  {
   "cell_type": "code",
   "execution_count": 15,
   "id": "0fcd9024",
   "metadata": {},
   "outputs": [
    {
     "data": {
      "text/plain": [
       "252"
      ]
     },
     "execution_count": 15,
     "metadata": {},
     "output_type": "execute_result"
    }
   ],
   "source": [
    "12 * sevenYardsInFeet"
   ]
  },
  {
   "cell_type": "markdown",
   "id": "e6ff34eb-0912-44af-8811-755f0445e2f0",
   "metadata": {},
   "source": [
    "Wir können eine *Variable* auch bei der *Initialisierung* einer neuen\n",
    "*Variablen* verwenden."
   ]
  },
  {
   "cell_type": "code",
   "execution_count": 16,
   "id": "98063b91-3387-47a0-8603-cab55be4dc8d",
   "metadata": {},
   "outputs": [
    {
     "data": {
      "text/plain": [
       "252"
      ]
     },
     "execution_count": 16,
     "metadata": {},
     "output_type": "execute_result"
    }
   ],
   "source": [
    "val threeYardsInInch = 12 * sevenYardsInFeet\n",
    "threeYardsInInch"
   ]
  },
  {
   "cell_type": "markdown",
   "id": "9e4eedc1-80ec-4590-86c4-0fe07693fff7",
   "metadata": {},
   "source": [
    "## Undefinierte Variablen\n",
    "\n",
    "Wenn wir in einem *Ausdruck* eine *Variable* nutzen, die noch nicht\n",
    "definiert wurde, werden wir darauf hingewiesen."
   ]
  },
  {
   "cell_type": "code",
   "execution_count": 17,
   "id": "3e0e8ff6-d9d6-45c7-ac90-ea3fbe0e6b06",
   "metadata": {},
   "outputs": [
    {
     "name": "stderr",
     "output_type": "stream",
     "text": [
      "Line_16.jupyter.kts (1:1 - 2) Unresolved reference: x"
     ]
    }
   ],
   "source": [
    "x"
   ]
  },
  {
   "cell_type": "markdown",
   "id": "4429a549-051b-4f84-b633-abb782fe26b5",
   "metadata": {},
   "source": [
    "Gerade bei längeren *Variablennamen* schleichen sich schnell\n",
    "Schreibfehler ein."
   ]
  },
  {
   "cell_type": "code",
   "execution_count": null,
   "id": "a122f73d-2853-48c5-8518-c94230a3a8ce",
   "metadata": {},
   "outputs": [],
   "source": [
    "sevenYardInFeet"
   ]
  },
  {
   "cell_type": "markdown",
   "id": "7088ef84-4721-4b63-ab1b-5a045703de82",
   "metadata": {},
   "source": [
    "## Erlaubte Variablennamen\n",
    "\n",
    "*Variablennamen* müssen mit einem Buchstaben beginnen."
   ]
  },
  {
   "cell_type": "code",
   "execution_count": null,
   "id": "4d9063fc-5c6d-48d8-b4e4-55b8694a135a",
   "metadata": {},
   "outputs": [],
   "source": [
    "2YardInFeet = 6"
   ]
  },
  {
   "cell_type": "markdown",
   "id": "12e5cd44-72b0-4324-99a3-30eef26d584e",
   "metadata": {},
   "source": [
    "Außerdem dürfen in *Variablennamen* nur Buchstaben, Zahlen und\n",
    "Unterstriche verwendet werden."
   ]
  },
  {
   "cell_type": "code",
   "execution_count": null,
   "id": "46755a18-d5dc-46c2-bda8-cd08eac7b62d",
   "metadata": {},
   "outputs": [],
   "source": [
    "three+Three = 6"
   ]
  },
  {
   "cell_type": "markdown",
   "id": "af3ec216",
   "metadata": {},
   "source": [
    "*Schlüsselwörter* dürfen **nicht** als *Variablennamen* genutzt werden"
   ]
  },
  {
   "cell_type": "code",
   "execution_count": 18,
   "id": "9039d421",
   "metadata": {},
   "outputs": [
    {
     "name": "stderr",
     "output_type": "stream",
     "text": [
      "Line_17.jupyter.kts (1:4 - 4) Expecting property name or receiver type\n",
      "Line_17.jupyter.kts (1:4 - 4) Property getter or setter expected\n",
      "Line_17.jupyter.kts (1:8 - 8) Expecting property name or receiver type"
     ]
    }
   ],
   "source": [
    "val val = 7"
   ]
  },
  {
   "metadata": {},
   "cell_type": "markdown",
   "source": [
    "## Doppelte Deklarationen\n",
    "\n",
    "Eine *Variable* darf auf derselben Ebene nur einmal *initialisiert* werden."
   ],
   "id": "481420f49e113896"
  },
  {
   "metadata": {
    "ExecuteTime": {
     "end_time": "2024-08-23T18:31:11.476500027Z",
     "start_time": "2024-08-23T18:31:11.291943006Z"
    }
   },
   "cell_type": "code",
   "source": [
    "val x = 1\n",
    "val x = 3"
   ],
   "id": "4f34f6ab9310c01c",
   "outputs": [
    {
     "ename": "org.jetbrains.kotlinx.jupyter.exceptions.ReplCompilerException",
     "evalue": " (1:1 - 10) Platform declaration clash: The following declarations have the same JVM signature (getX()I):\n    fun `<get-x>`(): Int defined in Line_3_jupyter\n    fun `<get-x>`(): Int defined in Line_3_jupyter\n (2:1 - 10) Platform declaration clash: The following declarations have the same JVM signature (getX()I):\n    fun `<get-x>`(): Int defined in Line_3_jupyter\n    fun `<get-x>`(): Int defined in Line_3_jupyter",
     "output_type": "error",
     "traceback": [
      "org.jetbrains.kotlinx.jupyter.repl.impl.JupyterCompilerImpl.compileSync(JupyterCompilerImpl.kt:201)",
      "org.jetbrains.kotlinx.jupyter.repl.impl.InternalEvaluatorImpl.eval(InternalEvaluatorImpl.kt:126)",
      "org.jetbrains.kotlinx.jupyter.repl.impl.CellExecutorImpl$execute$1$result$1.invoke(CellExecutorImpl.kt:80)",
      "org.jetbrains.kotlinx.jupyter.repl.impl.CellExecutorImpl$execute$1$result$1.invoke(CellExecutorImpl.kt:78)",
      "org.jetbrains.kotlinx.jupyter.repl.impl.ReplForJupyterImpl.withHost(ReplForJupyterImpl.kt:762)",
      "org.jetbrains.kotlinx.jupyter.repl.impl.CellExecutorImpl.execute-L4Nmkdk(CellExecutorImpl.kt:78)",
      "org.jetbrains.kotlinx.jupyter.repl.execution.CellExecutor$DefaultImpls.execute-L4Nmkdk$default(CellExecutor.kt:13)",
      "org.jetbrains.kotlinx.jupyter.repl.impl.ReplForJupyterImpl.evaluateUserCode-wNURfNM(ReplForJupyterImpl.kt:585)",
      "org.jetbrains.kotlinx.jupyter.repl.impl.ReplForJupyterImpl.access$evaluateUserCode-wNURfNM(ReplForJupyterImpl.kt:138)",
      "org.jetbrains.kotlinx.jupyter.repl.impl.ReplForJupyterImpl$evalEx$1.invoke(ReplForJupyterImpl.kt:442)",
      "org.jetbrains.kotlinx.jupyter.repl.impl.ReplForJupyterImpl$evalEx$1.invoke(ReplForJupyterImpl.kt:439)",
      "org.jetbrains.kotlinx.jupyter.repl.impl.ReplForJupyterImpl.withEvalContext(ReplForJupyterImpl.kt:420)",
      "org.jetbrains.kotlinx.jupyter.repl.impl.ReplForJupyterImpl.evalEx(ReplForJupyterImpl.kt:439)",
      "org.jetbrains.kotlinx.jupyter.messaging.IdeCompatibleMessageRequestProcessor$processExecuteRequest$1$response$1$1.invoke(IdeCompatibleMessageRequestProcessor.kt:136)",
      "org.jetbrains.kotlinx.jupyter.messaging.IdeCompatibleMessageRequestProcessor$processExecuteRequest$1$response$1$1.invoke(IdeCompatibleMessageRequestProcessor.kt:135)",
      "org.jetbrains.kotlinx.jupyter.execution.JupyterExecutorImpl$Task.execute(JupyterExecutorImpl.kt:42)",
      "org.jetbrains.kotlinx.jupyter.execution.JupyterExecutorImpl$executorThread$1.invoke(JupyterExecutorImpl.kt:82)",
      "org.jetbrains.kotlinx.jupyter.execution.JupyterExecutorImpl$executorThread$1.invoke(JupyterExecutorImpl.kt:80)",
      "kotlin.concurrent.ThreadsKt$thread$thread$1.run(Thread.kt:30)"
     ]
    }
   ],
   "execution_count": 1
  },
  {
   "metadata": {},
   "cell_type": "markdown",
   "source": "Eine erneute *Initialisierung* ist nur in neuen einem Block möglich. Was das genau bedeutet, lernen wir im nächsten Kapitel. Tatsächlich können wir diese Einschränkung umgehen, indem wir eine neue Zelle nutzen. In normalen Programmen ist dies aber nicht mehr möglich.",
   "id": "ab9c3ede4f0b24c9"
  },
  {
   "metadata": {},
   "cell_type": "markdown",
   "source": [
    "<a name=\"cite_note-1\"></a>1 [^](#cite_ref-1) Bei *Zuweisung-Statements* weisen wir den Interpreter an, eine *Variable*\n",
    "anzulegen oder ihren Wert zu ändern. Diese Möglichkeit lernen wir jedoch erst\n",
    "später kennen"
   ],
   "id": "9fceab48ae3be39"
  },
  {
   "metadata": {},
   "cell_type": "markdown",
   "source": "",
   "id": "c03d5bb25baad70d"
  }
 ],
 "metadata": {
  "kernelspec": {
   "display_name": "Kotlin",
   "language": "kotlin",
   "name": "kotlin"
  },
  "language_info": {
   "codemirror_mode": "text/x-kotlin",
   "file_extension": ".kt",
   "mimetype": "text/x-kotlin",
   "name": "kotlin",
   "nbconvert_exporter": "",
   "pygments_lexer": "kotlin",
   "version": "1.9.23"
  }
 },
 "nbformat": 4,
 "nbformat_minor": 5
}
