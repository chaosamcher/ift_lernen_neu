{
 "cells": [
  {
   "metadata": {},
   "cell_type": "markdown",
   "source": [
    "## Mehrere Alternativen\n",
    "\n",
    "In Programmen muss man oft zwischen **mehr** als zwei Möglichkeiten unterscheiden. Dann\n",
    "können verschachtelte `if`-`else`-*Ausdrücke* verwendet werden.\n",
    "Dabei schreibt man nach `if` und/oder `else` einen eigenen\n",
    "`if`-`else`-*Ausdruck*."
   ]
  },
  {
   "cell_type": "code",
   "metadata": {
    "collapsed": true,
    "ExecuteTime": {
     "end_time": "2025-04-06T06:17:15.713134687Z",
     "start_time": "2025-04-06T06:17:15.609191711Z"
    }
   },
   "source": [
    "fun juggleMotivation(count: Int): String =\n",
    "    if (count >= 15) \"Great, add another ball!\" else\n",
    "        if (count >= 3) \"Try again until you complete 15 repetitions!\"\n",
    "        else \"Please concentrate!\"\n",
    "    "
   ],
   "outputs": [],
   "execution_count": 8
  },
  {
   "metadata": {
    "ExecuteTime": {
     "end_time": "2025-04-06T06:17:15.788142319Z",
     "start_time": "2025-04-06T06:17:15.724271969Z"
    }
   },
   "cell_type": "code",
   "source": "juggleMotivation(15)",
   "outputs": [
    {
     "data": {
      "text/plain": [
       "Great, add another ball!"
      ]
     },
     "execution_count": 9,
     "metadata": {},
     "output_type": "execute_result"
    }
   ],
   "execution_count": 9
  },
  {
   "metadata": {
    "ExecuteTime": {
     "end_time": "2025-04-06T06:17:15.866701445Z",
     "start_time": "2025-04-06T06:17:15.798793279Z"
    }
   },
   "cell_type": "code",
   "source": "juggleMotivation(14)",
   "outputs": [
    {
     "data": {
      "text/plain": [
       "Try again until you complete 15 repetitions!"
      ]
     },
     "execution_count": 10,
     "metadata": {},
     "output_type": "execute_result"
    }
   ],
   "execution_count": 10
  },
  {
   "metadata": {
    "ExecuteTime": {
     "end_time": "2025-04-06T06:17:15.950534770Z",
     "start_time": "2025-04-06T06:17:15.878295758Z"
    }
   },
   "cell_type": "code",
   "source": "juggleMotivation(2)",
   "outputs": [
    {
     "data": {
      "text/plain": [
       "Please concentrate!"
      ]
     },
     "execution_count": 11,
     "metadata": {},
     "output_type": "execute_result"
    }
   ],
   "execution_count": 11
  },
  {
   "metadata": {},
   "cell_type": "markdown",
   "source": "Mit einem `when`-*Ausdruck* kann diese Funktion lesbarer geschrieben werden.\n"
  },
  {
   "metadata": {
    "ExecuteTime": {
     "end_time": "2025-04-06T06:17:16.070942424Z",
     "start_time": "2025-04-06T06:17:15.960410429Z"
    }
   },
   "cell_type": "code",
   "source": [
    "fun juggleMotivation(count: Int): String = when {\n",
    "    count >= 15 -> \"Great, add another ball!\"\n",
    "    count >= 3 -> \"Try again until you complete 15 repetitions!\"\n",
    "    else -> \"Please concentrate!\"\n",
    "}"
   ],
   "outputs": [],
   "execution_count": 12
  },
  {
   "metadata": {},
   "cell_type": "markdown",
   "source": "In der geschweiften Klammer nach dem Schlüsselwort `when` steht in jeder Zeile eine Bedingung, ein Pfeil `->` und ein Ausdruck. Bei der Auswertung wird geprüft, welches die erste Bedingung ist, die erfüllt ist. Der *Wert* des *Ausdrucks* der hinter dieser Bedingung steht, ist dann der *Wert* des gesamten `when`-*Ausdrucks*. Wenn keine Bedingung erfüllt ist, ist der Wert des gesamten `when`-*Ausdrucks* der Wert des Ausdrucks hinter `else`.\n"
  },
  {
   "metadata": {},
   "cell_type": "markdown",
   "source": [
    "## When-Ausdrücke mit Subjekt\n",
    "\n",
    "Oft vergleicht man in jeder Zeile eines `when`-Ausdrucks mit genau einem Element."
   ]
  },
  {
   "metadata": {
    "ExecuteTime": {
     "end_time": "2025-04-06T06:17:16.168847232Z",
     "start_time": "2025-04-06T06:17:16.094019309Z"
    }
   },
   "cell_type": "code",
   "source": [
    "fun numericToWord(x: Int): String = when {\n",
    "    x == 1 -> \"One\"\n",
    "    x == 2 -> \"Two\"\n",
    "    x == 3 -> \"Two\"\n",
    "    else -> \"Unknown Number\"\n",
    "}"
   ],
   "outputs": [],
   "execution_count": 13
  },
  {
   "metadata": {},
   "cell_type": "markdown",
   "source": "Dann kann man den Ausdruck, dessen Wert verglichen werden soll in Klammern nach `when` schreiben. In den Zeilen in dem `when`-Ausdruck steht dann nur noch die zweite Seite des Vergleichs.\n"
  },
  {
   "metadata": {
    "ExecuteTime": {
     "end_time": "2025-04-06T06:17:16.242564064Z",
     "start_time": "2025-04-06T06:17:16.176616425Z"
    }
   },
   "cell_type": "code",
   "source": [
    "fun numericToWord(x: Int): String = when(x) {\n",
    "    1 -> \"One\"\n",
    "    2 -> \"Two\"\n",
    "    3 -> \"Two\"\n",
    "    else -> \"Unknown Number\"\n",
    "}"
   ],
   "outputs": [],
   "execution_count": 14
  }
 ],
 "metadata": {
  "kernelspec": {
   "display_name": "Kotlin",
   "language": "kotlin",
   "name": "kotlin"
  },
  "language_info": {
   "name": "kotlin",
   "version": "1.9.23",
   "mimetype": "text/x-kotlin",
   "file_extension": ".kt",
   "pygments_lexer": "kotlin",
   "codemirror_mode": "text/x-kotlin",
   "nbconvert_exporter": ""
  }
 },
 "nbformat": 4,
 "nbformat_minor": 0
}
