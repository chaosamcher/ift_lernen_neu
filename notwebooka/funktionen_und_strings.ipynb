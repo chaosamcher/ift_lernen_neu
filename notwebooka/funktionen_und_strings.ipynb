{
 "cells": [
  {
   "cell_type": "code",
   "id": "483f4bcf-bbc3-479b-9777-1a98db63e519",
   "metadata": {
    "ExecuteTime": {
     "end_time": "2024-09-22T18:36:32.488995447Z",
     "start_time": "2024-09-22T18:36:32.395020352Z"
    }
   },
   "source": "fun greetBavarian(name: String): String = \"Servus \" + name",
   "outputs": [],
   "execution_count": 4
  },
  {
   "cell_type": "markdown",
   "id": "402794d5",
   "metadata": {},
   "source": [
    "\n",
    "# Strings und Funktionen\n",
    "\n",
    "## Motivation\n",
    "\n",
    "Wir wollen eine Funktion `greetBavarian` schreiben, der der Name einer\n",
    "Benutzerin als *String* übergeben wird und die diese Benutzerin mit\n",
    "`\"Servus\"` begrüßt."
   ]
  },
  {
   "cell_type": "code",
   "id": "4acf7dc0-9ee3-4b32-a098-b8f375653389",
   "metadata": {
    "ExecuteTime": {
     "end_time": "2024-09-22T18:36:34.691194901Z",
     "start_time": "2024-09-22T18:36:34.559542504Z"
    }
   },
   "source": [
    "greetBavarian(\"Ada\")"
   ],
   "outputs": [
    {
     "data": {
      "text/plain": [
       "Servus Ada"
      ]
     },
     "execution_count": 5,
     "metadata": {},
     "output_type": "execute_result"
    }
   ],
   "execution_count": 5
  },
  {
   "cell_type": "markdown",
   "id": "9feb1af3-f4b1-4028-b204-6c45e759e131",
   "metadata": {},
   "source": [
    "<figure id=\"fig:Typen\" style=\"text-align:center\" >\n",
    "<img src=\"funktionsaufruf_strings_grafik_ada.svg\" style=\"width:25.0%; ; background-color:white;\" />\n",
    "\n",
    "<figcaption>Funktionsaufruf <code\n",
    "class=\"sourceCode kotlin\">greetBavarian(<span class=\"st\">\"Ada\"</span>)</code></figcaption>\n",
    "</figure>"
   ]
  },
  {
   "cell_type": "code",
   "execution_count": 7,
   "id": "8bdf0dd7-1e50-4ebe-a692-a737b24e7882",
   "metadata": {
    "ExecuteTime": {
     "end_time": "2024-08-19T19:02:45.474106741Z",
     "start_time": "2024-08-19T19:02:45.330205283Z"
    }
   },
   "outputs": [
    {
     "data": {
      "text/plain": [
       "Servus Grace"
      ]
     },
     "execution_count": 7,
     "metadata": {},
     "output_type": "execute_result"
    }
   ],
   "source": [
    "greetBavarian(\"Grace\")"
   ]
  },
  {
   "cell_type": "markdown",
   "id": "4c26027f-4d87-473b-8e21-2b8ec125dea2",
   "metadata": {},
   "source": [
    "<figure id=\"fig:Typen\" style=\"text-align:center\">\n",
    "<img src=\"funktionsaufruf_strings_grafik_grace.svg\" style=\"width:25.0%; ; background-color:white;\" />\n",
    "\n",
    "<figcaption>Funktionsaufruf <code\n",
    "class=\"sourceCode kotlin\">greetBavarian(<span class=\"st\">\"Grace\"</span>)</code></figcaption>\n",
    "</figure>\n",
    "\n",
    "Beim Lesen der beiden Funktionsaufrufe wird deutlich, dass der Funktion\n",
    "immer genau ein *String* als *Argument* übergeben wird. Sie muss also\n",
    "einen *Parameter* mit dem Typ *String* (`String`) haben. Wir sehen auch,\n",
    "dass immer ein *String* zurückgeben wird. Mit diesen Informationen\n",
    "können wir bereits den *Funktionskopf* und den Anfang des\n",
    "*Funktionskörpers* schreiben."
   ]
  },
  {
   "cell_type": "code",
   "execution_count": 9,
   "id": "d501e9f8-3613-4540-a29e-3ae64d9a11dd",
   "metadata": {
    "ExecuteTime": {
     "end_time": "2024-08-19T19:04:02.765890516Z",
     "start_time": "2024-08-19T19:04:02.754886767Z"
    }
   },
   "outputs": [
    {
     "ename": "org.jetbrains.kotlinx.jupyter.exceptions.ReplCompilerException",
     "evalue": "Line_10.jupyter.kts (1:43 - 43) Expecting an expression",
     "output_type": "error",
     "traceback": [
      "org.jetbrains.kotlinx.jupyter.repl.impl.JupyterCompilerImpl.compileSync(JupyterCompilerImpl.kt:201)",
      "org.jetbrains.kotlinx.jupyter.repl.impl.InternalEvaluatorImpl.eval(InternalEvaluatorImpl.kt:126)",
      "org.jetbrains.kotlinx.jupyter.repl.impl.CellExecutorImpl$execute$1$result$1.invoke(CellExecutorImpl.kt:80)",
      "org.jetbrains.kotlinx.jupyter.repl.impl.CellExecutorImpl$execute$1$result$1.invoke(CellExecutorImpl.kt:78)",
      "org.jetbrains.kotlinx.jupyter.repl.impl.ReplForJupyterImpl.withHost(ReplForJupyterImpl.kt:762)",
      "org.jetbrains.kotlinx.jupyter.repl.impl.CellExecutorImpl.execute-L4Nmkdk(CellExecutorImpl.kt:78)",
      "org.jetbrains.kotlinx.jupyter.repl.execution.CellExecutor$DefaultImpls.execute-L4Nmkdk$default(CellExecutor.kt:13)",
      "org.jetbrains.kotlinx.jupyter.repl.impl.ReplForJupyterImpl.evaluateUserCode-wNURfNM(ReplForJupyterImpl.kt:585)",
      "org.jetbrains.kotlinx.jupyter.repl.impl.ReplForJupyterImpl.access$evaluateUserCode-wNURfNM(ReplForJupyterImpl.kt:138)",
      "org.jetbrains.kotlinx.jupyter.repl.impl.ReplForJupyterImpl$evalEx$1.invoke(ReplForJupyterImpl.kt:442)",
      "org.jetbrains.kotlinx.jupyter.repl.impl.ReplForJupyterImpl$evalEx$1.invoke(ReplForJupyterImpl.kt:439)",
      "org.jetbrains.kotlinx.jupyter.repl.impl.ReplForJupyterImpl.withEvalContext(ReplForJupyterImpl.kt:420)",
      "org.jetbrains.kotlinx.jupyter.repl.impl.ReplForJupyterImpl.evalEx(ReplForJupyterImpl.kt:439)",
      "org.jetbrains.kotlinx.jupyter.messaging.IdeCompatibleMessageRequestProcessor$processExecuteRequest$1$response$1$1.invoke(IdeCompatibleMessageRequestProcessor.kt:136)",
      "org.jetbrains.kotlinx.jupyter.messaging.IdeCompatibleMessageRequestProcessor$processExecuteRequest$1$response$1$1.invoke(IdeCompatibleMessageRequestProcessor.kt:135)",
      "org.jetbrains.kotlinx.jupyter.execution.JupyterExecutorImpl$Task.execute(JupyterExecutorImpl.kt:42)",
      "org.jetbrains.kotlinx.jupyter.execution.JupyterExecutorImpl$executorThread$1.invoke(JupyterExecutorImpl.kt:82)",
      "org.jetbrains.kotlinx.jupyter.execution.JupyterExecutorImpl$executorThread$1.invoke(JupyterExecutorImpl.kt:80)",
      "kotlin.concurrent.ThreadsKt$thread$thread$1.run(Thread.kt:30)"
     ]
    }
   ],
   "source": [
    "fun greetBavarian(name: String) : String = // Ausdruck fehlt noch :( "
   ]
  },
  {
   "cell_type": "markdown",
   "id": "e9a84809-84db-4cad-9d55-9d17af303508",
   "metadata": {},
   "source": [
    "Wir kennzeichnen mit `: String` hinter einem *Parameter*, dass für diesen\n",
    "ein *String* übergeben werden soll. Mit `: String` nach der Klammer mit\n",
    "den *Parametern* wird ausgedrückt, dass der *Rückgabewert* der Funktion\n",
    "ein *String* ist.\n",
    "\n",
    "Im zweiten Schritt überlegen wir uns, wie aus dem *Argument* mithilfe\n",
    "von *String-Operationen* der *Rückgabewert* berechnet wird. Dies ist für\n",
    "das erste Beispiel oben folgendermaßen möglich:"
   ]
  },
  {
   "cell_type": "code",
   "execution_count": 10,
   "id": "05ff3ca3-e60b-4999-9cb2-9542df1ed837",
   "metadata": {
    "jupyter": {
     "is_executing": true
    }
   },
   "outputs": [
    {
     "data": {
      "text/plain": [
       "Servus Ada"
      ]
     },
     "execution_count": 10,
     "metadata": {},
     "output_type": "execute_result"
    }
   ],
   "source": [
    "\"Servus \" + \"Ada\""
   ]
  },
  {
   "cell_type": "markdown",
   "id": "1dfa6a56-8bad-421e-a05c-ed19729c89f0",
   "metadata": {},
   "source": [
    "Im zweiten Fall kann man folgendermaßen rechnen:"
   ]
  },
  {
   "cell_type": "code",
   "execution_count": 10,
   "id": "a76b2634-39e5-4a8e-9f51-f5f694e35c4e",
   "metadata": {
    "ExecuteTime": {
     "end_time": "2024-08-19T19:04:11.618550726Z",
     "start_time": "2024-08-19T19:04:11.491949246Z"
    }
   },
   "outputs": [
    {
     "data": {
      "text/plain": [
       "Servus Grace"
      ]
     },
     "execution_count": 10,
     "metadata": {},
     "output_type": "execute_result"
    }
   ],
   "source": [
    "\"Servus \" + \"Grace\""
   ]
  },
  {
   "cell_type": "markdown",
   "id": "16c00892-34d8-43bf-9f6b-7d91d040f419",
   "metadata": {},
   "source": [
    "Beide Rechnungen beginnen mit dem *String-Literal* `\"Servus \"`. Dieses\n",
    "kann also genau so in dem *Ausdruck* hinter `return` verwendet werden.\n",
    "Bei beiden Rechnungen taucht anschließend der *Operator* `+` auf. Auch\n",
    "dieser muss also in dem *Ausdruck* hinter `return` verwendet werden.\n",
    "\n",
    "Ab jetzt unterscheiden sich die beiden Rechnung. Um das Ergebnis von\n",
    "`greetBavarian(\"Ada\")` zu berechnen, müssen wir mit `\"Ada\"` addieren.\n",
    "Bei der Berechnung des *Rückgabewerts* von `greetBavarian(\"Grace\")`\n",
    "müssen wir stattdessen mit `\"Grace\"` addieren. Es handelt sich **nicht**\n",
    "beide Male um denselben *Wert*. Die Gemeinsamkeit ist aber, dass es\n",
    "sich beide Male um das übergebene *Argument* handelt. Wir verwenden also\n",
    "an dieser Stelle den *Parameter* `name`. Die vollständige Funktion sieht\n",
    "dann folgendermaßen aus:"
   ]
  },
  {
   "cell_type": "code",
   "execution_count": 11,
   "id": "657474ae-2cb0-4a5f-8520-c06370bf6788",
   "metadata": {
    "ExecuteTime": {
     "end_time": "2024-08-19T19:04:15.989482834Z",
     "start_time": "2024-08-19T19:04:15.889162783Z"
    }
   },
   "outputs": [],
   "source": [
    "fun greetBavarian(name: String) : String = \"Servus \" + name"
   ]
  },
  {
   "cell_type": "markdown",
   "id": "e68ce9a4-5633-4eeb-a52c-b380b1f79a84",
   "metadata": {},
   "source": [
    "## Grundlagen\n",
    "\n",
    "Um `\"Servus\"` stehen Anführungszeichen aber nicht um `name` und\n",
    "`greetBavarian`. Der Grund dafür ist, dass `\"Servus \"` ein\n",
    "*String-Literal* ist. Dieses soll genau so im Ergebnis auftauchen. Egal\n",
    "mit welchen *Argumenten* die Funktion aufgerufen wird, wollen wir, dass\n",
    "das Ergebnis mit `\"Servus \"` beginnt.\n",
    "\n",
    "`name` ist jedoch kein *String*, sondern der Name eines *Parameters*. Im\n",
    "Ergebnis soll `name` **nicht** auftauchen. Stattdessen soll `name` durch\n",
    "den *Wert* des *Arguments* ersetzt werden. Beim ersten Funktionsaufruf\n",
    "ist das `\"Ada\"` und beim zweiten `\"Grace\"`.\n",
    "\n",
    "Besonders deutlich wird das, wenn wir uns die *Variablenbelegung* beim\n",
    "Funktionsaufruf `greetBavarian(\"Ada\")` anschauen.\n",
    "\n",
    "| Name   |    Wert |\n",
    "|:-------|--------:|\n",
    "| `name` | `\"Ada\"` |\n",
    "\n",
    "Der *Parameter* `name` hat hier den Wert `\"Ada\"`. Bei der Auswertung des\n",
    "*Funktionskörpers* wird dieser *Parameter* durch seinen *Wert* ersetzt.\n",
    "Wird die Funktion mit anderen *Argumenten* aufgerufen, werden die\n",
    "*Parameter* auch durch andere *Werte* ersetzt. Im Gegensatz dazu bleibt der\n",
    "*String* `\"Servus \"` immer gleich.\n",
    "\n",
    "## Fehler beim Verwechseln von String-Literalen und Parameternamen\n",
    "\n",
    "Den Unterschied kann man sich auch klarmachen, wenn man `name` im\n",
    "*Funktionskörper* auch als *String* schreibt."
   ]
  },
  {
   "cell_type": "code",
   "execution_count": 14,
   "id": "a2eba2f5-dc06-46e6-8707-3b525822c26d",
   "metadata": {},
   "outputs": [],
   "source": [
    "fun greet_bavarian_wrong(name: String): String =  \"Servus \" + \"name\""
   ]
  },
  {
   "cell_type": "code",
   "execution_count": 15,
   "id": "25f09ba2-ff58-4566-a683-7296f9ed5f05",
   "metadata": {},
   "outputs": [
    {
     "data": {
      "text/plain": [
       "Servus name"
      ]
     },
     "execution_count": 15,
     "metadata": {},
     "output_type": "execute_result"
    }
   ],
   "source": [
    "greet_bavarian_wrong(\"Ada\")"
   ]
  },
  {
   "cell_type": "code",
   "execution_count": 16,
   "id": "ea035b5b",
   "metadata": {},
   "outputs": [
    {
     "data": {
      "text/plain": [
       "Servus name"
      ]
     },
     "execution_count": 16,
     "metadata": {},
     "output_type": "execute_result"
    }
   ],
   "source": [
    "greet_bavarian_wrong(\"Grace\")"
   ]
  },
  {
   "cell_type": "markdown",
   "id": "394fe017-5717-45ee-bf18-69b697544756",
   "metadata": {},
   "source": [
    "`\"name\"` ist ein *String-Literal*. Dieses taucht also unabhängig vom\n",
    "übergebenen Argument genau so im Ergebnis auf.\n",
    "\n",
    "Auch der Funktionsname `greetBavarian` ist ein Name, der benötigt wird,\n",
    "wenn die Funktion aufgerufen wird. Die Funktion ist aber **nicht** der\n",
    "*String* `\"greetBavarian\"`. Deshalb muss ihr Name auch nicht zwischen\n",
    "Anführungszeichen geschrieben werden."
   ]
  }
 ],
 "metadata": {
  "kernelspec": {
   "display_name": "Kotlin",
   "language": "kotlin",
   "name": "kotlin"
  },
  "language_info": {
   "codemirror_mode": "text/x-kotlin",
   "file_extension": ".kt",
   "mimetype": "text/x-kotlin",
   "name": "kotlin",
   "nbconvert_exporter": "",
   "pygments_lexer": "kotlin",
   "version": "1.9.23"
  }
 },
 "nbformat": 4,
 "nbformat_minor": 5
}
