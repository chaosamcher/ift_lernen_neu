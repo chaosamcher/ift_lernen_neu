{
 "cells": [
  {
   "metadata": {},
   "cell_type": "markdown",
   "source": [
    "# Iteration über Strings\n",
    "\n",
    "Strings sind Zeichenketten. Wir können diese Zeichenketten mit einer `for-`Schleife durchlaufen."
   ]
  },
  {
   "cell_type": "code",
   "execution_count": null,
   "metadata": {
    "collapsed": true
   },
   "outputs": [],
   "source": [
    "for (char in \"hello\") {\n",
    "    println(char)\n",
    "}"
   ]
  },
  {
   "metadata": {},
   "cell_type": "markdown",
   "source": [
    "Bei einer `for`-*Schleife* steht am Anfang des sogenannten *Schleifenkopfs*\n",
    "das Schlüsselwort `for` . Danach folgt in Klammer ein *Schleifenvariable*, das Schlüsselwort `in` und ein String.\n",
    "\n",
    "Anschließend folgt in geschweiften Klammern der Schleifenkörper. Dieser besteht aus *Statements*, in denen die *Schleifenvariable* genutzt werden kann. Bei der Ausführung der Schleife durchläuft die Schleifenvariable die Zeichen in dem String. Für jedes dieser Zeichen werden die Statements im Schleifenkörper ausgeführt.\n",
    "\n",
    "- Bei der ersten Ausführung des Schleifenkörpers hat `char` den Wert `'h'`. Es wird also `println('h')` ausgeführt\n",
    "- Bei der zweiten Ausführung des Schleifenkörpers hat `char` den Wert `'e'`. Es wird also `println('e')` ausgeführt\n",
    "- $\\vdots$"
   ]
  }
 ],
 "metadata": {
  "kernelspec": {
   "display_name": "Kotlin",
   "language": "kotlin",
   "name": "kotlin"
  },
  "language_info": {
   "name": "kotlin",
   "version": "1.9.23",
   "mimetype": "text/x-kotlin",
   "file_extension": ".kt",
   "pygments_lexer": "kotlin",
   "codemirror_mode": "text/x-kotlin",
   "nbconvert_exporter": ""
  }
 },
 "nbformat": 4,
 "nbformat_minor": 0
}
