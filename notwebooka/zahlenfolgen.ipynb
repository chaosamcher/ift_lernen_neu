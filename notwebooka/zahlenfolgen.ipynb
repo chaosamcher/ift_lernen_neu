{
 "cells": [
  {
   "cell_type": "markdown",
   "id": "7d39defab865a892",
   "metadata": {},
   "source": [
    "# Zahlenfolgen\n",
    "\n",
    "## Grundlagen\n",
    "\n",
    "Eine Zahlenfolge besteht aus allen ganzen Zahlen zwischen einem unteren und einer oberen Grenze. Um eine solche Zahlenfolge zu erzeugen, schreiben wir zwei Punkte zwischen die beiden Grenzen."
   ]
  },
  {
   "metadata": {
    "ExecuteTime": {
     "end_time": "2025-03-29T12:30:02.507051006Z",
     "start_time": "2025-03-29T12:30:02.362553735Z"
    }
   },
   "cell_type": "code",
   "source": "1..3",
   "id": "4add963c5caaa19e",
   "outputs": [
    {
     "data": {
      "text/plain": [
       "1..3"
      ]
     },
     "execution_count": 1,
     "metadata": {},
     "output_type": "execute_result"
    }
   ],
   "execution_count": 1
  },
  {
   "metadata": {},
   "cell_type": "markdown",
   "source": [
    "\n",
    "\n",
    "## Iteration über Zahlenfolgen\n",
    "\n",
    "Wir können die ganzen Zahlen zwischen zwei Zahlen durchlaufen, indem wir in einer `for`-Schleife hinter `in` die Zahlenfolge zwischen diesen Zahlen verwenden."
   ],
   "id": "095a4d66-79bb-479b-81a5-fa305f2f07cf"
  },
  {
   "cell_type": "code",
   "id": "ae86d342-aeb8-4841-880e-e7a60078a96b",
   "metadata": {
    "ExecuteTime": {
     "end_time": "2025-02-25T06:33:55.522732777Z",
     "start_time": "2025-02-25T06:33:54.953324821Z"
    }
   },
   "source": [
    "for (i in 1..3) {\n",
    "    println(i)\n",
    "}"
   ],
   "outputs": [
    {
     "name": "stdout",
     "output_type": "stream",
     "text": [
      "1\n",
      "2\n",
      "3\n"
     ]
    }
   ],
   "execution_count": 1
  },
  {
   "metadata": {},
   "cell_type": "markdown",
   "source": [
    "## Das Akkumulator-Pattern\n",
    "\n",
    "Wenn wir die Summe aller Zahlen, die die Schleifenvariable durchläuft, berechnen wollen, müssen wir vor dem Durchlaufen der Schleife eine veränderliche Variable anlegen. In dieser soll nach jedem Schleifendurchlauf die Summe der bereits durchlaufenen Zahlen gespeichert sein. Am Anfang wurden noch keine Zahl durchlaufen. Deshalb muss diese Variable mit dem Wert `0` initialisiert werden."
   ],
   "id": "fcb91005e9546032"
  },
  {
   "metadata": {
    "ExecuteTime": {
     "end_time": "2025-02-25T06:33:55.782904883Z",
     "start_time": "2025-02-25T06:33:55.542557551Z"
    }
   },
   "cell_type": "code",
   "source": "var sum = 0",
   "id": "d5649998124e2036",
   "outputs": [],
   "execution_count": 2
  },
  {
   "metadata": {},
   "cell_type": "markdown",
   "source": [
    "Diese *Variable* kann man nun bei jeder Wiederholung\n",
    "anpassen."
   ],
   "id": "71d9db73d74e6adf"
  },
  {
   "cell_type": "code",
   "id": "3a0a6a29e4ef908",
   "metadata": {
    "ExecuteTime": {
     "end_time": "2025-02-25T06:33:55.930612290Z",
     "start_time": "2025-02-25T06:33:55.802189415Z"
    }
   },
   "source": [
    "for (i in 1..3) {\n",
    "    sum = sum + i\n",
    "}"
   ],
   "outputs": [],
   "execution_count": 3
  },
  {
   "metadata": {},
   "cell_type": "markdown",
   "source": "Wenn alle Schleifendurchläufe beendet sind, ist der korrekte Wert in dieser Variable gespeichert.",
   "id": "97bf5e467ce39e39"
  },
  {
   "metadata": {
    "ExecuteTime": {
     "end_time": "2025-02-25T06:33:56.112968694Z",
     "start_time": "2025-02-25T06:33:55.948443661Z"
    }
   },
   "cell_type": "code",
   "source": "sum",
   "id": "4a2655b5",
   "outputs": [
    {
     "data": {
      "text/plain": [
       "6"
      ]
     },
     "execution_count": 4,
     "metadata": {},
     "output_type": "execute_result"
    }
   ],
   "execution_count": 4
  },
  {
   "cell_type": "markdown",
   "id": "8d0d05ba",
   "metadata": {},
   "source": [
    "\n",
    "Um genau zu sehen, was bei jedem Schritt passiert, kann man die Funktion\n",
    "`println` nutzen.\n"
   ]
  },
  {
   "cell_type": "code",
   "id": "881e2160",
   "metadata": {
    "ExecuteTime": {
     "end_time": "2025-02-25T06:33:56.396218890Z",
     "start_time": "2025-02-25T06:33:56.129298239Z"
    }
   },
   "source": [
    "var sum = 0 \n",
    "for (i in 1.. 3) {\n",
    "    sum = sum + i\n",
    "    println(\"i = \" + i.toString())\n",
    "    println(\"sum = \" + sum.toString())\n",
    "    println(\"———\")\n",
    "}\n",
    "sum"
   ],
   "outputs": [
    {
     "name": "stdout",
     "output_type": "stream",
     "text": [
      "i = 1\n",
      "sum = 1\n",
      "———\n",
      "i = 2\n",
      "sum = 3\n",
      "———\n",
      "i = 3\n",
      "sum = 6\n",
      "———\n"
     ]
    },
    {
     "data": {
      "text/plain": [
       "6"
      ]
     },
     "execution_count": 5,
     "metadata": {},
     "output_type": "execute_result"
    }
   ],
   "execution_count": 5
  },
  {
   "metadata": {},
   "cell_type": "markdown",
   "source": [
    "Dieses Muster wird *Akkumulator-Pattern* genannt. Bei diesem Muster wird immer (mindestens) eine veränderliche Variable angelegt, die dann beim Durchlaufen der Schleife angepasst wird.\n",
    "\n",
    "**Nicht** immer gleich sind\n",
    "\n",
    "- der Wert mit dem die veränderliche Variable (Akkumulator) initialisiert wird\n",
    "- wie der Akkumulator im Schleifenkörper verändert wird"
   ],
   "id": "5147343615d60537"
  },
  {
   "metadata": {},
   "cell_type": "markdown",
   "source": [
    "## Ergänzung\n",
    "\n",
    "Als Faustregel bei der Programmierung gilt, dass überall wo ein *Wert*, also ein *Literal* stehen kann, auch ein beliebiger *Ausdruck* mit dem entsprechenden *Typ* verwendet werden kann. Z.B. kann man auch für die Grenzen der Zahlenreihe Ausdrücke statt Zahlen schreiben."
   ],
   "id": "b43ff939b43a2226"
  },
  {
   "metadata": {
    "ExecuteTime": {
     "end_time": "2025-02-25T06:33:56.586357414Z",
     "start_time": "2025-02-25T06:33:56.410185107Z"
    }
   },
   "cell_type": "code",
   "source": [
    "for (i in 2 * 3 .. 3 * 3) {\n",
    "    println(i)\n",
    "}\n"
   ],
   "id": "e66c6eb45fbcf912",
   "outputs": [
    {
     "name": "stdout",
     "output_type": "stream",
     "text": [
      "6\n",
      "7\n",
      "8\n",
      "9\n"
     ]
    }
   ],
   "execution_count": 6
  },
  {
   "metadata": {},
   "cell_type": "markdown",
   "source": "Wir werden dies in Zukunft nicht bei jedem neuen Thema erklären.",
   "id": "711122efb81a0ac"
  }
 ],
 "metadata": {
  "kernelspec": {
   "display_name": "Kotlin",
   "language": "kotlin",
   "name": "kotlin"
  },
  "language_info": {
   "codemirror_mode": "text/x-kotlin",
   "file_extension": ".kt",
   "mimetype": "text/x-kotlin",
   "name": "kotlin",
   "nbconvert_exporter": "",
   "pygments_lexer": "kotlin",
   "version": "1.9.23"
  }
 },
 "nbformat": 4,
 "nbformat_minor": 5
}
