{
 "cells": [
  {
   "metadata": {},
   "cell_type": "markdown",
   "source": [
    "# Methoden\n",
    "\n",
    "Wir haben schon gesehen, dass wir eigene Datentypen definieren können"
   ]
  },
  {
   "cell_type": "code",
   "metadata": {
    "collapsed": true,
    "ExecuteTime": {
     "end_time": "2025-03-30T18:46:16.253939290Z",
     "start_time": "2025-03-30T18:46:16.168371312Z"
    }
   },
   "source": "data class Article(val name: String, val price: Int)",
   "outputs": [],
   "execution_count": 26
  },
  {
   "metadata": {},
   "cell_type": "markdown",
   "source": "und die Werte dieser Datentypen mit Funktionen verarbeiten können."
  },
  {
   "metadata": {
    "ExecuteTime": {
     "end_time": "2025-03-30T18:46:16.327196802Z",
     "start_time": "2025-03-30T18:46:16.265031829Z"
    }
   },
   "cell_type": "code",
   "source": "fun enoughMoney(article: Article, myMoney:Int) = article.price < myMoney",
   "outputs": [],
   "execution_count": 27
  },
  {
   "metadata": {},
   "cell_type": "markdown",
   "source": "Die Funktion `enoughMoney` wird immer mit einem Artikel aufgerufen. Auf dessen Eigenschaft `price` muss im Funktionskörper dann mit `.` zugegriffen werden.\n"
  },
  {
   "metadata": {
    "ExecuteTime": {
     "end_time": "2025-03-30T18:46:16.421902068Z",
     "start_time": "2025-03-30T18:46:16.337543574Z"
    }
   },
   "cell_type": "code",
   "source": [
    "val apple = Article(\"Apple\", 3)\n",
    "enoughMoney(apple, 4)"
   ],
   "outputs": [
    {
     "data": {
      "text/plain": [
       "true"
      ]
     },
     "execution_count": 28,
     "metadata": {},
     "output_type": "execute_result"
    }
   ],
   "execution_count": 28
  },
  {
   "metadata": {},
   "cell_type": "markdown",
   "source": "Wir können diese Funktion aber auch in die Definition der Datenklasse einbauen."
  },
  {
   "metadata": {
    "ExecuteTime": {
     "end_time": "2025-03-30T18:46:16.529278491Z",
     "start_time": "2025-03-30T18:46:16.430627427Z"
    }
   },
   "cell_type": "code",
   "source": [
    "data class Article(val name: String, val price: Int) {\n",
    "\n",
    "    fun enoughMoney(myMoney: Int) = price < myMoney\n",
    "}"
   ],
   "outputs": [],
   "execution_count": 29
  },
  {
   "metadata": {},
   "cell_type": "markdown",
   "source": [
    "Es ist jetzt nicht mehr nötig einen `Article` zu übergeben. Die Eigenschaften der Datenklasse können einfach im Funktionskörper verwendet werden.\n",
    "Für den Aufruf brauchen wir trotzdem einen Wert mit dem Typ `Article`."
   ]
  },
  {
   "metadata": {},
   "cell_type": "markdown",
   "source": "Der Aufruf von `enoughMoney` erfolgt dann mit einem Punkt hinter einem `Article`."
  },
  {
   "metadata": {
    "ExecuteTime": {
     "end_time": "2025-03-30T18:46:16.623704360Z",
     "start_time": "2025-03-30T18:46:16.540417921Z"
    }
   },
   "cell_type": "code",
   "source": [
    "val banana = Article(\"Banana\", 5)\n",
    "banana.enoughMoney(4)"
   ],
   "outputs": [
    {
     "data": {
      "text/plain": [
       "false"
      ]
     },
     "execution_count": 30,
     "metadata": {},
     "output_type": "execute_result"
    }
   ],
   "execution_count": 30
  },
  {
   "metadata": {},
   "cell_type": "markdown",
   "source": "Funktionen, die in einer Datenklasse definiert werden, nennt man *Methoden*."
  },
  {
   "metadata": {},
   "cell_type": "markdown",
   "source": [
    "## Zugriff auf das komplette Objekt\n",
    "\n",
    "Mit dem Schlüsselwort `this` kann in einer Methode, das Objekt mit dem eine Methode aufgerufen wurde, verwendet werden."
   ]
  },
  {
   "metadata": {
    "ExecuteTime": {
     "end_time": "2025-03-30T18:46:16.888660020Z",
     "start_time": "2025-03-30T18:46:16.700705461Z"
    }
   },
   "cell_type": "code",
   "source": [
    "data class Article(val name: String, val price: Int) {\n",
    "\n",
    "    fun cheaperArticle(other: Article) =  if (price < other.price) this else other\n",
    "}"
   ],
   "outputs": [],
   "execution_count": 31
  },
  {
   "metadata": {
    "ExecuteTime": {
     "end_time": "2025-03-30T18:46:16.999295741Z",
     "start_time": "2025-03-30T18:46:16.899065691Z"
    }
   },
   "cell_type": "code",
   "source": [
    "val strawberry = Article(\"Strawberry\", 2)\n",
    "val kiwi = Article(\"Kiwi\", 4)\n",
    "strawberry.cheaperArticle(kiwi)"
   ],
   "outputs": [
    {
     "data": {
      "text/plain": [
       "Article(name=Strawberry, price=2)"
      ]
     },
     "execution_count": 32,
     "metadata": {},
     "output_type": "execute_result"
    }
   ],
   "execution_count": 32
  }
 ],
 "metadata": {
  "kernelspec": {
   "display_name": "Kotlin",
   "language": "kotlin",
   "name": "kotlin"
  },
  "language_info": {
   "name": "kotlin",
   "version": "1.9.23",
   "mimetype": "text/x-kotlin",
   "file_extension": ".kt",
   "pygments_lexer": "kotlin",
   "codemirror_mode": "text/x-kotlin",
   "nbconvert_exporter": ""
  }
 },
 "nbformat": 4,
 "nbformat_minor": 0
}
