{
 "cells": [
  {
   "cell_type": "markdown",
   "id": "7531f3b9a5fdae5a",
   "metadata": {},
   "source": [
    "# Interaktive Programme\n",
    "\n",
    "## Programme außerhalb von Notebooks\n",
    "\n",
    "Wir haben bis jetzt all unseren Code in Notebookblöcken geschrieben. Bei der Ausführung eines Blocks werden alle *Statements* in diesem Block ausgeführt. Wenn das letzte Statement ein Ausdruck ist, wird dessen Wert angezeigt."
   ]
  },
  {
   "cell_type": "code",
   "id": "b9457421e12f0f57",
   "metadata": {
    "ExecuteTime": {
     "end_time": "2024-12-29T11:22:22.912957289Z",
     "start_time": "2024-12-29T11:22:22.741920919Z"
    }
   },
   "source": [
    "5 + 3\n",
    "2 * 7"
   ],
   "outputs": [
    {
     "data": {
      "text/plain": [
       "14"
      ]
     },
     "execution_count": 1,
     "metadata": {},
     "output_type": "execute_result"
    }
   ],
   "execution_count": 1
  },
  {
   "cell_type": "markdown",
   "id": "89dbf98ac5d54ed9",
   "metadata": {},
   "source": [
    "\n",
    "Die Ausführung von Code außerhalb von Notebooks funktioniert anders. Ein solches Programm braucht immer eine Funktion mit dem Namen ```main```. Diese Funktion wird bei der Ausführung des Programms ausgeführt. Es ist möglich neben dieser Funktion noch weitere Funktionen (und Variablen) zu definieren. Diese werden nur ausgeführt, wenn sie in der ```main```-Funktion verwendet werden."
   ]
  },
  {
   "cell_type": "code",
   "id": "184f1507c5a9b3ae",
   "metadata": {
    "ExecuteTime": {
     "end_time": "2024-12-29T11:22:23.015311892Z",
     "start_time": "2024-12-29T11:22:22.923177692Z"
    }
   },
   "source": [
    "fun main() {\n",
    "    //Statements, die \n",
    "    //ausgeführt werden\n",
    "}\n",
    "\n",
    "// Hilfsfunktionen und Variablen"
   ],
   "outputs": [],
   "execution_count": 2
  },
  {
   "cell_type": "markdown",
   "id": "48fc2b62-4bcf-4a55-a7a6-2b6114d122b2",
   "metadata": {},
   "source": [
    "## Motivation\n",
    "\n",
    "Der Zweck der Funktionen (bis auf Tests), die wir bisher geschrieben haben, war immer\n",
    "die Berechnung und *Rückgabe* eines *Werts*."
   ]
  },
  {
   "cell_type": "code",
   "id": "c6bb0c21-d429-4607-bd62-94a626825738",
   "metadata": {
    "ExecuteTime": {
     "end_time": "2024-12-29T11:22:23.125815839Z",
     "start_time": "2024-12-29T11:22:23.022741156Z"
    }
   },
   "source": [
    "fun greetBavarian(name: String): String {\n",
    "    return \"Servus \" + name\n",
    "} "
   ],
   "outputs": [],
   "execution_count": 3
  },
  {
   "cell_type": "code",
   "id": "80f0e4a7-fd42-49fa-a595-fe53ae6a807d",
   "metadata": {
    "ExecuteTime": {
     "end_time": "2024-12-29T11:22:23.221441823Z",
     "start_time": "2024-12-29T11:22:23.135498376Z"
    }
   },
   "source": [
    "greetBavarian(\"Ada\")"
   ],
   "outputs": [
    {
     "data": {
      "text/plain": [
       "Servus Ada"
      ]
     },
     "execution_count": 4,
     "metadata": {},
     "output_type": "execute_result"
    }
   ],
   "execution_count": 4
  },
  {
   "cell_type": "code",
   "id": "5f1dc148",
   "metadata": {
    "ExecuteTime": {
     "end_time": "2024-12-29T11:22:23.355470228Z",
     "start_time": "2024-12-29T11:22:23.232050851Z"
    }
   },
   "source": [
    "greetBavarian(\"Grace\") + \"!\""
   ],
   "outputs": [
    {
     "data": {
      "text/plain": [
       "Servus Grace!"
      ]
     },
     "execution_count": 5,
     "metadata": {},
     "output_type": "execute_result"
    }
   ],
   "execution_count": 5
  },
  {
   "cell_type": "markdown",
   "id": "488f80c3-82d6-4ae4-b393-ff0d5cca2d4a",
   "metadata": {},
   "source": [
    "<figure style=\"text-align:center\" >\n",
    "<img src=\"funktionsaufruf_strings_grafik_grace.svg\" style=\"width:25.0%; ; background-color:white;\" />\n",
    "\n",
    "<figcaption>Funktionsaufruf <code\n",
    "class=\"sourceCode kotlin\">greetBavarian(<span class=\"st\">\"Grace\"</span>)</code></figcaption>\n",
    "</figure>\n",
    "\n",
    "Wenn wir jedoch eine dieser Funktionen in einem Programm außerhalb eines Notebooks aufrufen, hat das\n",
    "für den Benutzer keinen sichtbaren Effekt. Der\n",
    "Funktionsaufruf/*Ausdruck* wird ausgewertet und der Interpreter fährt\n",
    "mit der nächsten Zeile fort."
   ]
  },
  {
   "cell_type": "markdown",
   "id": "2a4f7b16",
   "metadata": {},
   "source": [
    "\n",
    "[Klicke hier](https://pl.kotl.in/aydBQ-O0G)"
   ]
  },
  {
   "cell_type": "markdown",
   "id": "fad3c21c30dab5de",
   "metadata": {},
   "source": [
    "  \n",
    "Die Benutzerinnen eines Programms wollen aber nicht Funktionsaufrufe in\n",
    "die Shell eingegeben. Sie wollen einfach ein Skript/Programm\n",
    "ausführen/starten und dann etwas Nützliches angezeigt bekommen und unter\n",
    "Umständen etwas eingeben. In diesem Kapitel wollen wir uns anschauen,\n",
    "wie das funktioniert.\n",
    "\n",
    "## Ausgabe\n",
    "\n",
    "Um Werte bei der Ausführung eines Skripts anzuzeigen, können wir die Funktion `println` nutzen. Im Gegensatz zu allen Funktionen,\n",
    "die wir vorher gesehen haben, hat diese keinen interessanten\n",
    "Rückgabewert.\n",
    "\n",
    "\n",
    "Der Rückgabewert ist immer das Element `Unit`. Dies ist\n",
    "das einzige Element mit dem Typ `Unit`. Darin ist keinerlei\n",
    "Information gespeichert und es gibt keine Operatoren, die mit `Unit` rechnen können.\n",
    "\n",
    "\n",
    "Die Funktion `println` ist trotzdem sehr nützlich, weil\n",
    "sie ihr Argument an der Konsole ausgibt."
   ]
  },
  {
   "cell_type": "markdown",
   "id": "e4e5a9d78dbabc2d",
   "metadata": {},
   "source": [
    "[Klicke hier](https://pl.kotl.in/vVkXn2j-h)"
   ]
  },
  {
   "cell_type": "markdown",
   "id": "188334ff-3fac-4f2e-affb-ae304b150eb0",
   "metadata": {},
   "source": [
    "<figure style=\"text-align:center\">\n",
    "<img src=\"funktionsaufruf_print_hello.svg\" style=\"width:25.0%; ; background-color:white;\" />\n",
    "\n",
    "<figcaption>Funktionsaufruf <code\n",
    "class=\"sourceCode kotlin\"><span class=\"bu\">println</span>(<span class=\"st\">\"Hello\"</span>)</code></figcaption>\n",
    "</figure>\n",
    "\n",
    "<figure style=\"text-align:center\">\n",
    "<img src=\"verkettung_print_greet_bavarian.svg\" style=\"width:25.0%; ; background-color:white;\" />\n",
    "\n",
    "<figcaption>Funktionsaufruf <code\n",
    "class=\"sourceCode kotlin\"><span class=\"bu\">println</span>(greetBavarian(<span class=\"st\">\"Ada\"</span>))</code></figcaption>\n",
    "</figure>"
   ]
  },
  {
   "cell_type": "markdown",
   "id": "6c2bdf42",
   "metadata": {},
   "source": [
    "\n",
    "## Unterschiede zwischen Rückgabe und Ausgabe\n",
    "\n",
    "Es ist wichtig, sich den Unterschied zwischen der Rückgabe mit `return`\n",
    "und der Ausgabe mit `println` klarzumachen. Ein zurückgegebener *Wert*\n",
    "kann in einer Rechnung verwendet werden. Bei der Auswertung in einem\n",
    "Programm wird er aber nicht automatisch angezeigt.\n",
    "\n",
    "Mit der Funktion\n",
    "`println` können wir Werte an der Konsole ausgegeben. Diese Funktion gibt\n",
    "den Wert aber **nicht** zurück. Die Funktionen `greetBavarian` und\n",
    "`greetBavarianPrint` sehen deshalb sehr ähnlich aus. Sie sind aber\n",
    "trotzdem sehr unterschiedlich.\n"
   ]
  },
  {
   "cell_type": "code",
   "id": "1a5a83bb264ebe17",
   "metadata": {
    "ExecuteTime": {
     "end_time": "2024-12-29T11:22:23.576812933Z",
     "start_time": "2024-12-29T11:22:23.363494850Z"
    }
   },
   "source": [
    "fun greetBavarian(name: String): String {\n",
    "    return \"Servus \" + name\n",
    "}\n",
    "\n",
    "fun greetBavarianPrint(name: String): Unit {\n",
    "    println(\"Servus, \"  + name)\n",
    "} "
   ],
   "outputs": [],
   "execution_count": 6
  },
  {
   "cell_type": "code",
   "id": "f5b9d0e6-d957-4b8f-85db-ae47ad655cfa",
   "metadata": {
    "ExecuteTime": {
     "end_time": "2024-12-29T11:22:23.669082733Z",
     "start_time": "2024-12-29T11:22:23.587583135Z"
    }
   },
   "source": [
    "greetBavarianPrint(\"Ada\")"
   ],
   "outputs": [
    {
     "name": "stdout",
     "output_type": "stream",
     "text": [
      "Servus, Ada\n"
     ]
    }
   ],
   "execution_count": 7
  },
  {
   "cell_type": "markdown",
   "id": "af4bf4b8-45c3-433e-b275-45d5034a8cea",
   "metadata": {},
   "source": [
    "`Servus Ada` ist ein *Wert*, der von der Funktion `greetBavarianPrint`\n",
    "ausgegeben wurde. Dies ist auch bei einem normalen Programmablauf sichtbar.\n",
    "\n",
    "[Klicke hier](https://pl.kotl.in/Ji1uTRnRD)\n",
    "\n",
    "Die Rückgabe bei diesem Funktionsaufruf ist kein `String` sondern `Unit`.\n",
    "Dies wird deutlich, wenn man den Funktionsaufruf in einem\n",
    "Ausdruck verwendet."
   ]
  },
  {
   "cell_type": "code",
   "id": "4bdfb012-27d3-412a-b557-2323d8329a91",
   "metadata": {
    "ExecuteTime": {
     "end_time": "2024-12-29T11:22:23.984498117Z",
     "start_time": "2024-12-29T11:22:23.679237831Z"
    }
   },
   "source": [
    "greetBavarianPrint(\"Ada\") + \"!\""
   ],
   "outputs": [
    {
     "ename": "org.jetbrains.kotlinx.jupyter.exceptions.ReplCompilerException",
     "evalue": "at Cell In[8], line 1, column 27: Unresolved reference. None of the following candidates is applicable because of receiver type mismatch: \npublic inline operator fun BigDecimal.plus(other: BigDecimal): BigDecimal defined in kotlin\npublic inline operator fun BigInteger.plus(other: BigInteger): BigInteger defined in kotlin\npublic operator fun <T> Array<TypeVariable(T)>.plus(element: TypeVariable(T)): Array<TypeVariable(T)> defined in kotlin.collections\npublic operator fun <T> Array<TypeVariable(T)>.plus(elements: Array<out TypeVariable(T)>): Array<TypeVariable(T)> defined in kotlin.collections\npublic operator fun <T> Array<TypeVariable(T)>.plus(elements: Collection<TypeVariable(T)>): Array<TypeVariable(T)> defined in kotlin.collections\npublic operator fun BooleanArray.plus(element: Boolean): BooleanArray defined in kotlin.collections\npublic operator fun BooleanArray.plus(elements: BooleanArray): BooleanArray defined in kotlin.collections\npublic operator fun BooleanArray.plus(elements: Collection<Boolean>): BooleanArray defined in kotlin.collections\npublic operator fun ByteArray.plus(element: Byte): ByteArray defined in kotlin.collections\npublic operator fun ByteArray.plus(elements: ByteArray): ByteArray defined in kotlin.collections\npublic operator fun ByteArray.plus(elements: Collection<Byte>): ByteArray defined in kotlin.collections\npublic inline operator fun Char.plus(other: String): String defined in kotlin.text\npublic operator fun CharArray.plus(element: Char): CharArray defined in kotlin.collections\npublic operator fun CharArray.plus(elements: CharArray): CharArray defined in kotlin.collections\npublic operator fun CharArray.plus(elements: Collection<Char>): CharArray defined in kotlin.collections\npublic operator fun DoubleArray.plus(element: Double): DoubleArray defined in kotlin.collections\npublic operator fun DoubleArray.plus(elements: DoubleArray): DoubleArray defined in kotlin.collections\npublic operator fun DoubleArray.plus(elements: Collection<Double>): DoubleArray defined in kotlin.collections\npublic operator fun FloatArray.plus(element: Float): FloatArray defined in kotlin.collections\npublic operator fun FloatArray.plus(elements: FloatArray): FloatArray defined in kotlin.collections\npublic operator fun FloatArray.plus(elements: Collection<Float>): FloatArray defined in kotlin.collections\npublic operator fun IntArray.plus(element: Int): IntArray defined in kotlin.collections\npublic operator fun IntArray.plus(elements: IntArray): IntArray defined in kotlin.collections\npublic operator fun IntArray.plus(elements: Collection<Int>): IntArray defined in kotlin.collections\npublic operator fun LongArray.plus(element: Long): LongArray defined in kotlin.collections\npublic operator fun LongArray.plus(elements: LongArray): LongArray defined in kotlin.collections\npublic operator fun LongArray.plus(elements: Collection<Long>): LongArray defined in kotlin.collections\npublic operator fun ShortArray.plus(element: Short): ShortArray defined in kotlin.collections\npublic operator fun ShortArray.plus(elements: ShortArray): ShortArray defined in kotlin.collections\npublic operator fun ShortArray.plus(elements: Collection<Short>): ShortArray defined in kotlin.collections\npublic operator fun String?.plus(other: Any?): String defined in kotlin\npublic inline operator fun UByteArray.plus(element: UByte): UByteArray defined in kotlin.collections\npublic inline operator fun UByteArray.plus(elements: UByteArray): UByteArray defined in kotlin.collections\npublic operator fun UByteArray.plus(elements: Collection<UByte>): UByteArray defined in kotlin.collections\npublic inline operator fun UIntArray.plus(element: UInt): UIntArray defined in kotlin.collections\npublic inline operator fun UIntArray.plus(elements: UIntArray): UIntArray defined in kotlin.collections\npublic operator fun UIntArray.plus(elements: Collection<UInt>): UIntArray defined in kotlin.collections\npublic inline operator fun ULongArray.plus(element: ULong): ULongArray defined in kotlin.collections\npublic inline operator fun ULongArray.plus(elements: ULongArray): ULongArray defined in kotlin.collections\npublic operator fun ULongArray.plus(elements: Collection<ULong>): ULongArray defined in kotlin.collections\npublic inline operator fun UShortArray.plus(element: UShort): UShortArray defined in kotlin.collections\npublic inline operator fun UShortArray.plus(elements: UShortArray): UShortArray defined in kotlin.collections\npublic operator fun UShortArray.plus(elements: Collection<UShort>): UShortArray defined in kotlin.collections\npublic operator fun <T> Collection<TypeVariable(T)>.plus(element: TypeVariable(T)): List<TypeVariable(T)> defined in kotlin.collections\npublic operator fun <T> Collection<TypeVariable(T)>.plus(elements: Array<out TypeVariable(T)>): List<TypeVariable(T)> defined in kotlin.collections\npublic operator fun <T> Collection<TypeVariable(T)>.plus(elements: Iterable<TypeVariable(T)>): List<TypeVariable(T)> defined in kotlin.collections\npublic operator fun <T> Collection<TypeVariable(T)>.plus(elements: Sequence<TypeVariable(T)>): List<TypeVariable(T)> defined in kotlin.collections\npublic operator fun <T> Iterable<TypeVariable(T)>.plus(element: TypeVariable(T)): List<TypeVariable(T)> defined in kotlin.collections\npublic operator fun <T> Iterable<TypeVariable(T)>.plus(elements: Array<out TypeVariable(T)>): List<TypeVariable(T)> defined in kotlin.collections\npublic operator fun <T> Iterable<TypeVariable(T)>.plus(elements: Iterable<TypeVariable(T)>): List<TypeVariable(T)> defined in kotlin.collections\npublic operator fun <T> Iterable<TypeVariable(T)>.plus(elements: Sequence<TypeVariable(T)>): List<TypeVariable(T)> defined in kotlin.collections\npublic operator fun <K, V> Map<out TypeVariable(K), TypeVariable(V)>.plus(pairs: Array<out Pair<TypeVariable(K), TypeVariable(V)>>): Map<TypeVariable(K), TypeVariable(V)> defined in kotlin.collections\npublic operator fun <K, V> Map<out TypeVariable(K), TypeVariable(V)>.plus(pair: Pair<TypeVariable(K), TypeVariable(V)>): Map<TypeVariable(K), TypeVariable(V)> defined in kotlin.collections\npublic operator fun <K, V> Map<out TypeVariable(K), TypeVariable(V)>.plus(pairs: Iterable<Pair<TypeVariable(K), TypeVariable(V)>>): Map<TypeVariable(K), TypeVariable(V)> defined in kotlin.collections\npublic operator fun <K, V> Map<out TypeVariable(K), TypeVariable(V)>.plus(map: Map<out TypeVariable(K), TypeVariable(V)>): Map<TypeVariable(K), TypeVariable(V)> defined in kotlin.collections\npublic operator fun <K, V> Map<out TypeVariable(K), TypeVariable(V)>.plus(pairs: Sequence<Pair<TypeVariable(K), TypeVariable(V)>>): Map<TypeVariable(K), TypeVariable(V)> defined in kotlin.collections\npublic operator fun <T> Set<TypeVariable(T)>.plus(element: TypeVariable(T)): Set<TypeVariable(T)> defined in kotlin.collections\npublic operator fun <T> Set<TypeVariable(T)>.plus(elements: Array<out TypeVariable(T)>): Set<TypeVariable(T)> defined in kotlin.collections\npublic operator fun <T> Set<TypeVariable(T)>.plus(elements: Iterable<TypeVariable(T)>): Set<TypeVariable(T)> defined in kotlin.collections\npublic operator fun <T> Set<TypeVariable(T)>.plus(elements: Sequence<TypeVariable(T)>): Set<TypeVariable(T)> defined in kotlin.collections\npublic operator fun <T> Sequence<TypeVariable(T)>.plus(element: TypeVariable(T)): Sequence<TypeVariable(T)> defined in kotlin.sequences\npublic operator fun <T> Sequence<TypeVariable(T)>.plus(elements: Array<out TypeVariable(T)>): Sequence<TypeVariable(T)> defined in kotlin.sequences\npublic operator fun <T> Sequence<TypeVariable(T)>.plus(elements: Iterable<TypeVariable(T)>): Sequence<TypeVariable(T)> defined in kotlin.sequences\npublic operator fun <T> Sequence<TypeVariable(T)>.plus(elements: Sequence<TypeVariable(T)>): Sequence<TypeVariable(T)> defined in kotlin.sequences",
     "output_type": "error",
     "traceback": [
      "org.jetbrains.kotlinx.jupyter.exceptions.ReplCompilerException: at Cell In[8], line 1, column 27: Unresolved reference. None of the following candidates is applicable because of receiver type mismatch: ",
      "public inline operator fun BigDecimal.plus(other: BigDecimal): BigDecimal defined in kotlin",
      "public inline operator fun BigInteger.plus(other: BigInteger): BigInteger defined in kotlin",
      "public operator fun <T> Array<TypeVariable(T)>.plus(element: TypeVariable(T)): Array<TypeVariable(T)> defined in kotlin.collections",
      "public operator fun <T> Array<TypeVariable(T)>.plus(elements: Array<out TypeVariable(T)>): Array<TypeVariable(T)> defined in kotlin.collections",
      "public operator fun <T> Array<TypeVariable(T)>.plus(elements: Collection<TypeVariable(T)>): Array<TypeVariable(T)> defined in kotlin.collections",
      "public operator fun BooleanArray.plus(element: Boolean): BooleanArray defined in kotlin.collections",
      "public operator fun BooleanArray.plus(elements: BooleanArray): BooleanArray defined in kotlin.collections",
      "public operator fun BooleanArray.plus(elements: Collection<Boolean>): BooleanArray defined in kotlin.collections",
      "public operator fun ByteArray.plus(element: Byte): ByteArray defined in kotlin.collections",
      "public operator fun ByteArray.plus(elements: ByteArray): ByteArray defined in kotlin.collections",
      "public operator fun ByteArray.plus(elements: Collection<Byte>): ByteArray defined in kotlin.collections",
      "public inline operator fun Char.plus(other: String): String defined in kotlin.text",
      "public operator fun CharArray.plus(element: Char): CharArray defined in kotlin.collections",
      "public operator fun CharArray.plus(elements: CharArray): CharArray defined in kotlin.collections",
      "public operator fun CharArray.plus(elements: Collection<Char>): CharArray defined in kotlin.collections",
      "public operator fun DoubleArray.plus(element: Double): DoubleArray defined in kotlin.collections",
      "public operator fun DoubleArray.plus(elements: DoubleArray): DoubleArray defined in kotlin.collections",
      "public operator fun DoubleArray.plus(elements: Collection<Double>): DoubleArray defined in kotlin.collections",
      "public operator fun FloatArray.plus(element: Float): FloatArray defined in kotlin.collections",
      "public operator fun FloatArray.plus(elements: FloatArray): FloatArray defined in kotlin.collections",
      "public operator fun FloatArray.plus(elements: Collection<Float>): FloatArray defined in kotlin.collections",
      "public operator fun IntArray.plus(element: Int): IntArray defined in kotlin.collections",
      "public operator fun IntArray.plus(elements: IntArray): IntArray defined in kotlin.collections",
      "public operator fun IntArray.plus(elements: Collection<Int>): IntArray defined in kotlin.collections",
      "public operator fun LongArray.plus(element: Long): LongArray defined in kotlin.collections",
      "public operator fun LongArray.plus(elements: LongArray): LongArray defined in kotlin.collections",
      "public operator fun LongArray.plus(elements: Collection<Long>): LongArray defined in kotlin.collections",
      "public operator fun ShortArray.plus(element: Short): ShortArray defined in kotlin.collections",
      "public operator fun ShortArray.plus(elements: ShortArray): ShortArray defined in kotlin.collections",
      "public operator fun ShortArray.plus(elements: Collection<Short>): ShortArray defined in kotlin.collections",
      "public operator fun String?.plus(other: Any?): String defined in kotlin",
      "public inline operator fun UByteArray.plus(element: UByte): UByteArray defined in kotlin.collections",
      "public inline operator fun UByteArray.plus(elements: UByteArray): UByteArray defined in kotlin.collections",
      "public operator fun UByteArray.plus(elements: Collection<UByte>): UByteArray defined in kotlin.collections",
      "public inline operator fun UIntArray.plus(element: UInt): UIntArray defined in kotlin.collections",
      "public inline operator fun UIntArray.plus(elements: UIntArray): UIntArray defined in kotlin.collections",
      "public operator fun UIntArray.plus(elements: Collection<UInt>): UIntArray defined in kotlin.collections",
      "public inline operator fun ULongArray.plus(element: ULong): ULongArray defined in kotlin.collections",
      "public inline operator fun ULongArray.plus(elements: ULongArray): ULongArray defined in kotlin.collections",
      "public operator fun ULongArray.plus(elements: Collection<ULong>): ULongArray defined in kotlin.collections",
      "public inline operator fun UShortArray.plus(element: UShort): UShortArray defined in kotlin.collections",
      "public inline operator fun UShortArray.plus(elements: UShortArray): UShortArray defined in kotlin.collections",
      "public operator fun UShortArray.plus(elements: Collection<UShort>): UShortArray defined in kotlin.collections",
      "public operator fun <T> Collection<TypeVariable(T)>.plus(element: TypeVariable(T)): List<TypeVariable(T)> defined in kotlin.collections",
      "public operator fun <T> Collection<TypeVariable(T)>.plus(elements: Array<out TypeVariable(T)>): List<TypeVariable(T)> defined in kotlin.collections",
      "public operator fun <T> Collection<TypeVariable(T)>.plus(elements: Iterable<TypeVariable(T)>): List<TypeVariable(T)> defined in kotlin.collections",
      "public operator fun <T> Collection<TypeVariable(T)>.plus(elements: Sequence<TypeVariable(T)>): List<TypeVariable(T)> defined in kotlin.collections",
      "public operator fun <T> Iterable<TypeVariable(T)>.plus(element: TypeVariable(T)): List<TypeVariable(T)> defined in kotlin.collections",
      "public operator fun <T> Iterable<TypeVariable(T)>.plus(elements: Array<out TypeVariable(T)>): List<TypeVariable(T)> defined in kotlin.collections",
      "public operator fun <T> Iterable<TypeVariable(T)>.plus(elements: Iterable<TypeVariable(T)>): List<TypeVariable(T)> defined in kotlin.collections",
      "public operator fun <T> Iterable<TypeVariable(T)>.plus(elements: Sequence<TypeVariable(T)>): List<TypeVariable(T)> defined in kotlin.collections",
      "public operator fun <K, V> Map<out TypeVariable(K), TypeVariable(V)>.plus(pairs: Array<out Pair<TypeVariable(K), TypeVariable(V)>>): Map<TypeVariable(K), TypeVariable(V)> defined in kotlin.collections",
      "public operator fun <K, V> Map<out TypeVariable(K), TypeVariable(V)>.plus(pair: Pair<TypeVariable(K), TypeVariable(V)>): Map<TypeVariable(K), TypeVariable(V)> defined in kotlin.collections",
      "public operator fun <K, V> Map<out TypeVariable(K), TypeVariable(V)>.plus(pairs: Iterable<Pair<TypeVariable(K), TypeVariable(V)>>): Map<TypeVariable(K), TypeVariable(V)> defined in kotlin.collections",
      "public operator fun <K, V> Map<out TypeVariable(K), TypeVariable(V)>.plus(map: Map<out TypeVariable(K), TypeVariable(V)>): Map<TypeVariable(K), TypeVariable(V)> defined in kotlin.collections",
      "public operator fun <K, V> Map<out TypeVariable(K), TypeVariable(V)>.plus(pairs: Sequence<Pair<TypeVariable(K), TypeVariable(V)>>): Map<TypeVariable(K), TypeVariable(V)> defined in kotlin.collections",
      "public operator fun <T> Set<TypeVariable(T)>.plus(element: TypeVariable(T)): Set<TypeVariable(T)> defined in kotlin.collections",
      "public operator fun <T> Set<TypeVariable(T)>.plus(elements: Array<out TypeVariable(T)>): Set<TypeVariable(T)> defined in kotlin.collections",
      "public operator fun <T> Set<TypeVariable(T)>.plus(elements: Iterable<TypeVariable(T)>): Set<TypeVariable(T)> defined in kotlin.collections",
      "public operator fun <T> Set<TypeVariable(T)>.plus(elements: Sequence<TypeVariable(T)>): Set<TypeVariable(T)> defined in kotlin.collections",
      "public operator fun <T> Sequence<TypeVariable(T)>.plus(element: TypeVariable(T)): Sequence<TypeVariable(T)> defined in kotlin.sequences",
      "public operator fun <T> Sequence<TypeVariable(T)>.plus(elements: Array<out TypeVariable(T)>): Sequence<TypeVariable(T)> defined in kotlin.sequences",
      "public operator fun <T> Sequence<TypeVariable(T)>.plus(elements: Iterable<TypeVariable(T)>): Sequence<TypeVariable(T)> defined in kotlin.sequences",
      "public operator fun <T> Sequence<TypeVariable(T)>.plus(elements: Sequence<TypeVariable(T)>): Sequence<TypeVariable(T)> defined in kotlin.sequences",
      "\tat org.jetbrains.kotlinx.jupyter.repl.impl.JupyterCompilerImpl.compileSync(JupyterCompilerImpl.kt:208)",
      "\tat org.jetbrains.kotlinx.jupyter.repl.impl.InternalEvaluatorImpl.eval(InternalEvaluatorImpl.kt:126)",
      "\tat org.jetbrains.kotlinx.jupyter.repl.impl.CellExecutorImpl$execute$1$result$1.invoke(CellExecutorImpl.kt:80)",
      "\tat org.jetbrains.kotlinx.jupyter.repl.impl.CellExecutorImpl$execute$1$result$1.invoke(CellExecutorImpl.kt:78)",
      "\tat org.jetbrains.kotlinx.jupyter.repl.impl.ReplForJupyterImpl.withHost(ReplForJupyterImpl.kt:774)",
      "\tat org.jetbrains.kotlinx.jupyter.repl.impl.CellExecutorImpl.execute-L4Nmkdk(CellExecutorImpl.kt:78)",
      "\tat org.jetbrains.kotlinx.jupyter.repl.execution.CellExecutor$DefaultImpls.execute-L4Nmkdk$default(CellExecutor.kt:13)",
      "\tat org.jetbrains.kotlinx.jupyter.repl.impl.ReplForJupyterImpl.evaluateUserCode-wNURfNM(ReplForJupyterImpl.kt:596)",
      "\tat org.jetbrains.kotlinx.jupyter.repl.impl.ReplForJupyterImpl.evalExImpl(ReplForJupyterImpl.kt:454)",
      "\tat org.jetbrains.kotlinx.jupyter.repl.impl.ReplForJupyterImpl.access$evalExImpl(ReplForJupyterImpl.kt:141)",
      "\tat org.jetbrains.kotlinx.jupyter.repl.impl.ReplForJupyterImpl$evalEx$1.invoke(ReplForJupyterImpl.kt:447)",
      "\tat org.jetbrains.kotlinx.jupyter.repl.impl.ReplForJupyterImpl$evalEx$1.invoke(ReplForJupyterImpl.kt:446)",
      "\tat org.jetbrains.kotlinx.jupyter.repl.impl.ReplForJupyterImpl.withEvalContext(ReplForJupyterImpl.kt:427)",
      "\tat org.jetbrains.kotlinx.jupyter.repl.impl.ReplForJupyterImpl.evalEx(ReplForJupyterImpl.kt:446)",
      "\tat org.jetbrains.kotlinx.jupyter.messaging.IdeCompatibleMessageRequestProcessor$processExecuteRequest$1$response$1$1.invoke(IdeCompatibleMessageRequestProcessor.kt:171)",
      "\tat org.jetbrains.kotlinx.jupyter.messaging.IdeCompatibleMessageRequestProcessor$processExecuteRequest$1$response$1$1.invoke(IdeCompatibleMessageRequestProcessor.kt:170)",
      "\tat org.jetbrains.kotlinx.jupyter.streams.BlockingSubstitutionEngine.withDataSubstitution(SubstitutionEngine.kt:70)",
      "\tat org.jetbrains.kotlinx.jupyter.streams.StreamSubstitutionManager.withSubstitutedStreams(StreamSubstitutionManager.kt:118)",
      "\tat org.jetbrains.kotlinx.jupyter.messaging.IdeCompatibleMessageRequestProcessor.withForkedIn(IdeCompatibleMessageRequestProcessor.kt:347)",
      "\tat org.jetbrains.kotlinx.jupyter.messaging.IdeCompatibleMessageRequestProcessor.access$withForkedIn(IdeCompatibleMessageRequestProcessor.kt:67)",
      "\tat org.jetbrains.kotlinx.jupyter.messaging.IdeCompatibleMessageRequestProcessor$evalWithIO$1$1.invoke(IdeCompatibleMessageRequestProcessor.kt:361)",
      "\tat org.jetbrains.kotlinx.jupyter.streams.BlockingSubstitutionEngine.withDataSubstitution(SubstitutionEngine.kt:70)",
      "\tat org.jetbrains.kotlinx.jupyter.streams.StreamSubstitutionManager.withSubstitutedStreams(StreamSubstitutionManager.kt:118)",
      "\tat org.jetbrains.kotlinx.jupyter.messaging.IdeCompatibleMessageRequestProcessor.withForkedErr(IdeCompatibleMessageRequestProcessor.kt:336)",
      "\tat org.jetbrains.kotlinx.jupyter.messaging.IdeCompatibleMessageRequestProcessor.access$withForkedErr(IdeCompatibleMessageRequestProcessor.kt:67)",
      "\tat org.jetbrains.kotlinx.jupyter.messaging.IdeCompatibleMessageRequestProcessor$evalWithIO$1.invoke(IdeCompatibleMessageRequestProcessor.kt:360)",
      "\tat org.jetbrains.kotlinx.jupyter.streams.BlockingSubstitutionEngine.withDataSubstitution(SubstitutionEngine.kt:70)",
      "\tat org.jetbrains.kotlinx.jupyter.streams.StreamSubstitutionManager.withSubstitutedStreams(StreamSubstitutionManager.kt:118)",
      "\tat org.jetbrains.kotlinx.jupyter.messaging.IdeCompatibleMessageRequestProcessor.withForkedOut(IdeCompatibleMessageRequestProcessor.kt:328)",
      "\tat org.jetbrains.kotlinx.jupyter.messaging.IdeCompatibleMessageRequestProcessor.evalWithIO(IdeCompatibleMessageRequestProcessor.kt:359)",
      "\tat org.jetbrains.kotlinx.jupyter.messaging.IdeCompatibleMessageRequestProcessor$processExecuteRequest$1$response$1.invoke(IdeCompatibleMessageRequestProcessor.kt:170)",
      "\tat org.jetbrains.kotlinx.jupyter.messaging.IdeCompatibleMessageRequestProcessor$processExecuteRequest$1$response$1.invoke(IdeCompatibleMessageRequestProcessor.kt:169)",
      "\tat org.jetbrains.kotlinx.jupyter.execution.JupyterExecutorImpl$Task.execute(JupyterExecutorImpl.kt:41)",
      "\tat org.jetbrains.kotlinx.jupyter.execution.JupyterExecutorImpl$executorThread$1.invoke(JupyterExecutorImpl.kt:81)",
      "\tat org.jetbrains.kotlinx.jupyter.execution.JupyterExecutorImpl$executorThread$1.invoke(JupyterExecutorImpl.kt:79)",
      "\tat kotlin.concurrent.ThreadsKt$thread$thread$1.run(Thread.kt:30)",
      ""
     ]
    }
   ],
   "execution_count": 8
  },
  {
   "cell_type": "markdown",
   "id": "37b58924-7303-4e92-8ee8-86c0d6895a2d",
   "metadata": {},
   "source": [
    "Die Funktion `greetBavarianPrint` gibt `Servus Ada` aus. Sie gibt aber den *Wert* `Unit` zurück. Die\n",
    "Fehlermeldung sagt aus, dass das  `Unit`  und `\"!\"` nicht addiert werden können.\n",
    "\n",
    "Wenn wir an dieser Stelle die Funktion `greetBavarian` nutzen,\n",
    "tritt kein Fehler auf, da diese Funktion einen *String* zurückgibt."
   ]
  },
  {
   "cell_type": "code",
   "id": "9d9e1c71-6578-4ac0-aaf8-3a4f973dfb16",
   "metadata": {
    "ExecuteTime": {
     "end_time": "2024-12-29T11:22:24.025701041Z",
     "start_time": "2024-12-29T11:13:21.283407233Z"
    }
   },
   "source": [
    "greetBavarian(\"Ada\") + \"!\""
   ],
   "outputs": [
    {
     "data": {
      "text/plain": [
       "Servus Ada!"
      ]
     },
     "execution_count": 10,
     "metadata": {},
     "output_type": "execute_result"
    }
   ],
   "execution_count": 10
  },
  {
   "cell_type": "markdown",
   "id": "46e79931-bb59-41d2-a4b5-2bf0cb95af04",
   "metadata": {},
   "source": [
    "Der Unterschied wird auch deutlich, wenn man das Ergebnis dieser\n",
    "Funktionen in einer *Variablen* speichert."
   ]
  },
  {
   "cell_type": "code",
   "id": "db9e47cc-9189-4dbd-8099-068e84e39a3d",
   "metadata": {
    "ExecuteTime": {
     "end_time": "2024-12-29T11:22:24.027385242Z",
     "start_time": "2024-12-29T11:13:21.422005352Z"
    }
   },
   "source": [
    "val x = greetBavarian(\"Ada\")\n",
    "x"
   ],
   "outputs": [
    {
     "data": {
      "text/plain": [
       "Servus Ada"
      ]
     },
     "execution_count": 11,
     "metadata": {},
     "output_type": "execute_result"
    }
   ],
   "execution_count": 11
  },
  {
   "cell_type": "markdown",
   "id": "63b33bac-000a-4967-9de8-e284178ee99d",
   "metadata": {},
   "source": [
    "Bei der Zuweisung in der ersten Zeile wird der *Wert* von\n",
    "`greetBavarian(\"Ada\")` zwar berechnet und der *Variablen* zugewiesen.\n",
    "Es ist aber nichts zu sehen. Der *Wert* der *Variablen* `x` ist\n",
    "`\"Servus Ada\"` und wird deshalb nach der zweiten Zeile angezeigt.\n",
    "\n",
    "Bei der Verwendung von `greetBavarianPrint` ist etwas völlig anderes\n",
    "zu beobachten."
   ]
  },
  {
   "cell_type": "code",
   "id": "03dd494c-89ab-4551-b43b-a62c7863efb2",
   "metadata": {
    "ExecuteTime": {
     "end_time": "2024-12-29T11:22:24.031327863Z",
     "start_time": "2024-12-29T11:13:21.611008777Z"
    }
   },
   "source": [
    "val x = greetBavarianPrint(\"Ada\")\n",
    "x"
   ],
   "outputs": [
    {
     "name": "stdout",
     "output_type": "stream",
     "text": [
      "Servus, Ada\n"
     ]
    }
   ],
   "execution_count": 12
  },
  {
   "cell_type": "markdown",
   "id": "b54f391c-6428-4067-acdc-cbf77f7e2deb",
   "metadata": {},
   "source": [
    "Bei der Auswertung der rechten Seite der ersten Zeile wird der *Wert*\n",
    "zwar angezeigt. Da der *Rückgabewert* `Unit` ist, wird in der\n",
    "*Variablen* auch nur dieser *Wert* gespeichert. Dieser wird nach der\n",
    "letzten Zeile nicht angezeigt.\n",
    "\n",
    "Der letzte wichtige Unterschied ist, dass bei der Ausführung eines\n",
    "`return`-*Statements* die Funktion, die dieses beinhaltet, verlassen\n",
    "wird."
   ]
  },
  {
   "cell_type": "code",
   "id": "2b8b6664-d1e5-453c-a90c-8bc1d388a77a",
   "metadata": {
    "ExecuteTime": {
     "end_time": "2024-12-29T11:22:24.056439186Z",
     "start_time": "2024-12-29T11:13:21.711573857Z"
    }
   },
   "source": [
    "fun helloAndGoodbyeWrong(): String {\n",
    "    return \"Hello\"\n",
    "    println(\"Goodbye\")\n",
    "}"
   ],
   "outputs": [],
   "execution_count": 13
  },
  {
   "cell_type": "code",
   "id": "e1084a90-ae96-4115-9622-1ed3db973db9",
   "metadata": {
    "ExecuteTime": {
     "end_time": "2024-12-29T11:22:24.059128630Z",
     "start_time": "2024-12-29T11:13:21.861961047Z"
    }
   },
   "source": [
    "helloAndGoodbyeWrong()"
   ],
   "outputs": [
    {
     "data": {
      "text/plain": [
       "Hello"
      ]
     },
     "execution_count": 14,
     "metadata": {},
     "output_type": "execute_result"
    }
   ],
   "execution_count": 14
  },
  {
   "cell_type": "markdown",
   "id": "3ed10595-09ec-4081-87a5-f36ed69d0c33",
   "metadata": {},
   "source": [
    "Bei Aufrufen von `println` ist dies nicht der Fall."
   ]
  },
  {
   "cell_type": "code",
   "id": "c4503fb8-877d-4241-a84c-f5cfb258ec85",
   "metadata": {
    "ExecuteTime": {
     "end_time": "2024-12-29T11:22:24.071795737Z",
     "start_time": "2024-12-29T11:13:22.008909886Z"
    }
   },
   "source": [
    "fun printHelloAndGoodbye(): Unit{\n",
    "    println(\"Hello\")\n",
    "    println(\"Goodbye\")\n",
    "}"
   ],
   "outputs": [],
   "execution_count": 15
  },
  {
   "cell_type": "code",
   "id": "c5b79448-bf94-4e05-82cc-2d72ef953d24",
   "metadata": {
    "ExecuteTime": {
     "end_time": "2024-12-29T11:22:24.073387792Z",
     "start_time": "2024-12-29T11:13:22.145180059Z"
    }
   },
   "source": [
    "printHelloAndGoodbye()"
   ],
   "outputs": [
    {
     "name": "stdout",
     "output_type": "stream",
     "text": [
      "Hello\n",
      "Goodbye\n"
     ]
    }
   ],
   "execution_count": 16
  }
 ],
 "metadata": {
  "kernelspec": {
   "display_name": ".venv",
   "language": "kotlin",
   "name": "kotlin"
  }
 },
 "nbformat": 4,
 "nbformat_minor": 5
}
