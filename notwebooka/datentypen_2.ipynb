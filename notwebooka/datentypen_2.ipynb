{
 "cells": [
  {
   "metadata": {},
   "cell_type": "markdown",
   "source": [
    "# Datentypen 2\n",
    "\n",
    "## Explizite Typangabe\n",
    "\n",
    "In Kotlin ist es oft nicht nötig den Typ einer Variable anzugeben"
   ]
  },
  {
   "metadata": {
    "ExecuteTime": {
     "end_time": "2025-01-04T11:35:24.984876749Z",
     "start_time": "2025-01-04T11:35:24.934526112Z"
    }
   },
   "cell_type": "code",
   "source": "val x = 2",
   "outputs": [],
   "execution_count": 9
  },
  {
   "metadata": {},
   "cell_type": "markdown",
   "source": "Es ist aber **möglich** den Typ einer Variablen beim Initialisieren anzugeben. Dafür schreibt man einen Doppelpunkt und den Namen des Typs hinter den Namen der Variablen."
  },
  {
   "metadata": {
    "ExecuteTime": {
     "end_time": "2025-01-04T11:35:25.046785080Z",
     "start_time": "2025-01-04T11:35:24.991282804Z"
    }
   },
   "cell_type": "code",
   "source": "val y: Int = 3",
   "outputs": [],
   "execution_count": 10
  },
  {
   "metadata": {},
   "cell_type": "markdown",
   "source": "Wenn der Typ nicht zu dem Wert passt, wird eine Fehlermeldung angezeigt."
  },
  {
   "metadata": {
    "ExecuteTime": {
     "end_time": "2025-01-04T11:35:25.081734631Z",
     "start_time": "2025-01-04T11:35:25.054130328Z"
    }
   },
   "cell_type": "code",
   "source": "val z: String = 4",
   "outputs": [
    {
     "ename": "org.jetbrains.kotlinx.jupyter.exceptions.ReplCompilerException",
     "evalue": "at Cell In[11], line 1, column 17: The integer literal does not conform to the expected type String",
     "output_type": "error",
     "traceback": [
      "org.jetbrains.kotlinx.jupyter.exceptions.ReplCompilerException: at Cell In[11], line 1, column 17: The integer literal does not conform to the expected type String",
      "\tat org.jetbrains.kotlinx.jupyter.repl.impl.JupyterCompilerImpl.compileSync(JupyterCompilerImpl.kt:208)",
      "\tat org.jetbrains.kotlinx.jupyter.repl.impl.InternalEvaluatorImpl.eval(InternalEvaluatorImpl.kt:126)",
      "\tat org.jetbrains.kotlinx.jupyter.repl.impl.CellExecutorImpl$execute$1$result$1.invoke(CellExecutorImpl.kt:80)",
      "\tat org.jetbrains.kotlinx.jupyter.repl.impl.CellExecutorImpl$execute$1$result$1.invoke(CellExecutorImpl.kt:78)",
      "\tat org.jetbrains.kotlinx.jupyter.repl.impl.ReplForJupyterImpl.withHost(ReplForJupyterImpl.kt:774)",
      "\tat org.jetbrains.kotlinx.jupyter.repl.impl.CellExecutorImpl.execute-L4Nmkdk(CellExecutorImpl.kt:78)",
      "\tat org.jetbrains.kotlinx.jupyter.repl.execution.CellExecutor$DefaultImpls.execute-L4Nmkdk$default(CellExecutor.kt:13)",
      "\tat org.jetbrains.kotlinx.jupyter.repl.impl.ReplForJupyterImpl.evaluateUserCode-wNURfNM(ReplForJupyterImpl.kt:596)",
      "\tat org.jetbrains.kotlinx.jupyter.repl.impl.ReplForJupyterImpl.evalExImpl(ReplForJupyterImpl.kt:454)",
      "\tat org.jetbrains.kotlinx.jupyter.repl.impl.ReplForJupyterImpl.access$evalExImpl(ReplForJupyterImpl.kt:141)",
      "\tat org.jetbrains.kotlinx.jupyter.repl.impl.ReplForJupyterImpl$evalEx$1.invoke(ReplForJupyterImpl.kt:447)",
      "\tat org.jetbrains.kotlinx.jupyter.repl.impl.ReplForJupyterImpl$evalEx$1.invoke(ReplForJupyterImpl.kt:446)",
      "\tat org.jetbrains.kotlinx.jupyter.repl.impl.ReplForJupyterImpl.withEvalContext(ReplForJupyterImpl.kt:427)",
      "\tat org.jetbrains.kotlinx.jupyter.repl.impl.ReplForJupyterImpl.evalEx(ReplForJupyterImpl.kt:446)",
      "\tat org.jetbrains.kotlinx.jupyter.messaging.IdeCompatibleMessageRequestProcessor$processExecuteRequest$1$response$1$1.invoke(IdeCompatibleMessageRequestProcessor.kt:171)",
      "\tat org.jetbrains.kotlinx.jupyter.messaging.IdeCompatibleMessageRequestProcessor$processExecuteRequest$1$response$1$1.invoke(IdeCompatibleMessageRequestProcessor.kt:170)",
      "\tat org.jetbrains.kotlinx.jupyter.streams.BlockingSubstitutionEngine.withDataSubstitution(SubstitutionEngine.kt:70)",
      "\tat org.jetbrains.kotlinx.jupyter.streams.StreamSubstitutionManager.withSubstitutedStreams(StreamSubstitutionManager.kt:118)",
      "\tat org.jetbrains.kotlinx.jupyter.messaging.IdeCompatibleMessageRequestProcessor.withForkedIn(IdeCompatibleMessageRequestProcessor.kt:347)",
      "\tat org.jetbrains.kotlinx.jupyter.messaging.IdeCompatibleMessageRequestProcessor.access$withForkedIn(IdeCompatibleMessageRequestProcessor.kt:67)",
      "\tat org.jetbrains.kotlinx.jupyter.messaging.IdeCompatibleMessageRequestProcessor$evalWithIO$1$1.invoke(IdeCompatibleMessageRequestProcessor.kt:361)",
      "\tat org.jetbrains.kotlinx.jupyter.streams.BlockingSubstitutionEngine.withDataSubstitution(SubstitutionEngine.kt:70)",
      "\tat org.jetbrains.kotlinx.jupyter.streams.StreamSubstitutionManager.withSubstitutedStreams(StreamSubstitutionManager.kt:118)",
      "\tat org.jetbrains.kotlinx.jupyter.messaging.IdeCompatibleMessageRequestProcessor.withForkedErr(IdeCompatibleMessageRequestProcessor.kt:336)",
      "\tat org.jetbrains.kotlinx.jupyter.messaging.IdeCompatibleMessageRequestProcessor.access$withForkedErr(IdeCompatibleMessageRequestProcessor.kt:67)",
      "\tat org.jetbrains.kotlinx.jupyter.messaging.IdeCompatibleMessageRequestProcessor$evalWithIO$1.invoke(IdeCompatibleMessageRequestProcessor.kt:360)",
      "\tat org.jetbrains.kotlinx.jupyter.streams.BlockingSubstitutionEngine.withDataSubstitution(SubstitutionEngine.kt:70)",
      "\tat org.jetbrains.kotlinx.jupyter.streams.StreamSubstitutionManager.withSubstitutedStreams(StreamSubstitutionManager.kt:118)",
      "\tat org.jetbrains.kotlinx.jupyter.messaging.IdeCompatibleMessageRequestProcessor.withForkedOut(IdeCompatibleMessageRequestProcessor.kt:328)",
      "\tat org.jetbrains.kotlinx.jupyter.messaging.IdeCompatibleMessageRequestProcessor.evalWithIO(IdeCompatibleMessageRequestProcessor.kt:359)",
      "\tat org.jetbrains.kotlinx.jupyter.messaging.IdeCompatibleMessageRequestProcessor$processExecuteRequest$1$response$1.invoke(IdeCompatibleMessageRequestProcessor.kt:170)",
      "\tat org.jetbrains.kotlinx.jupyter.messaging.IdeCompatibleMessageRequestProcessor$processExecuteRequest$1$response$1.invoke(IdeCompatibleMessageRequestProcessor.kt:169)",
      "\tat org.jetbrains.kotlinx.jupyter.execution.JupyterExecutorImpl$Task.execute(JupyterExecutorImpl.kt:41)",
      "\tat org.jetbrains.kotlinx.jupyter.execution.JupyterExecutorImpl$executorThread$1.invoke(JupyterExecutorImpl.kt:81)",
      "\tat org.jetbrains.kotlinx.jupyter.execution.JupyterExecutorImpl$executorThread$1.invoke(JupyterExecutorImpl.kt:79)",
      "\tat kotlin.concurrent.ThreadsKt$thread$thread$1.run(Thread.kt:30)",
      ""
     ]
    }
   ],
   "execution_count": 11
  },
  {
   "metadata": {},
   "cell_type": "markdown",
   "source": [
    "\n",
    "\n",
    "## Funktionen mit dem gleichen Namen\n",
    "\n",
    "Es ist möglich, mehrere Funktionen mit denselben Namen zu definieren. Dafür müssen sich aber die Typen der Parameter unterscheiden."
   ]
  },
  {
   "metadata": {
    "ExecuteTime": {
     "end_time": "2025-01-04T11:36:02.151813613Z",
     "start_time": "2025-01-04T11:36:02.036961025Z"
    }
   },
   "cell_type": "code",
   "source": [
    "fun inc(n: Int) = n +1\n",
    "\n",
    "fun inc(s: String) = s + \" + 1\""
   ],
   "outputs": [],
   "execution_count": 12
  },
  {
   "metadata": {},
   "cell_type": "markdown",
   "source": "Der Compiler prüft beim Funktionsaufruf welche Typen die Argumente haben und ruft die richtige Funktion auf."
  },
  {
   "metadata": {
    "ExecuteTime": {
     "end_time": "2025-01-04T11:36:02.255854547Z",
     "start_time": "2025-01-04T11:36:02.159136995Z"
    }
   },
   "cell_type": "code",
   "source": "inc(5)",
   "outputs": [
    {
     "data": {
      "text/plain": [
       "6"
      ]
     },
     "execution_count": 13,
     "metadata": {},
     "output_type": "execute_result"
    }
   ],
   "execution_count": 13
  },
  {
   "metadata": {
    "ExecuteTime": {
     "end_time": "2025-01-04T11:36:02.355338291Z",
     "start_time": "2025-01-04T11:36:02.267864939Z"
    }
   },
   "cell_type": "code",
   "source": "inc(\"5\")",
   "outputs": [
    {
     "data": {
      "text/plain": [
       "5 + 1"
      ]
     },
     "execution_count": 14,
     "metadata": {},
     "output_type": "execute_result"
    }
   ],
   "execution_count": 14
  },
  {
   "metadata": {},
   "cell_type": "markdown",
   "source": [
    "# Typvariablen\n",
    "\n",
    "Die Funktion `getFirst` gibt das erste Element einer Liste von Integern zurück."
   ]
  },
  {
   "metadata": {
    "ExecuteTime": {
     "end_time": "2025-01-04T11:36:02.497389942Z",
     "start_time": "2025-01-04T11:36:02.362845326Z"
    }
   },
   "cell_type": "code",
   "source": "fun getFirst(xs: List<Int>): Int = xs[0]",
   "outputs": [],
   "execution_count": 15
  },
  {
   "metadata": {},
   "cell_type": "markdown",
   "source": "Wenn wir jetzt eine Funktion schreiben, die den ersten Character in einer Liste zurückgibt, wird fast der ganze Code wiederholt."
  },
  {
   "metadata": {
    "ExecuteTime": {
     "end_time": "2025-01-04T11:36:02.582090308Z",
     "start_time": "2025-01-04T11:36:02.510349842Z"
    }
   },
   "cell_type": "code",
   "source": "fun getFirst(xs: List<Boolean>): Boolean = xs[0]",
   "outputs": [],
   "execution_count": 16
  },
  {
   "metadata": {},
   "cell_type": "markdown",
   "source": [
    "Der einzige Unterschied in der Implementierung der beiden Funktionen ist der Typ, der in spitzen Klammern hinter `List` und als Rückgabetyp angegeben wird.\n",
    "\n",
    "Um die Codewiederholung zu vermeiden, können wir eine Typvariable an dieser Stelle verwenden. Diese ist ein Platzhalter für einen konkreten Typ wie `Int` oder `Boolean`. Als Variablenname verwenden wir ein großes `T`:\n",
    "\n",
    "Der Parameter ist dann\n",
    "\n",
    "`xs: List<T>`\n",
    "\n",
    "und der Rückgabetyp ist\n",
    "\n",
    "`T`\n",
    "\n",
    "Wir müssen jetzt noch vor dem Funktionsnamen die Typvariable definieren. Dafür schreibt man den Namen der Typvariablen in spitzen Klammen vor dem Funktionsnamen."
   ]
  },
  {
   "metadata": {
    "ExecuteTime": {
     "end_time": "2025-01-04T11:36:02.702875433Z",
     "start_time": "2025-01-04T11:36:02.590431665Z"
    }
   },
   "cell_type": "code",
   "source": "fun <T> getFirst(xs: List<T>): T = xs[0]",
   "outputs": [],
   "execution_count": 17
  },
  {
   "metadata": {},
   "cell_type": "markdown",
   "source": [
    "Der Funktionskopf kann folgendermaßen gelesen werden: *Die Elemente in `xs` haben alle denselben Typ `T`. Die Funktion gibt ein Element vom Typ `T` zurück*.\n",
    "\n",
    "\n",
    "Beim Aufruf wird jetzt die Typvariable `T` durch einen konkreten Typ und der Parameter `xs` durch eine konkrete Liste mit Elementen von diesem Typ ersetzt."
   ]
  },
  {
   "metadata": {
    "ExecuteTime": {
     "end_time": "2025-01-04T11:36:03.135734778Z",
     "start_time": "2025-01-04T11:36:02.832338624Z"
    }
   },
   "cell_type": "code",
   "source": [
    "val myIntList = listOf(5, 2, 3)\n",
    "\n",
    "getFirst<Int>(myIntList)"
   ],
   "outputs": [
    {
     "data": {
      "text/plain": [
       "5"
      ]
     },
     "execution_count": 18,
     "metadata": {},
     "output_type": "execute_result"
    }
   ],
   "execution_count": 18
  },
  {
   "metadata": {
    "ExecuteTime": {
     "end_time": "2025-01-04T11:36:03.431235311Z",
     "start_time": "2025-01-04T11:36:03.220377686Z"
    }
   },
   "cell_type": "code",
   "source": [
    "val myBoolList = listOf(true, false)\n",
    "\n",
    "getFirst<Boolean>(myBoolList)"
   ],
   "outputs": [
    {
     "data": {
      "text/plain": [
       "true"
      ]
     },
     "execution_count": 19,
     "metadata": {},
     "output_type": "execute_result"
    }
   ],
   "execution_count": 19
  },
  {
   "metadata": {},
   "cell_type": "markdown",
   "source": "Der Compiler kann sich den konkreten Typ oft (aber nicht immer) selbst erschließen."
  },
  {
   "metadata": {
    "ExecuteTime": {
     "end_time": "2025-01-04T11:36:03.788515806Z",
     "start_time": "2025-01-04T11:36:03.612047503Z"
    }
   },
   "cell_type": "code",
   "source": "getFirst(myBoolList)",
   "outputs": [
    {
     "data": {
      "text/plain": [
       "true"
      ]
     },
     "execution_count": 20,
     "metadata": {},
     "output_type": "execute_result"
    }
   ],
   "execution_count": 20
  },
  {
   "metadata": {},
   "cell_type": "markdown",
   "source": [
    "## Funktionen mit mehreren Typvariablen\n",
    "\n",
    "Genau so, wie man Funktionen mit mehreren Parametern definieren kann, ist es möglich Funktionen mit mehreren Typvariablen zu definieren. Wie die Parameter von Funktionen werden diese durch Kommas getrennt."
   ]
  },
  {
   "metadata": {
    "ExecuteTime": {
     "end_time": "2025-01-04T11:36:04.274006015Z",
     "start_time": "2025-01-04T11:36:03.876526271Z"
    }
   },
   "cell_type": "code",
   "source": "fun <T, S> ifEqualFirstElseSecond(a: T, b: T,  xs: List<S>): S = if (a == b) xs[0] else xs[1]",
   "outputs": [],
   "execution_count": 21
  },
  {
   "metadata": {
    "ExecuteTime": {
     "end_time": "2025-01-04T11:36:04.523903367Z",
     "start_time": "2025-01-04T11:36:04.291788872Z"
    }
   },
   "cell_type": "code",
   "source": "ifEqualFirstElseSecond(\"hello\", \"hella\", listOf(4, 9))",
   "outputs": [
    {
     "data": {
      "text/plain": [
       "9"
      ]
     },
     "execution_count": 22,
     "metadata": {},
     "output_type": "execute_result"
    }
   ],
   "execution_count": 22
  },
  {
   "metadata": {
    "ExecuteTime": {
     "end_time": "2025-01-04T11:38:57.712974397Z",
     "start_time": "2025-01-04T11:38:57.565431217Z"
    }
   },
   "cell_type": "code",
   "source": "ifEqualFirstElseSecond(1, 1, listOf('u', 'a'))",
   "outputs": [
    {
     "data": {
      "text/plain": [
       "u"
      ]
     },
     "execution_count": 25,
     "metadata": {},
     "output_type": "execute_result"
    }
   ],
   "execution_count": 25
  }
 ],
 "metadata": {
  "kernelspec": {
   "display_name": "Kotlin",
   "language": "kotlin",
   "name": "kotlin"
  },
  "language_info": {
   "name": "kotlin",
   "version": "1.9.23",
   "mimetype": "text/x-kotlin",
   "file_extension": ".kt",
   "pygments_lexer": "kotlin",
   "codemirror_mode": "text/x-kotlin",
   "nbconvert_exporter": ""
  }
 },
 "nbformat": 4,
 "nbformat_minor": 0
}
